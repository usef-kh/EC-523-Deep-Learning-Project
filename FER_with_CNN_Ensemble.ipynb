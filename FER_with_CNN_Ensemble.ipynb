{
  "nbformat": 4,
  "nbformat_minor": 0,
  "metadata": {
    "colab": {
      "name": "Untitled",
      "provenance": [],
      "collapsed_sections": [],
      "include_colab_link": true
    },
    "kernelspec": {
      "name": "python3",
      "display_name": "Python 3"
    },
    "accelerator": "GPU"
  },
  "cells": [
    {
      "cell_type": "markdown",
      "metadata": {
        "id": "view-in-github",
        "colab_type": "text"
      },
      "source": [
        "<a href=\"https://colab.research.google.com/github/usef-kh/EC523-Deep-Learning-Project/blob/master/FER_with_CNN_Ensemble.ipynb\" target=\"_parent\"><img src=\"https://colab.research.google.com/assets/colab-badge.svg\" alt=\"Open In Colab\"/></a>"
      ]
    },
    {
      "cell_type": "markdown",
      "metadata": {
        "id": "lnO2nvqpALPj"
      },
      "source": [
        "## Setup"
      ]
    },
    {
      "cell_type": "code",
      "metadata": {
        "id": "9cWGQl78U9wy",
        "outputId": "5cfb45d0-da83-463a-b007-38cd8f61ab98",
        "colab": {
          "base_uri": "https://localhost:8080/",
          "height": 34
        }
      },
      "source": [
        "!git clone \"https://github.com/usef-kh/EC523-Deep-Learning-Project.git\""
      ],
      "execution_count": 63,
      "outputs": [
        {
          "output_type": "stream",
          "text": [
            "fatal: destination path 'EC523-Deep-Learning-Project' already exists and is not an empty directory.\n"
          ],
          "name": "stdout"
        }
      ]
    },
    {
      "cell_type": "code",
      "metadata": {
        "id": "HgKnn2ux6Pgp",
        "outputId": "aeb9a723-05ba-4e76-8539-d89f77bb03cb",
        "colab": {
          "base_uri": "https://localhost:8080/",
          "height": 34
        }
      },
      "source": [
        "!pip install unrar"
      ],
      "execution_count": 64,
      "outputs": [
        {
          "output_type": "stream",
          "text": [
            "Requirement already satisfied: unrar in /usr/local/lib/python3.6/dist-packages (0.4)\n"
          ],
          "name": "stdout"
        }
      ]
    },
    {
      "cell_type": "code",
      "metadata": {
        "id": "mtrv6tM-Xq2n",
        "outputId": "0f9cd732-55a6-4b09-9529-a57a3e57b741",
        "colab": {
          "base_uri": "https://localhost:8080/",
          "height": 289
        }
      },
      "source": [
        "# !unrar x \"EC523-Deep-Learning-Project/datasets/ckplus.rar\"\n",
        "!unrar e \"EC523-Deep-Learning-Project/datasets/fer2013.rar\""
      ],
      "execution_count": 65,
      "outputs": [
        {
          "output_type": "stream",
          "text": [
            "\n",
            "UNRAR 5.50 freeware      Copyright (c) 1993-2017 Alexander Roshal\n",
            "\n",
            "\n",
            "Extracting from EC523-Deep-Learning-Project/datasets/fer2013.rar\n",
            "\n",
            "\n",
            "Would you like to replace the existing file fer2013.csv\n",
            "301108654 bytes, modified on 2020-10-14 22:59\n",
            "with a new one\n",
            "301108654 bytes, modified on 2020-10-14 22:59\n",
            "\n",
            "[Y]es, [N]o, [A]ll, n[E]ver, [R]ename, [Q]uit y\n",
            "\n",
            "Extracting  fer2013.csv                                                  \b\b\b\b  4%\b\b\b\b  9%\b\b\b\b 13%\b\b\b\b 18%\b\b\b\b 23%\b\b\b\b 27%\b\b\b\b 32%\b\b\b\b 37%\b\b\b\b 41%\b\b\b\b 46%\b\b\b\b 51%\b\b\b\b 55%\b\b\b\b 60%\b\b\b\b 65%\b\b\b\b 69%\b\b\b\b 74%\b\b\b\b 79%\b\b\b\b 83%\b\b\b\b 88%\b\b\b\b 93%\b\b\b\b 97%\b\b\b\b 99%\b\b\b\b\b  OK \n",
            "All OK\n"
          ],
          "name": "stdout"
        }
      ]
    },
    {
      "cell_type": "markdown",
      "metadata": {
        "id": "rN_6jQNFAH8t"
      },
      "source": [
        "##Imports"
      ]
    },
    {
      "cell_type": "code",
      "metadata": {
        "id": "kQ-kmOyAAHLn"
      },
      "source": [
        "import pandas as pd\n",
        "import numpy as np\n",
        "\n",
        "import torch\n",
        "import torch.nn as nn\n",
        "import torch.nn.functional as F\n",
        "import torchvision\n",
        "import torchvision.transforms as transforms\n",
        "from torch import optim\n",
        "from torch.utils.data import Dataset, DataLoader\n",
        "from PIL import Image\n",
        "\n",
        "import matplotlib.pyplot as plt\n",
        "\n",
        "device = torch.device(\"cuda:0\" if torch.cuda.is_available() else \"cpu\")"
      ],
      "execution_count": 122,
      "outputs": []
    },
    {
      "cell_type": "markdown",
      "metadata": {
        "id": "KBi_q71MAOLY"
      },
      "source": [
        "##Load Dataset"
      ]
    },
    {
      "cell_type": "code",
      "metadata": {
        "id": "LflyoA8EXNXS"
      },
      "source": [
        "fer2013 = pd.read_csv('fer2013.csv') \n",
        "emotions = {0: 'Angry', 1: 'Disgust', 2: 'Fear', 3: 'Happy', 4: 'Sad', 5: 'Surprise', 6: 'Neutral'}\n",
        "fer2013.head()\n",
        "\n",
        "transform = transforms.Normalize(mean=129.4456, std = 1)\n",
        "\n",
        "def prepare_data(data):\n",
        "    \"\"\" Prepare data for modeling \n",
        "        input: data frame with labels und pixel data\n",
        "        output: image and label array \"\"\"\n",
        "    \n",
        "    image_array = np.zeros(shape=(len(data), 48, 48))\n",
        "    image_label = np.array(list(map(int, data['emotion'])))\n",
        "    \n",
        "    for i, row in enumerate(data.index):\n",
        "        image = np.fromstring(data.loc[row, 'pixels'], dtype=int, sep=' ')\n",
        "        image = np.reshape(image, (48, 48))\n",
        "        image_array[i] = image\n",
        "        \n",
        "    return image_array, image_label\n",
        "\n",
        "xtrain, ytrain = prepare_data(fer2013[fer2013['Usage'] == 'Training'])\n",
        "xval , yval = prepare_data(fer2013[fer2013['Usage'] == 'PrivateTest'])\n",
        "xtest, ytest = prepare_data(fer2013[fer2013['Usage'] == 'PublicTest'])"
      ],
      "execution_count": 164,
      "outputs": []
    },
    {
      "cell_type": "code",
      "metadata": {
        "id": "KewwltZObFw7"
      },
      "source": [
        "class Fer2013(Dataset):\n",
        "    def __init__(self, images, labels, transform=None):\n",
        "        self.images = images\n",
        "        self.labels = labels\n",
        "        self.transform = transform        \n",
        "        # self.emotions = {0: 'Angry', 1: 'Disgust', 2: 'Fear', 3: 'Happy', 4: 'Sad', 5: 'Surprise', 6: 'Neutral'}\n",
        "    \n",
        "    def __len__(self):\n",
        "        return len(self.images)\n",
        "\n",
        "    def __getitem__(self, idx):\n",
        "        if torch.is_tensor(idx):\n",
        "            idx = idx.tolist()\n",
        "\n",
        "        img = Image.fromarray(self.images[idx])\n",
        "        # img = torch.from_numpy(self.images[idx]).type(torch.DoubleTensor)\n",
        "        # img = img.unsqueeze(0)\n",
        "\n",
        "        if self.transform:\n",
        "            img = self.transform(img)\n",
        "\n",
        "        label = torch.tensor(self.labels[idx]).type(torch.long)\n",
        "        # sample = {'image': img, 'emotion': label}\n",
        "        sample = (img, label)\n",
        "        return sample\n",
        "\n",
        "transform = transforms.Compose([\n",
        "                    transforms.RandomHorizontalFlip(),\n",
        "                    transforms.ToTensor(),\n",
        "                    transforms.Normalize(mean=129.4456, std = 1)\n",
        "                    ]) \n",
        "#129.4456\n",
        "train = Fer2013(xtrain, ytrain, transform)\n",
        "val = Fer2013(xval, yval, transform)\n",
        "test = Fer2013(xtest, ytest, transform)"
      ],
      "execution_count": 189,
      "outputs": []
    },
    {
      "cell_type": "code",
      "metadata": {
        "id": "4CNfljyWXpD6",
        "outputId": "79b651c3-6e2b-4240-dad6-7239226fc0bb",
        "colab": {
          "base_uri": "https://localhost:8080/",
          "height": 1000
        }
      },
      "source": [
        "def imshow(img):\n",
        "    npimg = img.numpy()\n",
        "    plt.imshow(npimg, cmap='gray')\n",
        "    \n",
        "for i in range(10):\n",
        "    img, label = train[i]\n",
        "    plt.figure()\n",
        "    imshow(img.squeeze(0))\n",
        "    plt.show()"
      ],
      "execution_count": 188,
      "outputs": [
        {
          "output_type": "display_data",
          "data": {
            "image/png": "[encoded data removed]",
            "text/plain": [
              "<Figure size 432x288 with 1 Axes>"
            ]
          },
          "metadata": {
            "tags": [],
            "needs_background": "light"
          }
        },
        {
          "output_type": "display_data",
          "data": {
            "image/png": "[encoded data removed]",
            "text/plain": [
              "<Figure size 432x288 with 1 Axes>"
            ]
          },
          "metadata": {
            "tags": [],
            "needs_background": "light"
          }
        },
        {
          "output_type": "display_data",
          "data": {
            "image/png": "[encoded data removed]",
            "text/plain": [
              "<Figure size 432x288 with 1 Axes>"
            ]
          },
          "metadata": {
            "tags": [],
            "needs_background": "light"
          }
        },
        {
          "output_type": "display_data",
          "data": {
            "image/png": "[encoded data removed]",
            "text/plain": [
              "<Figure size 432x288 with 1 Axes>"
            ]
          },
          "metadata": {
            "tags": [],
            "needs_background": "light"
          }
        },
        {
          "output_type": "display_data",
          "data": {
            "image/png": "[encoded data removed]",
            "text/plain": [
              "<Figure size 432x288 with 1 Axes>"
            ]
          },
          "metadata": {
            "tags": [],
            "needs_background": "light"
          }
        },
        {
          "output_type": "display_data",
          "data": {
            "image/png": "[encoded data removed]",
            "text/plain": [
              "<Figure size 432x288 with 1 Axes>"
            ]
          },
          "metadata": {
            "tags": [],
            "needs_background": "light"
          }
        },
        {
          "output_type": "display_data",
          "data": {
            "image/png": "[encoded data removed]",
            "text/plain": [
              "<Figure size 432x288 with 1 Axes>"
            ]
          },
          "metadata": {
            "tags": [],
            "needs_background": "light"
          }
        },
        {
          "output_type": "display_data",
          "data": {
            "image/png": "[encoded data removed]",
            "text/plain": [
              "<Figure size 432x288 with 1 Axes>"
            ]
          },
          "metadata": {
            "tags": [],
            "needs_background": "light"
          }
        },
        {
          "output_type": "display_data",
          "data": {
            "image/png": "[encoded data removed]",
            "text/plain": [
              "<Figure size 432x288 with 1 Axes>"
            ]
          },
          "metadata": {
            "tags": [],
            "needs_background": "light"
          }
        },
        {
          "output_type": "display_data",
          "data": {
            "image/png": "[encoded data removed]",
            "text/plain": [
              "<Figure size 432x288 with 1 Axes>"
            ]
          },
          "metadata": {
            "tags": [],
            "needs_background": "light"
          }
        }
      ]
    },
    {
      "cell_type": "code",
      "metadata": {
        "id": "mgoZGn-yaw3k"
      },
      "source": [
        "trainloader = torch.utils.data.DataLoader(train, batch_size=100, shuffle=True, num_workers=2)\n",
        "valloader = torch.utils.data.DataLoader(val, batch_size=100, shuffle=True, num_workers=2)\n",
        "testloader = torch.utils.data.DataLoader(test, batch_size=100, shuffle=True, num_workers=2)"
      ],
      "execution_count": 190,
      "outputs": []
    },
    {
      "cell_type": "code",
      "metadata": {
        "id": "uay8jj5yLmZI",
        "outputId": "5b56b4bd-b2b5-487a-c27b-e0dcee445517",
        "colab": {
          "base_uri": "https://localhost:8080/",
          "height": 34
        }
      },
      "source": [
        "dataiter = iter(trainloader)\n",
        "images, labels = dataiter.next()\n",
        "\n",
        "print(\"Batch Images Shape:\", images.shape)\n",
        "print(\"Batch Labels Shape:\", labels.shape)"
      ],
      "execution_count": 205,
      "outputs": [
        {
          "output_type": "stream",
          "text": [
            "torch.Size([100, 1, 48, 48]) torch.Size([100])\n"
          ],
          "name": "stdout"
        }
      ]
    },
    {
      "cell_type": "markdown",
      "metadata": {
        "id": "MIEFhmKoCyZ1"
      },
      "source": [
        "##Model"
      ]
    },
    {
      "cell_type": "code",
      "metadata": {
        "id": "gV0nfy_5CzwG"
      },
      "source": [
        "class Subnet1(nn.Module):\n",
        "    def __init__(self):\n",
        "        super(Subnet1, self).__init__()\n",
        "        # Not sure about number of in channels, may have to change!\n",
        "        self.conv1 = nn.Conv2d(in_channels=1, out_channels=64, kernel_size=3, padding=1) # according to paper!\n",
        "        self.pool = nn.MaxPool2d(kernel_size=2,stride=2)\n",
        "        self.conv2 = nn.Conv2d(64,128,3,padding=1)\n",
        "        self.conv3 = nn.Conv2d(128, 256, 3, padding=1)\n",
        "\n",
        "        self.lin1 = nn.Linear(256*6*6, 4096) # Will have to change input size\n",
        "        self.lin2 = nn.Linear(4096, 4096)\n",
        "        self.lin3 = nn.Linear(4096, 7)\n",
        "        \n",
        "        #self.drop = nn.Dropout(0.2)\n",
        "\n",
        "    def forward(self, x):\n",
        "        x = F.relu(self.conv1(x))\n",
        "        #print(\"shape after 1 conv layer: \", x.shape)\n",
        "        x = self.pool(x)\n",
        "\n",
        "        x = F.relu(self.conv2(x))\n",
        "        #print(\"shape after 2 conv layer: \", x.shape)\n",
        "        x = self.pool(x)\n",
        "\n",
        "        x = F.relu(self.conv3(x))\n",
        "        #print(\"shape after 3 conv layer: \", x.shape)\n",
        "        x = self.pool(x)\n",
        "\n",
        "        # print(\"shape before linear layers!!: \", x.shape)\n",
        "\n",
        "        x = x.view(-1, 256*6*6) # will have to change!\n",
        "        # print(\"reshaped\", x.shape)\n",
        "        x = F.relu(self.lin1(x))\n",
        "        x = F.relu(self.lin2(x))\n",
        "        x = self.lin3(x)\n",
        "\n",
        "        return x"
      ],
      "execution_count": 221,
      "outputs": []
    },
    {
      "cell_type": "markdown",
      "metadata": {
        "id": "BCuMQu5bF5nE"
      },
      "source": [
        "##Training"
      ]
    },
    {
      "cell_type": "code",
      "metadata": {
        "id": "wME97MptDeex"
      },
      "source": [
        "net = Subnet1()\n",
        "net = net.to(device)"
      ],
      "execution_count": 222,
      "outputs": []
    },
    {
      "cell_type": "code",
      "metadata": {
        "id": "ACcirLVUPzUd"
      },
      "source": [
        "criterion = nn.CrossEntropyLoss()\n",
        "optimizer = optim.SGD(net.parameters(), lr=0.01, momentum=0.9)"
      ],
      "execution_count": 223,
      "outputs": []
    },
    {
      "cell_type": "code",
      "metadata": {
        "id": "3asDIi_yDQLW"
      },
      "source": [
        "def train_model(net, trainloader, valloader, n_epochs=20):\n",
        "\n",
        "    train_loss = []\n",
        "    val_loss = []\n",
        "    num = 10\n",
        "    for epoch in range(n_epochs):\n",
        "        print(\"Training\")\n",
        "        net = net.train()\n",
        "        running_loss = 0.0\n",
        "        for i, data in enumerate(trainloader):\n",
        "            inputs, labels = data\n",
        "            inputs, labels = inputs.to(device), labels.to(device)\n",
        "            \n",
        "            # zero the parameter gradients\n",
        "            optimizer.zero_grad()\n",
        "            \n",
        "            # forward + backward + optimize\n",
        "            outputs = net(inputs)\n",
        "            loss = criterion(outputs, labels)\n",
        "            loss.backward()\n",
        "            optimizer.step()\n",
        "            \n",
        "            # print statistics\n",
        "            running_loss += loss.item()\n",
        "            if i % num == num - 1 :    \n",
        "                print('[%d, %5d] loss: %.3f' %(epoch + 1, i + 1, running_loss / num))\n",
        "                train_loss.append(running_loss / num)\n",
        "                running_loss = 0.0\n",
        "        \n",
        "        print(\"Validating\")\n",
        "        net = net.eval()\n",
        "        running_loss = 0.0\n",
        "        for i, data in enumerate(valloader):\n",
        "            inputs, labels = data\n",
        "            inputs, labels = inputs.to(device), labels.to(device)\n",
        "\n",
        "            outputs = net(inputs)\n",
        "            loss = criterion(outputs, labels)\n",
        "\n",
        "            # print statistics\n",
        "            running_loss += loss.item()\n",
        "            if i % num == num - 1:    \n",
        "                print('[%d, %5d] loss: %.3f' %(epoch + 1, i + 1, running_loss / num))\n",
        "                val_loss.append(running_loss / num)\n",
        "                running_loss = 0.0\n",
        "\n",
        "    return train_loss, val_loss"
      ],
      "execution_count": 224,
      "outputs": []
    },
    {
      "cell_type": "code",
      "metadata": {
        "id": "Xl64GIKACQr2"
      },
      "source": [
        "def test_model(net, dataloader):\n",
        "    \n",
        "    net = net.eval()\n",
        "\n",
        "    correct_count, n_sampels = 0.0, 0.0\n",
        "    for data in dataloader:\n",
        "        # seperate data to X, y and more info to GPU\n",
        "        inputs, labels = data\n",
        "        inputs, labels = inputs.to(device), labels.to(device)\n",
        "\n",
        "        outputs = net(inputs)\n",
        "        _, preds = torch.max(outputs.data, 1)\n",
        "        correct_count += (preds == labels).sum().item()\n",
        "        n_sampels += labels.size(0)\n",
        "    \n",
        "    acc = 100 * correct_count / n_sampels\n",
        "    \n",
        "    return acc"
      ],
      "execution_count": 225,
      "outputs": []
    },
    {
      "cell_type": "code",
      "metadata": {
        "id": "9npmfIq5FgZ1",
        "outputId": "57408d96-febc-4fab-a31e-16697ba80c7d",
        "colab": {
          "base_uri": "https://localhost:8080/",
          "height": 1000
        }
      },
      "source": [
        "train_loss, val_loss = train_model(net, trainloader, valloader, n_epochs=6)"
      ],
      "execution_count": 226,
      "outputs": [
        {
          "output_type": "stream",
          "text": [
            "Training\n",
            "[1,    10] loss: 4.452\n",
            "[1,    20] loss: 1.980\n",
            "[1,    30] loss: 1.963\n",
            "[1,    40] loss: 1.818\n",
            "[1,    50] loss: 1.806\n",
            "[1,    60] loss: 1.802\n",
            "[1,    70] loss: 1.813\n",
            "[1,    80] loss: 1.817\n",
            "[1,    90] loss: 1.794\n",
            "[1,   100] loss: 1.780\n",
            "[1,   110] loss: 1.754\n",
            "[1,   120] loss: 1.746\n",
            "[1,   130] loss: 1.747\n",
            "[1,   140] loss: 1.723\n",
            "[1,   150] loss: 1.749\n",
            "[1,   160] loss: 1.680\n",
            "[1,   170] loss: 1.626\n",
            "[1,   180] loss: 1.629\n",
            "[1,   190] loss: 1.608\n",
            "[1,   200] loss: 1.603\n",
            "[1,   210] loss: 1.612\n",
            "[1,   220] loss: 1.631\n",
            "[1,   230] loss: 1.622\n",
            "[1,   240] loss: 1.609\n",
            "[1,   250] loss: 1.602\n",
            "[1,   260] loss: 1.550\n",
            "[1,   270] loss: 1.524\n",
            "[1,   280] loss: 1.525\n",
            "Validating\n",
            "[1,    10] loss: 1.566\n",
            "[1,    20] loss: 1.564\n",
            "[1,    30] loss: 1.606\n",
            "Training\n",
            "[2,    10] loss: 1.570\n",
            "[2,    20] loss: 1.529\n",
            "[2,    30] loss: 1.508\n",
            "[2,    40] loss: 1.534\n",
            "[2,    50] loss: 1.522\n",
            "[2,    60] loss: 1.478\n",
            "[2,    70] loss: 1.484\n",
            "[2,    80] loss: 1.433\n",
            "[2,    90] loss: 1.406\n",
            "[2,   100] loss: 1.463\n",
            "[2,   110] loss: 1.451\n",
            "[2,   120] loss: 1.453\n",
            "[2,   130] loss: 1.436\n",
            "[2,   140] loss: 1.407\n",
            "[2,   150] loss: 1.402\n",
            "[2,   160] loss: 1.434\n",
            "[2,   170] loss: 1.393\n",
            "[2,   180] loss: 1.496\n",
            "[2,   190] loss: 1.345\n",
            "[2,   200] loss: 1.427\n",
            "[2,   210] loss: 1.392\n",
            "[2,   220] loss: 1.401\n",
            "[2,   230] loss: 1.386\n",
            "[2,   240] loss: 1.397\n",
            "[2,   250] loss: 1.449\n",
            "[2,   260] loss: 1.414\n",
            "[2,   270] loss: 1.409\n",
            "[2,   280] loss: 1.390\n",
            "Validating\n",
            "[2,    10] loss: 1.496\n",
            "[2,    20] loss: 1.419\n",
            "[2,    30] loss: 1.446\n",
            "Training\n",
            "[3,    10] loss: 1.347\n",
            "[3,    20] loss: 1.376\n",
            "[3,    30] loss: 1.318\n",
            "[3,    40] loss: 1.364\n",
            "[3,    50] loss: 1.264\n",
            "[3,    60] loss: 1.335\n",
            "[3,    70] loss: 1.328\n",
            "[3,    80] loss: 1.345\n",
            "[3,    90] loss: 1.323\n",
            "[3,   100] loss: 1.270\n",
            "[3,   110] loss: 1.273\n",
            "[3,   120] loss: 1.347\n",
            "[3,   130] loss: 1.287\n",
            "[3,   140] loss: 1.340\n",
            "[3,   150] loss: 1.280\n",
            "[3,   160] loss: 1.310\n",
            "[3,   170] loss: 1.314\n",
            "[3,   180] loss: 1.378\n",
            "[3,   190] loss: 1.293\n",
            "[3,   200] loss: 1.323\n",
            "[3,   210] loss: 1.332\n",
            "[3,   220] loss: 1.269\n",
            "[3,   230] loss: 1.300\n",
            "[3,   240] loss: 1.301\n",
            "[3,   250] loss: 1.310\n",
            "[3,   260] loss: 1.271\n",
            "[3,   270] loss: 1.236\n",
            "[3,   280] loss: 1.324\n",
            "Validating\n",
            "[3,    10] loss: 1.285\n",
            "[3,    20] loss: 1.291\n",
            "[3,    30] loss: 1.325\n",
            "Training\n",
            "[4,    10] loss: 1.177\n",
            "[4,    20] loss: 1.253\n",
            "[4,    30] loss: 1.218\n",
            "[4,    40] loss: 1.203\n",
            "[4,    50] loss: 1.239\n",
            "[4,    60] loss: 1.266\n",
            "[4,    70] loss: 1.256\n",
            "[4,    80] loss: 1.234\n",
            "[4,    90] loss: 1.257\n",
            "[4,   100] loss: 1.246\n",
            "[4,   110] loss: 1.266\n",
            "[4,   120] loss: 1.259\n",
            "[4,   130] loss: 1.239\n",
            "[4,   140] loss: 1.193\n",
            "[4,   150] loss: 1.237\n",
            "[4,   160] loss: 1.205\n",
            "[4,   170] loss: 1.195\n",
            "[4,   180] loss: 1.280\n",
            "[4,   190] loss: 1.257\n",
            "[4,   200] loss: 1.196\n",
            "[4,   210] loss: 1.190\n",
            "[4,   220] loss: 1.305\n",
            "[4,   230] loss: 1.244\n",
            "[4,   240] loss: 1.275\n",
            "[4,   250] loss: 1.212\n",
            "[4,   260] loss: 1.201\n",
            "[4,   270] loss: 1.226\n",
            "[4,   280] loss: 1.195\n",
            "Validating\n",
            "[4,    10] loss: 1.273\n",
            "[4,    20] loss: 1.250\n",
            "[4,    30] loss: 1.226\n",
            "Training\n",
            "[5,    10] loss: 1.197\n",
            "[5,    20] loss: 1.186\n",
            "[5,    30] loss: 1.130\n",
            "[5,    40] loss: 1.146\n",
            "[5,    50] loss: 1.144\n",
            "[5,    60] loss: 1.158\n",
            "[5,    70] loss: 1.130\n",
            "[5,    80] loss: 1.085\n",
            "[5,    90] loss: 1.115\n",
            "[5,   100] loss: 1.118\n",
            "[5,   110] loss: 1.102\n",
            "[5,   120] loss: 1.193\n",
            "[5,   130] loss: 1.189\n",
            "[5,   140] loss: 1.104\n",
            "[5,   150] loss: 1.174\n",
            "[5,   160] loss: 1.206\n",
            "[5,   170] loss: 1.127\n",
            "[5,   180] loss: 1.095\n",
            "[5,   190] loss: 1.227\n",
            "[5,   200] loss: 1.129\n",
            "[5,   210] loss: 1.133\n",
            "[5,   220] loss: 1.180\n",
            "[5,   230] loss: 1.111\n",
            "[5,   240] loss: 1.185\n",
            "[5,   250] loss: 1.234\n",
            "[5,   260] loss: 1.185\n",
            "[5,   270] loss: 1.166\n",
            "[5,   280] loss: 1.190\n",
            "Validating\n",
            "[5,    10] loss: 1.260\n",
            "[5,    20] loss: 1.244\n",
            "[5,    30] loss: 1.262\n",
            "Training\n",
            "[6,    10] loss: 1.124\n",
            "[6,    20] loss: 1.088\n",
            "[6,    30] loss: 1.024\n",
            "[6,    40] loss: 1.067\n",
            "[6,    50] loss: 1.082\n",
            "[6,    60] loss: 1.065\n",
            "[6,    70] loss: 1.022\n",
            "[6,    80] loss: 1.060\n",
            "[6,    90] loss: 1.110\n",
            "[6,   100] loss: 1.093\n",
            "[6,   110] loss: 1.120\n",
            "[6,   120] loss: 1.130\n",
            "[6,   130] loss: 1.110\n",
            "[6,   140] loss: 1.083\n",
            "[6,   150] loss: 1.055\n",
            "[6,   160] loss: 1.062\n",
            "[6,   170] loss: 1.030\n",
            "[6,   180] loss: 1.073\n",
            "[6,   190] loss: 1.057\n",
            "[6,   200] loss: 1.077\n",
            "[6,   210] loss: 1.126\n",
            "[6,   220] loss: 1.147\n",
            "[6,   230] loss: 1.061\n",
            "[6,   240] loss: 1.052\n",
            "[6,   250] loss: 1.125\n",
            "[6,   260] loss: 1.087\n",
            "[6,   270] loss: 1.136\n",
            "[6,   280] loss: 1.095\n",
            "Validating\n",
            "[6,    10] loss: 1.286\n",
            "[6,    20] loss: 1.294\n",
            "[6,    30] loss: 1.287\n"
          ],
          "name": "stdout"
        }
      ]
    },
    {
      "cell_type": "code",
      "metadata": {
        "id": "GaGNnlXTJdeG",
        "outputId": "b8975a5b-9351-45d4-ddf4-978cc1cda5e6",
        "colab": {
          "base_uri": "https://localhost:8080/",
          "height": 573
        }
      },
      "source": [
        "plt.figure()\n",
        "plt.plot(train_loss, 'g', label='Training loss')\n",
        "plt.title('Training loss')\n",
        "plt.xlabel('Iteration')\n",
        "plt.ylabel('Loss')\n",
        "plt.legend()\n",
        "plt.show()\n",
        "\n",
        "plt.figure()\n",
        "plt.plot(val_loss, 'b', label='Validation loss')\n",
        "plt.title('Validation loss')\n",
        "plt.xlabel('Iteration')\n",
        "plt.ylabel('Loss')\n",
        "plt.legend()\n",
        "plt.show()"
      ],
      "execution_count": 227,
      "outputs": [
        {
          "output_type": "display_data",
          "data": {
            "image/png": "[encoded data removed]",
            "text/plain": [
              "<Figure size 432x288 with 1 Axes>"
            ]
          },
          "metadata": {
            "tags": [],
            "needs_background": "light"
          }
        },
        {
          "output_type": "display_data",
          "data": {
            "image/png": "[encoded data removed]",
            "text/plain": [
              "<Figure size 432x288 with 1 Axes>"
            ]
          },
          "metadata": {
            "tags": [],
            "needs_background": "light"
          }
        }
      ]
    },
    {
      "cell_type": "code",
      "metadata": {
        "id": "x6wJ1rUzBupg",
        "outputId": "2815634d-870b-46e5-a52d-678ee9452ca3",
        "colab": {
          "base_uri": "https://localhost:8080/",
          "height": 68
        }
      },
      "source": [
        "acc = []\n",
        "dataloaders = [trainloader, valloader, testloader]\n",
        "for loader in dataloaders:\n",
        "    acc.append(test_model(net, loader))\n",
        "\n",
        "print('Train Accuracy: %d %%' % (acc[0]))\n",
        "print('Val Accuracy: %d %%' % (acc[1]))\n",
        "print('Test Accuracy: %d %%' % (acc[2]))"
      ],
      "execution_count": 228,
      "outputs": [
        {
          "output_type": "stream",
          "text": [
            "Train Accuracy: 60 %\n",
            "Val Accuracy: 50 %\n",
            "Test Accuracy: 51 %\n"
          ],
          "name": "stdout"
        }
      ]
    },
    {
      "cell_type": "code",
      "metadata": {
        "id": "xPLQjXTEzHI4"
      },
      "source": [
        "torch.save(net.state_dict(), \"subnet1\")"
      ],
      "execution_count": 229,
      "outputs": []
    }
  ]
}