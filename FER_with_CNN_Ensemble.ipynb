{
  "nbformat": 4,
  "nbformat_minor": 0,
  "metadata": {
    "colab": {
      "name": "Untitled (1).ipynb",
      "provenance": [],
      "collapsed_sections": [],
      "toc_visible": true,
      "include_colab_link": true
    },
    "kernelspec": {
      "name": "python3",
      "display_name": "Python 3"
    },
    "accelerator": "GPU"
  },
  "cells": [
    {
      "cell_type": "markdown",
      "metadata": {
        "id": "view-in-github",
        "colab_type": "text"
      },
      "source": [
        "<a href=\"https://colab.research.google.com/github/usef-kh/EC523-Deep-Learning-Project/blob/master/FER_with_CNN_Ensemble.ipynb\" target=\"_parent\"><img src=\"https://colab.research.google.com/assets/colab-badge.svg\" alt=\"Open In Colab\"/></a>"
      ]
    },
    {
      "cell_type": "markdown",
      "metadata": {
        "id": "lnO2nvqpALPj"
      },
      "source": [
        "## Setup"
      ]
    },
    {
      "cell_type": "code",
      "metadata": {
        "id": "9cWGQl78U9wy",
        "outputId": "ab646a8d-fa24-4a6b-9424-aa8108c2d6a9",
        "colab": {
          "base_uri": "https://localhost:8080/",
          "height": 119
        }
      },
      "source": [
        "!git clone \"https://github.com/usef-kh/EC523-Deep-Learning-Project.git\""
      ],
      "execution_count": 1,
      "outputs": [
        {
          "output_type": "stream",
          "text": [
            "Cloning into 'EC523-Deep-Learning-Project'...\n",
            "remote: Enumerating objects: 34, done.\u001b[K\n",
            "remote: Counting objects: 100% (34/34), done.\u001b[K\n",
            "remote: Compressing objects: 100% (33/33), done.\u001b[K\n",
            "remote: Total 74 (delta 11), reused 6 (delta 1), pack-reused 40\u001b[K\n",
            "Unpacking objects: 100% (74/74), done.\n"
          ],
          "name": "stdout"
        }
      ]
    },
    {
      "cell_type": "code",
      "metadata": {
        "id": "HgKnn2ux6Pgp",
        "outputId": "f807647d-512e-49e0-ed65-f56469b451c4",
        "colab": {
          "base_uri": "https://localhost:8080/",
          "height": 105
        }
      },
      "source": [
        "!pip install unrar"
      ],
      "execution_count": 2,
      "outputs": [
        {
          "output_type": "stream",
          "text": [
            "Collecting unrar\n",
            "  Downloading https://files.pythonhosted.org/packages/bb/0b/53130ccd483e3db8c8a460cb579bdb21b458d5494d67a261e1a5b273fbb9/unrar-0.4-py3-none-any.whl\n",
            "Installing collected packages: unrar\n",
            "Successfully installed unrar-0.4\n"
          ],
          "name": "stdout"
        }
      ]
    },
    {
      "cell_type": "code",
      "metadata": {
        "id": "mtrv6tM-Xq2n",
        "outputId": "6ce3bcdd-b59c-44be-d48d-79763df852ee",
        "colab": {
          "base_uri": "https://localhost:8080/",
          "height": 153
        }
      },
      "source": [
        "# !unrar x \"EC523-Deep-Learning-Project/datasets/ckplus.rar\"\n",
        "!unrar e \"EC523-Deep-Learning-Project/datasets/fer2013.rar\""
      ],
      "execution_count": 3,
      "outputs": [
        {
          "output_type": "stream",
          "text": [
            "\n",
            "UNRAR 5.50 freeware      Copyright (c) 1993-2017 Alexander Roshal\n",
            "\n",
            "\n",
            "Extracting from EC523-Deep-Learning-Project/datasets/fer2013.rar\n",
            "\n",
            "Extracting  fer2013.csv                                                  \b\b\b\b  4%\b\b\b\b  9%\b\b\b\b 13%\b\b\b\b 18%\b\b\b\b 23%\b\b\b\b 27%\b\b\b\b 32%\b\b\b\b 37%\b\b\b\b 41%\b\b\b\b 46%\b\b\b\b 51%\b\b\b\b 55%\b\b\b\b 60%\b\b\b\b 65%\b\b\b\b 69%\b\b\b\b 74%\b\b\b\b 79%\b\b\b\b 83%\b\b\b\b 88%\b\b\b\b 93%\b\b\b\b 97%\b\b\b\b 99%\b\b\b\b\b  OK \n",
            "All OK\n"
          ],
          "name": "stdout"
        }
      ]
    },
    {
      "cell_type": "markdown",
      "metadata": {
        "id": "rN_6jQNFAH8t"
      },
      "source": [
        "##Imports"
      ]
    },
    {
      "cell_type": "code",
      "metadata": {
        "id": "kQ-kmOyAAHLn"
      },
      "source": [
        "import pandas as pd\n",
        "import numpy as np\n",
        "\n",
        "import torch\n",
        "import torch.nn as nn\n",
        "import torch.nn.functional as F\n",
        "import torchvision\n",
        "import torchvision.transforms as transforms\n",
        "from torch import optim\n",
        "from torch.utils.data import Dataset, DataLoader\n",
        "from PIL import Image\n",
        "\n",
        "import matplotlib.pyplot as plt\n",
        "\n",
        "import warnings\n",
        "warnings.filterwarnings(\"ignore\")\n",
        "\n",
        "device = torch.device(\"cuda:0\" if torch.cuda.is_available() else \"cpu\")"
      ],
      "execution_count": 4,
      "outputs": []
    },
    {
      "cell_type": "markdown",
      "metadata": {
        "id": "KBi_q71MAOLY"
      },
      "source": [
        "##Load Dataset"
      ]
    },
    {
      "cell_type": "code",
      "metadata": {
        "id": "LflyoA8EXNXS"
      },
      "source": [
        "fer2013 = pd.read_csv('fer2013.csv') \n",
        "emotions = {0: 'Angry', 1: 'Disgust', 2: 'Fear', 3: 'Happy', 4: 'Sad', 5: 'Surprise', 6: 'Neutral'}\n",
        "fer2013.head()\n",
        "\n",
        "transform = transforms.Normalize(mean=129.4456, std = 1)\n",
        "\n",
        "def prepare_data(data):\n",
        "    \"\"\" Prepare data for modeling \n",
        "        input: data frame with labels und pixel data\n",
        "        output: image and label array \"\"\"\n",
        "    \n",
        "    image_array = np.zeros(shape=(len(data), 48, 48))\n",
        "    image_label = np.array(list(map(int, data['emotion'])))\n",
        "    \n",
        "    for i, row in enumerate(data.index):\n",
        "        image = np.fromstring(data.loc[row, 'pixels'], dtype=int, sep=' ')\n",
        "        image = np.reshape(image, (48, 48))\n",
        "        image_array[i] = image\n",
        "        \n",
        "    return image_array, image_label\n",
        "\n",
        "xtrain, ytrain = prepare_data(fer2013[fer2013['Usage'] == 'Training'])\n",
        "xval , yval = prepare_data(fer2013[fer2013['Usage'] == 'PrivateTest'])\n",
        "xtest, ytest = prepare_data(fer2013[fer2013['Usage'] == 'PublicTest'])"
      ],
      "execution_count": 5,
      "outputs": []
    },
    {
      "cell_type": "code",
      "metadata": {
        "id": "KewwltZObFw7"
      },
      "source": [
        "class Fer2013(Dataset):\n",
        "    def __init__(self, images, labels, transform=None):\n",
        "        self.images = images\n",
        "        self.labels = labels\n",
        "        self.transform = transform        \n",
        "        \n",
        "    def __len__(self):\n",
        "        return len(self.images)\n",
        "\n",
        "    def __getitem__(self, idx):\n",
        "        if torch.is_tensor(idx):\n",
        "            idx = idx.tolist()\n",
        "\n",
        "        img = Image.fromarray(self.images[idx])\n",
        "        \n",
        "        if self.transform:\n",
        "            img = self.transform(img)\n",
        "\n",
        "        label = torch.tensor(self.labels[idx]).type(torch.long)\n",
        "        sample = (img, label)\n",
        "        \n",
        "        return sample\n",
        "\n",
        "\n",
        "# mu, st = 129.4456, 255\n",
        "mu, st = 0, 255\n",
        "train_transform = transforms.Compose([\n",
        "                    transforms.RandomResizedCrop(48, scale=(0.8, 1.0)),\n",
        "                    transforms.RandomHorizontalFlip(),\n",
        "                    transforms.RandomRotation(10),\n",
        "                    transforms.ToTensor(),\n",
        "                    transforms.Normalize(mean=mu, std = st)\n",
        "                    ]) \n",
        "\n",
        "test_transform = transforms.Compose([\n",
        "                    transforms.ToTensor(),\n",
        "                    transforms.Normalize(mean=mu, std = st)\n",
        "                    ])\n",
        "\n",
        "train = Fer2013(xtrain, ytrain, train_transform)\n",
        "val = Fer2013(xval, yval, test_transform)\n",
        "test = Fer2013(xtest, ytest, test_transform)"
      ],
      "execution_count": 6,
      "outputs": []
    },
    {
      "cell_type": "code",
      "metadata": {
        "id": "mgoZGn-yaw3k"
      },
      "source": [
        "trainloader = torch.utils.data.DataLoader(train, batch_size=100, shuffle=True, num_workers=2)\n",
        "valloader = torch.utils.data.DataLoader(val, batch_size=100, shuffle=True, num_workers=2)\n",
        "testloader = torch.utils.data.DataLoader(test, batch_size=100, shuffle=True, num_workers=2)"
      ],
      "execution_count": 7,
      "outputs": []
    },
    {
      "cell_type": "code",
      "metadata": {
        "id": "QuOh2su2UC8q",
        "outputId": "51334331-dc75-4266-f1d6-278e48b9c0b8",
        "colab": {
          "base_uri": "https://localhost:8080/",
          "height": 168
        }
      },
      "source": [
        "def imshow(img):\n",
        "    npimg = img.numpy()\n",
        "    plt.imshow(np.transpose(npimg, (1, 2, 0)), cmap='gray')\n",
        "\n",
        "# get some random training images\n",
        "dataiter = iter(trainloader)\n",
        "images, labels = dataiter.next()\n",
        "\n",
        "print(\"Batch Images Shape:\", images.shape)\n",
        "print(\"Batch Labels Shape:\", labels.shape)\n",
        "print()\n",
        "\n",
        "# show 5 images\n",
        "imshow(torchvision.utils.make_grid(images[:5]))\n",
        "plt.axis('off')\n",
        "# print labels\n",
        "print(' '.join('%7s' % emotions[labels[j].item()] for j in range(5)))"
      ],
      "execution_count": 8,
      "outputs": [
        {
          "output_type": "stream",
          "text": [
            "Batch Images Shape: torch.Size([100, 1, 48, 48])\n",
            "Batch Labels Shape: torch.Size([100])\n",
            "\n",
            "Neutral Neutral    Fear    Fear Neutral\n"
          ],
          "name": "stdout"
        },
        {
          "output_type": "display_data",
          "data": {
            "image/png": "[encoded data removed]",
            "text/plain": [
              "<Figure size 432x288 with 1 Axes>"
            ]
          },
          "metadata": {
            "tags": [],
            "needs_background": "light"
          }
        }
      ]
    },
    {
      "cell_type": "markdown",
      "metadata": {
        "id": "MIEFhmKoCyZ1"
      },
      "source": [
        "##Model"
      ]
    },
    {
      "cell_type": "code",
      "metadata": {
        "id": "gV0nfy_5CzwG"
      },
      "source": [
        "class Subnet1(nn.Module):\n",
        "    def __init__(self):\n",
        "        super(Subnet1, self).__init__()\n",
        "        # Not sure about number of in channels, may have to change!\n",
        "        self.conv1 = nn.Conv2d(in_channels=1, out_channels=64, kernel_size=3, padding=1) # according to paper!\n",
        "        self.pool = nn.MaxPool2d(kernel_size=2,stride=2)\n",
        "        self.conv2 = nn.Conv2d(64,128,3,padding=1)\n",
        "        self.conv3 = nn.Conv2d(128, 256, 3, padding=1)\n",
        "\n",
        "        self.lin1 = nn.Linear(256*6*6, 4096) # Will have to change input size\n",
        "        self.lin2 = nn.Linear(4096, 4096)\n",
        "        self.lin3 = nn.Linear(4096, 7)\n",
        "        \n",
        "        #self.drop = nn.Dropout(0.2)\n",
        "\n",
        "    def forward(self, x):\n",
        "        x = F.relu(self.conv1(x))\n",
        "        #print(\"shape after 1 conv layer: \", x.shape)\n",
        "        x = self.pool(x)\n",
        "\n",
        "        x = F.relu(self.conv2(x))\n",
        "        #print(\"shape after 2 conv layer: \", x.shape)\n",
        "        x = self.pool(x)\n",
        "\n",
        "        x = F.relu(self.conv3(x))\n",
        "        #print(\"shape after 3 conv layer: \", x.shape)\n",
        "        x = self.pool(x)\n",
        "\n",
        "        # print(\"shape before linear layers!!: \", x.shape)\n",
        "\n",
        "        x = x.view(-1, 256*6*6) # will have to change!\n",
        "        # print(\"reshaped\", x.shape)\n",
        "        x = F.relu(self.lin1(x))\n",
        "        x = F.relu(self.lin2(x))\n",
        "        x = self.lin3(x)\n",
        "\n",
        "        return x"
      ],
      "execution_count": 9,
      "outputs": []
    },
    {
      "cell_type": "code",
      "metadata": {
        "id": "GnnVir2p6YSb"
      },
      "source": [
        "class Subnet2(nn.Module):\n",
        "    def __init__(self):\n",
        "        super(Subnet2, self).__init__()\n",
        "        # Not sure about number of in channels, may have to change!\n",
        "        self.conv1 = nn.Conv2d(in_channels=1, out_channels=64, kernel_size=3, padding=1) # according to paper!\n",
        "        self.pool = nn.MaxPool2d(kernel_size=2,stride=2)\n",
        "        self.conv2 = nn.Conv2d(64,128,3,padding=1)\n",
        "        self.conv3 = nn.Conv2d(128, 256, 3, padding=1)\n",
        "        self.conv3_2 = nn.Conv2d(256,256, 3, padding=1)\n",
        "        self.lin1 = nn.Linear(256 * 6 * 6, 4096) # MUST CHANGE\n",
        "        self.lin2 = nn.Linear(4096, 4096)\n",
        "        self.lin3 = nn.Linear(4096, 7)\n",
        "\n",
        "        #self.drop = nn.Dropout(0.2)\n",
        "\n",
        "    def forward(self, x):\n",
        "\n",
        "        x = F.relu(self.conv1(x))\n",
        "        #print(\"shape after 1 conv layer: \", x.shape)\n",
        "        x = self.pool(x)\n",
        "\n",
        "        x = F.relu(self.conv2(x))\n",
        "        #print(\"shape after 2 conv layer: \", x.shape)\n",
        "        x = self.pool(x)\n",
        "\n",
        "        x = F.relu(self.conv3(x))\n",
        "        x = F.relu(self.conv3_2(x))\n",
        "        #print(\"shape after 3 conv layer: \", x.shape)\n",
        "        x = self.pool(x)\n",
        "        #print(\"shape before linear layers!!: \", x.shape)\n",
        "        x = x.view(x.size(0), 256 * 6 * 6)\n",
        "\n",
        "        x = F.relu(self.lin1(x))\n",
        "        x = F.relu(self.lin2(x))\n",
        "        x = self.lin3(x)\n",
        "\n",
        "        return x"
      ],
      "execution_count": 10,
      "outputs": []
    },
    {
      "cell_type": "code",
      "metadata": {
        "id": "47sy1oyN8evv"
      },
      "source": [
        "class Subnet3(nn.Module):\n",
        "    def __init__(self):\n",
        "        super(Subnet3, self).__init__()\n",
        "        # Not sure about number of in channels, may have to change!\n",
        "\n",
        "        self.conv1 = nn.Conv2d(in_channels=1, out_channels=64, kernel_size=3, padding=1) # according to paper!\n",
        "        self.pool = nn.MaxPool2d(kernel_size=2,stride=2)\n",
        "        self.conv2 = nn.Conv2d(64,128,3,padding=1)\n",
        "        self.conv2_2 = nn.Conv2d(128,128,3,padding=1)\n",
        "        self.conv3 = nn.Conv2d(128, 256, 3, padding=1)\n",
        "        self.conv3_2 = nn.Conv2d(256,256, 3, padding=1)\n",
        "        self.lin1 = nn.Linear(256 * 6 * 6, 4096) # MUST CHANGE\n",
        "        self.lin2 = nn.Linear(4096, 4096)\n",
        "        self.lin3 = nn.Linear(4096, 7)\n",
        "\n",
        "\n",
        "    def forward(self, x):\n",
        "\n",
        "        x = F.relu(self.conv1(x))\n",
        "        #print(\"shape after 1 conv layer: \", x.shape)\n",
        "        x = self.pool(x)\n",
        "\n",
        "        x = F.relu(self.conv2(x))\n",
        "        x = F.relu(self.conv2_2(x))\n",
        "        #print(\"shape after 2 conv layer: \", x.shape)\n",
        "        x = self.pool(x)\n",
        "\n",
        "        x = F.relu(self.conv3(x))\n",
        "        x = F.relu(self.conv3_2(x))\n",
        "        #print(\"shape after 3 conv layer: \", x.shape)\n",
        "        x = self.pool(x)\n",
        "\n",
        "        x = x.view(-1, 256*6*6) # CHANGE\n",
        "      \n",
        "        x = F.relu(self.lin1(x))\n",
        "        x = F.relu(self.lin2(x))\n",
        "        x = self.lin3(x)\n",
        "\n",
        "        return x"
      ],
      "execution_count": 11,
      "outputs": []
    },
    {
      "cell_type": "markdown",
      "metadata": {
        "id": "BCuMQu5bF5nE"
      },
      "source": [
        "##Training"
      ]
    },
    {
      "cell_type": "code",
      "metadata": {
        "id": "wME97MptDeex"
      },
      "source": [
        "net = Subnet3()\n",
        "net = net.to(device)"
      ],
      "execution_count": 20,
      "outputs": []
    },
    {
      "cell_type": "code",
      "metadata": {
        "id": "3asDIi_yDQLW"
      },
      "source": [
        "def train_model(net, trainloader, valloader, n_epochs=20):\n",
        "\n",
        "    acc_train_arr, acc_val_arr = [], []\n",
        "    loss_train_arr, loss_val_arr = [], []\n",
        "    for epoch in range(n_epochs):\n",
        "        \n",
        "        net = net.train()\n",
        "        loss_train, correct_count, n = 0.0, 0.0, 0.0\n",
        "        for i, data in enumerate(trainloader):\n",
        "            inputs, labels = data\n",
        "            inputs, labels = inputs.to(device), labels.to(device)\n",
        "            \n",
        "            # zero the parameter gradients\n",
        "            optimizer.zero_grad()\n",
        "            \n",
        "            # forward + backward + optimize\n",
        "            outputs = net(inputs)\n",
        "            loss = criterion(outputs, labels)\n",
        "            loss.backward()\n",
        "            optimizer.step()\n",
        "\n",
        "            # calculate performance metrics\n",
        "            loss_train += loss.item()\n",
        "            \n",
        "            _, preds = torch.max(outputs.data, 1)\n",
        "            correct_count += (preds == labels).sum().item()\n",
        "            n += labels.size(0)\n",
        "            \n",
        "        # Save train and validation performance metrics \n",
        "        acc_train = 100 * correct_count / n\n",
        "        loss_train = loss_train / n\n",
        "\n",
        "        acc_val, loss_val = test_model(net, valloader)\n",
        "\n",
        "        loss_train_arr.append(loss_train)\n",
        "        loss_val_arr.append(loss_val)\n",
        "        \n",
        "        acc_train_arr.append(acc_train)\n",
        "        acc_val_arr.append(acc_val)\n",
        "        \n",
        "        print('Epoch %2d' % (epoch + 1), 'Train Accuracy: %2.2f %%' % (acc_train), 'Val Accuracy: %2.2f %%' % (acc_val), sep='\\t\\t')\n",
        "\n",
        "    return loss_train_arr, loss_val_arr, acc_train_arr, acc_val_arr"
      ],
      "execution_count": 21,
      "outputs": []
    },
    {
      "cell_type": "code",
      "metadata": {
        "id": "Xl64GIKACQr2"
      },
      "source": [
        "def test_model(net, dataloader):\n",
        "    \n",
        "    net = net.eval()\n",
        "\n",
        "    loss, correct_count, n_sampels = 0.0, 0.0, 0.0\n",
        "    for data in dataloader:\n",
        "\n",
        "        inputs, labels = data\n",
        "        inputs, labels = inputs.to(device), labels.to(device)\n",
        "\n",
        "        outputs = net(inputs)\n",
        "\n",
        "        loss += criterion(outputs, labels).item()\n",
        "\n",
        "        _, preds = torch.max(outputs.data, 1)\n",
        "        correct_count += (preds == labels).sum().item()\n",
        "        n_sampels += labels.size(0)\n",
        "    \n",
        "    acc = 100 * correct_count / n_sampels\n",
        "    loss = loss / n_sampels\n",
        "    \n",
        "    return acc, loss"
      ],
      "execution_count": 22,
      "outputs": []
    },
    {
      "cell_type": "code",
      "metadata": {
        "id": "ZqWHaEBkkw09"
      },
      "source": [
        "criterion = nn.CrossEntropyLoss()\n",
        "optimizer = optim.SGD(net.parameters(), lr=0.01, momentum=0.9)"
      ],
      "execution_count": 23,
      "outputs": []
    },
    {
      "cell_type": "code",
      "metadata": {
        "id": "9npmfIq5FgZ1",
        "outputId": "334294b9-8493-4c5f-ec8a-31b3c77c22ae",
        "colab": {
          "base_uri": "https://localhost:8080/",
          "height": 1000
        }
      },
      "source": [
        "loss_train, loss_val, acc_train, acc_val = train_model(net, trainloader, valloader, n_epochs=100)"
      ],
      "execution_count": 24,
      "outputs": [
        {
          "output_type": "stream",
          "text": [
            "Epoch  1\t\tTrain Accuracy: 25.01 %\t\tVal Accuracy: 24.49 %\n",
            "Epoch  2\t\tTrain Accuracy: 25.12 %\t\tVal Accuracy: 24.99 %\n",
            "Epoch  3\t\tTrain Accuracy: 27.69 %\t\tVal Accuracy: 29.87 %\n",
            "Epoch  4\t\tTrain Accuracy: 30.94 %\t\tVal Accuracy: 33.30 %\n",
            "Epoch  5\t\tTrain Accuracy: 34.61 %\t\tVal Accuracy: 38.92 %\n",
            "Epoch  6\t\tTrain Accuracy: 38.42 %\t\tVal Accuracy: 40.79 %\n",
            "Epoch  7\t\tTrain Accuracy: 40.89 %\t\tVal Accuracy: 41.40 %\n",
            "Epoch  8\t\tTrain Accuracy: 41.97 %\t\tVal Accuracy: 44.27 %\n",
            "Epoch  9\t\tTrain Accuracy: 44.33 %\t\tVal Accuracy: 44.30 %\n",
            "Epoch 10\t\tTrain Accuracy: 45.81 %\t\tVal Accuracy: 46.42 %\n",
            "Epoch 11\t\tTrain Accuracy: 47.66 %\t\tVal Accuracy: 48.45 %\n",
            "Epoch 12\t\tTrain Accuracy: 49.41 %\t\tVal Accuracy: 51.02 %\n",
            "Epoch 13\t\tTrain Accuracy: 50.76 %\t\tVal Accuracy: 53.41 %\n",
            "Epoch 14\t\tTrain Accuracy: 52.40 %\t\tVal Accuracy: 49.71 %\n",
            "Epoch 15\t\tTrain Accuracy: 53.78 %\t\tVal Accuracy: 54.36 %\n",
            "Epoch 16\t\tTrain Accuracy: 55.26 %\t\tVal Accuracy: 56.81 %\n",
            "Epoch 17\t\tTrain Accuracy: 56.55 %\t\tVal Accuracy: 55.48 %\n",
            "Epoch 18\t\tTrain Accuracy: 57.90 %\t\tVal Accuracy: 55.45 %\n",
            "Epoch 19\t\tTrain Accuracy: 59.14 %\t\tVal Accuracy: 57.51 %\n",
            "Epoch 20\t\tTrain Accuracy: 60.46 %\t\tVal Accuracy: 58.37 %\n",
            "Epoch 21\t\tTrain Accuracy: 61.71 %\t\tVal Accuracy: 58.54 %\n",
            "Epoch 22\t\tTrain Accuracy: 63.02 %\t\tVal Accuracy: 58.01 %\n",
            "Epoch 23\t\tTrain Accuracy: 64.22 %\t\tVal Accuracy: 58.15 %\n",
            "Epoch 24\t\tTrain Accuracy: 65.47 %\t\tVal Accuracy: 59.71 %\n",
            "Epoch 25\t\tTrain Accuracy: 66.77 %\t\tVal Accuracy: 58.54 %\n",
            "Epoch 26\t\tTrain Accuracy: 68.42 %\t\tVal Accuracy: 59.85 %\n",
            "Epoch 27\t\tTrain Accuracy: 69.44 %\t\tVal Accuracy: 60.18 %\n",
            "Epoch 28\t\tTrain Accuracy: 71.06 %\t\tVal Accuracy: 60.27 %\n",
            "Epoch 29\t\tTrain Accuracy: 72.14 %\t\tVal Accuracy: 59.71 %\n",
            "Epoch 30\t\tTrain Accuracy: 73.50 %\t\tVal Accuracy: 60.52 %\n",
            "Epoch 31\t\tTrain Accuracy: 74.43 %\t\tVal Accuracy: 60.71 %\n",
            "Epoch 32\t\tTrain Accuracy: 76.48 %\t\tVal Accuracy: 62.30 %\n",
            "Epoch 33\t\tTrain Accuracy: 77.36 %\t\tVal Accuracy: 60.27 %\n",
            "Epoch 34\t\tTrain Accuracy: 77.84 %\t\tVal Accuracy: 61.30 %\n",
            "Epoch 35\t\tTrain Accuracy: 79.03 %\t\tVal Accuracy: 61.72 %\n",
            "Epoch 36\t\tTrain Accuracy: 80.20 %\t\tVal Accuracy: 61.16 %\n",
            "Epoch 37\t\tTrain Accuracy: 81.21 %\t\tVal Accuracy: 61.02 %\n",
            "Epoch 38\t\tTrain Accuracy: 82.16 %\t\tVal Accuracy: 61.55 %\n",
            "Epoch 39\t\tTrain Accuracy: 83.11 %\t\tVal Accuracy: 61.08 %\n",
            "Epoch 40\t\tTrain Accuracy: 84.22 %\t\tVal Accuracy: 62.27 %\n",
            "Epoch 41\t\tTrain Accuracy: 84.99 %\t\tVal Accuracy: 60.82 %\n",
            "Epoch 42\t\tTrain Accuracy: 85.69 %\t\tVal Accuracy: 62.44 %\n",
            "Epoch 43\t\tTrain Accuracy: 86.40 %\t\tVal Accuracy: 62.11 %\n",
            "Epoch 44\t\tTrain Accuracy: 87.22 %\t\tVal Accuracy: 61.47 %\n",
            "Epoch 45\t\tTrain Accuracy: 87.73 %\t\tVal Accuracy: 62.75 %\n",
            "Epoch 46\t\tTrain Accuracy: 88.30 %\t\tVal Accuracy: 61.72 %\n",
            "Epoch 47\t\tTrain Accuracy: 89.33 %\t\tVal Accuracy: 61.69 %\n",
            "Epoch 48\t\tTrain Accuracy: 89.37 %\t\tVal Accuracy: 61.35 %\n",
            "Epoch 49\t\tTrain Accuracy: 90.15 %\t\tVal Accuracy: 62.78 %\n",
            "Epoch 50\t\tTrain Accuracy: 90.16 %\t\tVal Accuracy: 62.08 %\n",
            "Epoch 51\t\tTrain Accuracy: 90.44 %\t\tVal Accuracy: 62.05 %\n",
            "Epoch 52\t\tTrain Accuracy: 91.23 %\t\tVal Accuracy: 62.30 %\n",
            "Epoch 53\t\tTrain Accuracy: 91.45 %\t\tVal Accuracy: 62.47 %\n",
            "Epoch 54\t\tTrain Accuracy: 91.49 %\t\tVal Accuracy: 62.02 %\n",
            "Epoch 55\t\tTrain Accuracy: 91.55 %\t\tVal Accuracy: 62.11 %\n",
            "Epoch 56\t\tTrain Accuracy: 92.29 %\t\tVal Accuracy: 61.52 %\n",
            "Epoch 57\t\tTrain Accuracy: 92.54 %\t\tVal Accuracy: 63.17 %\n",
            "Epoch 58\t\tTrain Accuracy: 93.01 %\t\tVal Accuracy: 63.50 %\n",
            "Epoch 59\t\tTrain Accuracy: 93.18 %\t\tVal Accuracy: 63.17 %\n",
            "Epoch 60\t\tTrain Accuracy: 93.44 %\t\tVal Accuracy: 62.47 %\n",
            "Epoch 61\t\tTrain Accuracy: 93.34 %\t\tVal Accuracy: 63.28 %\n",
            "Epoch 62\t\tTrain Accuracy: 93.47 %\t\tVal Accuracy: 62.47 %\n",
            "Epoch 63\t\tTrain Accuracy: 93.86 %\t\tVal Accuracy: 63.17 %\n",
            "Epoch 64\t\tTrain Accuracy: 94.08 %\t\tVal Accuracy: 63.61 %\n",
            "Epoch 65\t\tTrain Accuracy: 94.63 %\t\tVal Accuracy: 63.17 %\n",
            "Epoch 66\t\tTrain Accuracy: 94.37 %\t\tVal Accuracy: 63.28 %\n",
            "Epoch 67\t\tTrain Accuracy: 94.53 %\t\tVal Accuracy: 62.72 %\n",
            "Epoch 68\t\tTrain Accuracy: 94.66 %\t\tVal Accuracy: 63.67 %\n",
            "Epoch 69\t\tTrain Accuracy: 94.72 %\t\tVal Accuracy: 63.50 %\n",
            "Epoch 70\t\tTrain Accuracy: 95.20 %\t\tVal Accuracy: 63.47 %\n",
            "Epoch 71\t\tTrain Accuracy: 94.93 %\t\tVal Accuracy: 62.83 %\n",
            "Epoch 72\t\tTrain Accuracy: 94.93 %\t\tVal Accuracy: 62.83 %\n",
            "Epoch 73\t\tTrain Accuracy: 95.35 %\t\tVal Accuracy: 63.56 %\n",
            "Epoch 74\t\tTrain Accuracy: 95.66 %\t\tVal Accuracy: 63.36 %\n",
            "Epoch 75\t\tTrain Accuracy: 95.52 %\t\tVal Accuracy: 62.02 %\n",
            "Epoch 76\t\tTrain Accuracy: 95.72 %\t\tVal Accuracy: 62.89 %\n",
            "Epoch 77\t\tTrain Accuracy: 95.61 %\t\tVal Accuracy: 63.00 %\n",
            "Epoch 78\t\tTrain Accuracy: 96.01 %\t\tVal Accuracy: 63.81 %\n",
            "Epoch 79\t\tTrain Accuracy: 95.79 %\t\tVal Accuracy: 64.00 %\n",
            "Epoch 80\t\tTrain Accuracy: 95.90 %\t\tVal Accuracy: 64.20 %\n",
            "Epoch 81\t\tTrain Accuracy: 96.15 %\t\tVal Accuracy: 63.78 %\n",
            "Epoch 82\t\tTrain Accuracy: 95.70 %\t\tVal Accuracy: 64.14 %\n",
            "Epoch 83\t\tTrain Accuracy: 96.05 %\t\tVal Accuracy: 63.81 %\n",
            "Epoch 84\t\tTrain Accuracy: 96.29 %\t\tVal Accuracy: 64.08 %\n",
            "Epoch 85\t\tTrain Accuracy: 96.19 %\t\tVal Accuracy: 63.97 %\n",
            "Epoch 86\t\tTrain Accuracy: 96.34 %\t\tVal Accuracy: 62.86 %\n",
            "Epoch 87\t\tTrain Accuracy: 96.34 %\t\tVal Accuracy: 63.25 %\n",
            "Epoch 88\t\tTrain Accuracy: 96.39 %\t\tVal Accuracy: 64.73 %\n",
            "Epoch 89\t\tTrain Accuracy: 96.72 %\t\tVal Accuracy: 63.42 %\n",
            "Epoch 90\t\tTrain Accuracy: 96.78 %\t\tVal Accuracy: 64.42 %\n",
            "Epoch 91\t\tTrain Accuracy: 96.61 %\t\tVal Accuracy: 64.22 %\n",
            "Epoch 92\t\tTrain Accuracy: 96.74 %\t\tVal Accuracy: 62.83 %\n",
            "Epoch 93\t\tTrain Accuracy: 96.64 %\t\tVal Accuracy: 63.44 %\n",
            "Epoch 94\t\tTrain Accuracy: 96.90 %\t\tVal Accuracy: 64.08 %\n",
            "Epoch 95\t\tTrain Accuracy: 96.75 %\t\tVal Accuracy: 64.00 %\n",
            "Epoch 96\t\tTrain Accuracy: 96.75 %\t\tVal Accuracy: 63.67 %\n",
            "Epoch 97\t\tTrain Accuracy: 96.96 %\t\tVal Accuracy: 63.69 %\n",
            "Epoch 98\t\tTrain Accuracy: 96.96 %\t\tVal Accuracy: 63.86 %\n",
            "Epoch 99\t\tTrain Accuracy: 97.08 %\t\tVal Accuracy: 63.75 %\n",
            "Epoch 100\t\tTrain Accuracy: 97.12 %\t\tVal Accuracy: 64.20 %\n"
          ],
          "name": "stdout"
        }
      ]
    },
    {
      "cell_type": "markdown",
      "metadata": {
        "id": "th4_U34Rzb-S"
      },
      "source": [
        "##Evaluation"
      ]
    },
    {
      "cell_type": "code",
      "metadata": {
        "id": "GaGNnlXTJdeG",
        "outputId": "6a713a55-13b0-4bcb-b804-52887528b280",
        "colab": {
          "base_uri": "https://localhost:8080/",
          "height": 607
        }
      },
      "source": [
        "plt.figure()\n",
        "plt.plot(acc_train, 'g', label='Training Acc')\n",
        "plt.plot(acc_val, 'b', label='Validation Acc')\n",
        "plt.title('Accuracy')\n",
        "plt.xlabel('Epoch')\n",
        "plt.ylabel('Acc')\n",
        "plt.legend()\n",
        "plt.grid()\n",
        "plt.show()\n",
        "\n",
        "plt.figure()\n",
        "plt.plot(loss_train, 'g', label='Training Loss')\n",
        "plt.plot(loss_val, 'b', label='Validation Loss')\n",
        "plt.title('Loss')\n",
        "plt.xlabel('Epoch')\n",
        "plt.ylabel('Loss')\n",
        "plt.legend()\n",
        "plt.grid()\n",
        "plt.show()\n",
        "\n",
        "acc, loss = test_model(net, testloader)\n",
        "print('Test Accuracy: %2.2f %%' % (acc))\n",
        "print('Average Test Loss: %2.4f %%' % (loss))"
      ],
      "execution_count": 25,
      "outputs": [
        {
          "output_type": "display_data",
          "data": {
            "image/png": "[encoded data removed]",
            "text/plain": [
              "<Figure size 432x288 with 1 Axes>"
            ]
          },
          "metadata": {
            "tags": [],
            "needs_background": "light"
          }
        },
        {
          "output_type": "display_data",
          "data": {
            "image/png": "[encoded data removed]",
            "text/plain": [
              "<Figure size 432x288 with 1 Axes>"
            ]
          },
          "metadata": {
            "tags": [],
            "needs_background": "light"
          }
        },
        {
          "output_type": "stream",
          "text": [
            "Test Accuracy: 63.22 %\n",
            "Average Test Loss: 0.0217 %\n"
          ],
          "name": "stdout"
        }
      ]
    },
    {
      "cell_type": "markdown",
      "metadata": {
        "id": "TP83R_2hDZAY"
      },
      "source": [
        "##Save Model"
      ]
    },
    {
      "cell_type": "code",
      "metadata": {
        "id": "xPLQjXTEzHI4"
      },
      "source": [
        "path = 'subnet3'\n",
        "torch.save(net.state_dict(), path)"
      ],
      "execution_count": 26,
      "outputs": []
    },
    {
      "cell_type": "code",
      "metadata": {
        "id": "fC5R1WGUGwub",
        "outputId": "47d7c935-1a84-473b-b4de-aa404bb86877",
        "colab": {
          "base_uri": "https://localhost:8080/",
          "height": 17
        }
      },
      "source": [
        "from google.colab import files\n",
        "files.download(path)"
      ],
      "execution_count": 27,
      "outputs": [
        {
          "output_type": "display_data",
          "data": {
            "application/javascript": [
              "\n",
              "    async function download(id, filename, size) {\n",
              "      if (!google.colab.kernel.accessAllowed) {\n",
              "        return;\n",
              "      }\n",
              "      const div = document.createElement('div');\n",
              "      const label = document.createElement('label');\n",
              "      label.textContent = `Downloading \"${filename}\": `;\n",
              "      div.appendChild(label);\n",
              "      const progress = document.createElement('progress');\n",
              "      progress.max = size;\n",
              "      div.appendChild(progress);\n",
              "      document.body.appendChild(div);\n",
              "\n",
              "      const buffers = [];\n",
              "      let downloaded = 0;\n",
              "\n",
              "      const channel = await google.colab.kernel.comms.open(id);\n",
              "      // Send a message to notify the kernel that we're ready.\n",
              "      channel.send({})\n",
              "\n",
              "      for await (const message of channel.messages) {\n",
              "        // Send a message to notify the kernel that we're ready.\n",
              "        channel.send({})\n",
              "        if (message.buffers) {\n",
              "          for (const buffer of message.buffers) {\n",
              "            buffers.push(buffer);\n",
              "            downloaded += buffer.byteLength;\n",
              "            progress.value = downloaded;\n",
              "          }\n",
              "        }\n",
              "      }\n",
              "      const blob = new Blob(buffers, {type: 'application/binary'});\n",
              "      const a = document.createElement('a');\n",
              "      a.href = window.URL.createObjectURL(blob);\n",
              "      a.download = filename;\n",
              "      div.appendChild(a);\n",
              "      a.click();\n",
              "      div.remove();\n",
              "    }\n",
              "  "
            ],
            "text/plain": [
              "<IPython.core.display.Javascript object>"
            ]
          },
          "metadata": {
            "tags": []
          }
        },
        {
          "output_type": "display_data",
          "data": {
            "application/javascript": [
              "download(\"download_339a2a30-7fb2-466f-bea1-0b9c2739613a\", \"subnet3\", 222686015)"
            ],
            "text/plain": [
              "<IPython.core.display.Javascript object>"
            ]
          },
          "metadata": {
            "tags": []
          }
        }
      ]
    }
  ]
}