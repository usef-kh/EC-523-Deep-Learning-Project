{
 "cells": [
  {
   "cell_type": "code",
   "execution_count": 1,
   "metadata": {},
   "outputs": [],
   "source": [
    "# Audio processing\n",
    "import pandas as pd\n",
    "import numpy as np\n",
    "\n",
    "import torch\n",
    "import torch.nn as nn\n",
    "import torch.nn.functional as F\n",
    "import torchvision\n",
    "import torchvision.transforms as transforms\n",
    "from torch import optim\n",
    "from torch.utils.data import Dataset, DataLoader\n",
    "from PIL import Image\n",
    "\n",
    "import matplotlib.pyplot as plt\n",
    "\n",
    "import librosa \n",
    "import cv2\n"
   ]
  },
  {
   "cell_type": "code",
   "execution_count": 6,
   "metadata": {},
   "outputs": [],
   "source": [
    "\n",
    "path = '/projectnb/ec523/sadiela/EC523-Deep-Learning-Project/datasets/s1-an-1.wav'\n",
    "#cap = cv2.AudioCapture(path)\n",
    "#filename = librosa.util.example_audio_file()\n",
    "#y, sr = librosa.load(filename)\n",
    "# OR \n",
    "y, sr = librosa.load(path, sr=None) #(filename?)\n",
    "\n"
   ]
  },
  {
   "cell_type": "code",
   "execution_count": 7,
   "metadata": {},
   "outputs": [],
   "source": [
    "\n",
    "# given a speech signal (and sample rate):\n",
    "\n",
    "# 1) Divide signal into 40ms frames, where the successive frames are overlapped by 50%\n",
    "\n",
    "# 2) Multiply frames by a Hamming window\n",
    "# 3) Apply fast Fourier transform to the windowed frame to convert the time-domain segment into the frequency-domain one\n",
    "# 4) Apply 25 band-pass filters (BPFs) to the freq-domain signal\n",
    "# 5) perform logarithm function on the filter outputs to suppress the dynamic range\n",
    "# 6) Arrange the outputs of the previous steps frame by frame to form the mel-spectrogram\n",
    "\n",
    "\n",
    "######\n",
    "# OR #\n",
    "######\n",
    "# y is the audio timeseries \n",
    "# sr = samplerate \n",
    "# S = spectrogram (if you already have a spec, will be none for us)\n",
    "# n_fft = length of the FFT window (idk what this should be)\n",
    "# hop length = # of samples between successive frames\n"
   ]
  },
  {
   "cell_type": "code",
   "execution_count": 34,
   "metadata": {},
   "outputs": [
    {
     "name": "stdout",
     "output_type": "stream",
     "text": [
      "(25, 171)\n"
     ]
    },
    {
     "data": {
      "image/png": "[encoded data removed]",
      "text/plain": [
       "<Figure size 432x288 with 2 Axes>"
      ]
     },
     "metadata": {
      "needs_background": "light"
     },
     "output_type": "display_data"
    }
   ],
   "source": [
    "import librosa.display\n",
    "\n",
    "spec = librosa.feature.melspectrogram(y=y, sr=sr, win_length=int(sr/1000)*40, hop_length=int(sr/1000)*20, n_mels=25)\n",
    "plt.figure()\n",
    "librosa.display.specshow(spec, sr=sr, hop_length=int(sr/1000)*20)#, bins_per_octave=25)\n",
    "plt.colorbar()\n",
    "print(spec.shape)"
   ]
  },
  {
   "cell_type": "code",
   "execution_count": 16,
   "metadata": {},
   "outputs": [
    {
     "ename": "SyntaxError",
     "evalue": "invalid syntax (<ipython-input-16-c585e3e6f954>, line 13)",
     "output_type": "error",
     "traceback": [
      "\u001b[0;36m  File \u001b[0;32m\"<ipython-input-16-c585e3e6f954>\"\u001b[0;36m, line \u001b[0;32m13\u001b[0m\n\u001b[0;31m    spec = librosa.feature.melspectrogram(y=y, sr=sr, hop_length=int(sr/1000)*20))\u001b[0m\n\u001b[0m                                                                                 ^\u001b[0m\n\u001b[0;31mSyntaxError\u001b[0m\u001b[0;31m:\u001b[0m invalid syntax\n"
     ]
    }
   ],
   "source": [
    "# Loop to get spectrograms\n",
    "# given sample rate, signal, get # of frames in a millisecond\n",
    "# sample rate = samples/second\n",
    "# samples per millisecond = sample rate / 1000\n",
    "emotion_dict = {'an':'angry', 'di':'disgust', 'fe':'fear','ha':'happiness','sadness':'sa','surprise':'su'}\n",
    "spectrograms = []\n",
    "labels = []\n",
    "import glob   \n",
    "path = '/projectnb/ec523/sadiela/EC523-Deep-Learning-Project/datasets/wav-files/*'  \n",
    "files=glob.glob(path)   \n",
    "for file in files:     \n",
    "    y, sr = librosa.load(path, sr=None) \n",
    "    spec = librosa.feature.melspectrogram(y=y, sr=sr, win_length=int(sr/1000)*40, hop_length=int(sr/1000)*20, n_mels=25)\n",
    "    spectrograms.append(spec)\n",
    "    labels.append(emotion_dict['su']) # the middle two characters of the thingies ... e.g. s1_su_1.avi --> su"
   ]
  },
  {
   "cell_type": "code",
   "execution_count": null,
   "metadata": {},
   "outputs": [],
   "source": []
  }
 ],
 "metadata": {
  "kernelspec": {
   "display_name": "Python 3",
   "language": "python",
   "name": "python3"
  },
  "language_info": {
   "codemirror_mode": {
    "name": "ipython",
    "version": 3
   },
   "file_extension": ".py",
   "mimetype": "text/x-python",
   "name": "python",
   "nbconvert_exporter": "python",
   "pygments_lexer": "ipython3",
   "version": "3.6.9"
  }
 },
 "nbformat": 4,
 "nbformat_minor": 4
}
