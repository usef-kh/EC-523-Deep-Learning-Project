{
  "nbformat": 4,
  "nbformat_minor": 0,
  "metadata": {
    "colab": {
      "name": "CNNs.ipynb",
      "provenance": []
    },
    "kernelspec": {
      "name": "python3",
      "display_name": "Python 3"
    }
  },
  "cells": [
    {
      "cell_type": "code",
      "metadata": {
        "id": "yYIsvdDnFxOo"
      },
      "source": [
        "import torch\n",
        "from torch import nn"
      ],
      "execution_count": null,
      "outputs": []
    },
    {
      "cell_type": "code",
      "metadata": {
        "id": "ZRKbKsECFzYI"
      },
      "source": [
        "class CNN_2D(nn.Module):\n",
        "\n",
        "    def __init__(self):\n",
        "        super(CNN_2D, self).__init__()\n",
        "        self.conv1 = nn.Conv2d(3, 64, kernel_size=7, stride=2)\n",
        "        self.conv2 = nn.Conv2d(64, 128, kernel_size=7, stride=2)\n",
        "        self.conv3 = nn.Conv2d(128, 256, kernel_size=3, stride=2)\n",
        "        self.conv4 = nn.Conv2d(256, 512, kernel_size=3, stride=2)\n",
        "\n",
        "        self.max_pool = nn.MaxPool2d(kernel_size=2, stride=2)\n",
        "        self.avg_pool = nn.AvgPool2d(kernel_size=2, stride=2)\n",
        "\n",
        "        self.fc1 = nn.Linear(?, 4096)\n",
        "        self.fc2 = nn.Linear(4096, 4096)\n",
        "        self.fc3 = nn.Linear(4096, 7)\n",
        "\n",
        "        self.drop = nn.Dropout(p=0.5)\n",
        "\n",
        "    def forward(self, x):\n",
        "        x = self.drop(x)\n",
        "\n",
        "        x = F.elu(self.conv1(x))\n",
        "        x = self.max_pool(x)\n",
        "        \n",
        "        x = F.elu(self.conv2(x))\n",
        "        x = self.avg_pool(x)\n",
        "        \n",
        "        x = F.elu(self.conv3(x))\n",
        "        x = self.avg_pool(x)\n",
        "\n",
        "        x = F.elu(self.conv4(x))\n",
        "        x = x.view(-1, ?)\n",
        "\n",
        "        x = F.elu(self.fc1(x))\n",
        "        x = F.elu(self.fc2(x))\n",
        "\n",
        "        x = F.elu(self.fc3(x))\n",
        "\n",
        "        return x\n"
      ],
      "execution_count": null,
      "outputs": []
    },
    {
      "cell_type": "code",
      "metadata": {
        "id": "DhLRj4g4F4AC"
      },
      "source": [
        "class CNN_3D(nn.Module):\n",
        "\n",
        "    def __init__(self):\n",
        "        super(CNN_3D, self).__init__()\n",
        "        self.conv1a = nn.Conv3d(3, 64, kernel_size=3, stride=1)\n",
        "        \n",
        "        self.conv2a = nn.Conv2d(64, 128, kernel_size=3, stride=1)\n",
        "        \n",
        "        self.conv3a = nn.Conv2d(128, 256, kernel_size=3, stride=1)\n",
        "        self.conv3b = nn.Conv2d(256, 256, kernel_size=3, stride=1)\n",
        "        \n",
        "        self.conv4a = nn.Conv2d(256, 512, kernel_size=3, stride=1)\n",
        "        self.conv4b = nn.Conv2d(512, 512, kernel_size=3, stride=1)\n",
        "\n",
        "        self.conv5a = nn.Conv2d(512, 512, kernel_size=3, stride=1)\n",
        "        self.conv5b = nn.Conv2d(512, 512, kernel_size=3, stride=1)\n",
        "\n",
        "        self.max_pool = nn.MaxPool3d(kernel_size=(1, 2, 2), stride=2)\n",
        "        self.avg_pool = nn.AvgPool2d(kernel_size=2, stride=2)\n",
        "\n",
        "        self.fc1 = nn.Linear(100, 4096)\n",
        "        self.fc2 = nn.Linear(4096, 4096)\n",
        "        self.fc3 = nn.Linear(4096, 7)\n",
        "\n",
        "        self.drop = nn.Dropout(p=0.5)\n",
        "\n",
        "    def forward(self, x):\n",
        "        x = self.drop(x)\n",
        "\n",
        "        x = F.elu(self.conv1(x))\n",
        "        x = self.max_pool(x)\n",
        "        \n",
        "        x = F.elu(self.conv2(x))\n",
        "        x = self.avg_pool(x)\n",
        "        \n",
        "        x = F.elu(self.conv3(x))\n",
        "        x = self.avg_pool(x)\n",
        "\n",
        "        x = F.elu(self.conv4(x))\n",
        "        x = x.view(-1, 100)\n",
        "\n",
        "        x = F.elu(self.fc1(x))\n",
        "        x = F.elu(self.fc2(x))\n",
        "\n",
        "        x = F.elu(self.fc3(x))\n",
        "\n",
        "        return x\n"
      ],
      "execution_count": null,
      "outputs": []
    }
  ]
}