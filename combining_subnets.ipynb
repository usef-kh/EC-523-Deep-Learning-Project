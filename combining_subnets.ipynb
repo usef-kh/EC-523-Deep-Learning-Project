{
  "nbformat": 4,
  "nbformat_minor": 0,
  "metadata": {
    "colab": {
      "name": "combining_subnets",
      "provenance": [],
      "collapsed_sections": [],
      "authorship_tag": "ABX9TyNOTeQt8SAJm5Qvnr2/TFPC",
      "include_colab_link": true
    },
    "kernelspec": {
      "name": "python3",
      "display_name": "Python 3"
    },
    "accelerator": "GPU"
  },
  "cells": [
    {
      "cell_type": "markdown",
      "metadata": {
        "id": "view-in-github",
        "colab_type": "text"
      },
      "source": [
        "<a href=\"https://colab.research.google.com/github/usef-kh/EC523-Deep-Learning-Project/blob/master/combining_subnets.ipynb\" target=\"_parent\"><img src=\"https://colab.research.google.com/assets/colab-badge.svg\" alt=\"Open In Colab\"/></a>"
      ]
    },
    {
      "cell_type": "markdown",
      "metadata": {
        "id": "0_BUhZ1XAC-L"
      },
      "source": [
        "# Set Up and Data Loading/Processing"
      ]
    },
    {
      "cell_type": "code",
      "metadata": {
        "id": "Zmj2EaRsA569",
        "outputId": "2c6a03a4-9f8b-4057-b2d6-77bd988b5131",
        "colab": {
          "base_uri": "https://localhost:8080/",
          "height": 337
        }
      },
      "source": [
        "!git clone \"https://github.com/usef-kh/EC523-Deep-Learning-Project.git\"\n",
        "!pip install unrar\n",
        "!unrar e \"EC523-Deep-Learning-Project/datasets/fer2013.rar\""
      ],
      "execution_count": 2,
      "outputs": [
        {
          "output_type": "stream",
          "text": [
            "Cloning into 'EC523-Deep-Learning-Project'...\n",
            "remote: Enumerating objects: 52, done.\u001b[K\n",
            "remote: Counting objects: 100% (52/52), done.\u001b[K\n",
            "remote: Compressing objects: 100% (51/51), done.\u001b[K\n",
            "remote: Total 92 (delta 20), reused 6 (delta 1), pack-reused 40\u001b[K\n",
            "Unpacking objects: 100% (92/92), done.\n",
            "Collecting unrar\n",
            "  Downloading https://files.pythonhosted.org/packages/bb/0b/53130ccd483e3db8c8a460cb579bdb21b458d5494d67a261e1a5b273fbb9/unrar-0.4-py3-none-any.whl\n",
            "Installing collected packages: unrar\n",
            "Successfully installed unrar-0.4\n",
            "\n",
            "UNRAR 5.50 freeware      Copyright (c) 1993-2017 Alexander Roshal\n",
            "\n",
            "\n",
            "Extracting from EC523-Deep-Learning-Project/datasets/fer2013.rar\n",
            "\n",
            "Extracting  fer2013.csv                                                  \b\b\b\b  4%\b\b\b\b  9%\b\b\b\b 13%\b\b\b\b 18%\b\b\b\b 23%\b\b\b\b 27%\b\b\b\b 32%\b\b\b\b 37%\b\b\b\b 41%\b\b\b\b 46%\b\b\b\b 51%\b\b\b\b 55%\b\b\b\b 60%\b\b\b\b 65%\b\b\b\b 69%\b\b\b\b 74%\b\b\b\b 79%\b\b\b\b 83%\b\b\b\b 88%\b\b\b\b 93%\b\b\b\b 97%\b\b\b\b 99%\b\b\b\b\b  OK \n",
            "All OK\n"
          ],
          "name": "stdout"
        }
      ]
    },
    {
      "cell_type": "code",
      "metadata": {
        "id": "C_YoCLY4AILR"
      },
      "source": [
        "import pandas as pd\n",
        "import numpy as np\n",
        "\n",
        "import torch\n",
        "import torch.nn as nn\n",
        "import torch.nn.functional as F\n",
        "import torchvision\n",
        "import torchvision.transforms as transforms\n",
        "from torch import optim\n",
        "from torch.utils.data import Dataset, DataLoader\n",
        "from PIL import Image\n",
        "\n",
        "import matplotlib.pyplot as plt\n",
        "\n",
        "import warnings\n",
        "warnings.filterwarnings(\"ignore\")\n",
        "\n",
        "device = torch.device(\"cuda:0\" if torch.cuda.is_available() else \"cpu\")"
      ],
      "execution_count": 3,
      "outputs": []
    },
    {
      "cell_type": "code",
      "metadata": {
        "id": "eZ_WSTW3A_xU"
      },
      "source": [
        "fer2013 = pd.read_csv('fer2013.csv') \n",
        "emotions = {0: 'Angry', 1: 'Disgust', 2: 'Fear', 3: 'Happy', 4: 'Sad', 5: 'Surprise', 6: 'Neutral'}\n",
        "fer2013.head()\n",
        "\n",
        "transform = transforms.Normalize(mean=129.4456, std = 1)\n",
        "\n",
        "def prepare_data(data):\n",
        "    \"\"\" Prepare data for modeling \n",
        "        input: data frame with labels und pixel data\n",
        "        output: image and label array \"\"\"\n",
        "    \n",
        "    image_array = np.zeros(shape=(len(data), 48, 48))\n",
        "    image_label = np.array(list(map(int, data['emotion'])))\n",
        "    \n",
        "    for i, row in enumerate(data.index):\n",
        "        image = np.fromstring(data.loc[row, 'pixels'], dtype=int, sep=' ')\n",
        "        image = np.reshape(image, (48, 48))\n",
        "        image_array[i] = image\n",
        "        \n",
        "    return image_array, image_label\n",
        "\n",
        "xtrain, ytrain = prepare_data(fer2013[fer2013['Usage'] == 'Training'])\n",
        "xval , yval = prepare_data(fer2013[fer2013['Usage'] == 'PrivateTest'])\n",
        "xtest, ytest = prepare_data(fer2013[fer2013['Usage'] == 'PublicTest'])"
      ],
      "execution_count": 4,
      "outputs": []
    },
    {
      "cell_type": "code",
      "metadata": {
        "id": "8hl8uPH6BdB_"
      },
      "source": [
        "class Fer2013(Dataset):\n",
        "    def __init__(self, images, labels, transform=None):\n",
        "        self.images = images\n",
        "        self.labels = labels\n",
        "        self.transform = transform        \n",
        "        \n",
        "    def __len__(self):\n",
        "        return len(self.images)\n",
        "\n",
        "    def __getitem__(self, idx):\n",
        "        if torch.is_tensor(idx):\n",
        "            idx = idx.tolist()\n",
        "\n",
        "        img = Image.fromarray(self.images[idx])\n",
        "        \n",
        "        if self.transform:\n",
        "            img = self.transform(img)\n",
        "\n",
        "        label = torch.tensor(self.labels[idx]).type(torch.long)\n",
        "        sample = (img, label)\n",
        "        \n",
        "        return sample\n",
        "\n",
        "\n",
        "# mu, st = 129.4456, 255\n",
        "mu, st = 0, 255\n",
        "\n",
        "train_transform = transforms.Compose([\n",
        "                    transforms.RandomResizedCrop(48, scale=(0.8, 1.0)),\n",
        "                    transforms.RandomHorizontalFlip(),\n",
        "                    transforms.RandomRotation(10),\n",
        "                    transforms.ToTensor(),\n",
        "                    transforms.Normalize(mean=mu, std = st)\n",
        "                    ]) \n",
        "\n",
        "test_transform = transforms.Compose([\n",
        "                    transforms.ToTensor(),\n",
        "                    transforms.Normalize(mean=mu, std = st)\n",
        "                    ])\n",
        "\n",
        "train = Fer2013(xtrain, ytrain, train_transform)\n",
        "val = Fer2013(xval, yval, test_transform)\n",
        "test = Fer2013(xtest, ytest, test_transform)"
      ],
      "execution_count": 5,
      "outputs": []
    },
    {
      "cell_type": "code",
      "metadata": {
        "id": "eWY9SPaQBjOG"
      },
      "source": [
        "trainloader = torch.utils.data.DataLoader(train, batch_size=100, shuffle=True, num_workers=2)\n",
        "valloader = torch.utils.data.DataLoader(val, batch_size=100, shuffle=True, num_workers=2)\n",
        "testloader = torch.utils.data.DataLoader(test, batch_size=100, shuffle=True, num_workers=2)"
      ],
      "execution_count": 6,
      "outputs": []
    },
    {
      "cell_type": "code",
      "metadata": {
        "id": "Ak-GfkTVBn5G",
        "outputId": "206dbc5b-aed8-4e83-f88e-7a5251df1946",
        "colab": {
          "base_uri": "https://localhost:8080/",
          "height": 172
        }
      },
      "source": [
        "def imshow(img):\n",
        "    npimg = img.numpy()\n",
        "    plt.imshow(np.transpose(npimg, (1, 2, 0)), cmap='gray')\n",
        "\n",
        "# get some random training images\n",
        "dataiter = iter(trainloader)\n",
        "images, labels = dataiter.next()\n",
        "\n",
        "print(\"Batch Images Shape:\", images.shape)\n",
        "print(\"Batch Labels Shape:\", labels.shape)\n",
        "print()\n",
        "\n",
        "# show 5 images\n",
        "imshow(torchvision.utils.make_grid(images[:5]))\n",
        "plt.axis('off')\n",
        "# print labels\n",
        "print(' '.join('%7s' % emotions[labels[j].item()] for j in range(5)))"
      ],
      "execution_count": 7,
      "outputs": [
        {
          "output_type": "stream",
          "text": [
            "Batch Images Shape: torch.Size([100, 1, 48, 48])\n",
            "Batch Labels Shape: torch.Size([100])\n",
            "\n",
            "  Happy Surprise   Happy   Angry Surprise\n"
          ],
          "name": "stdout"
        },
        {
          "output_type": "display_data",
          "data": {
            "image/png": "[encoded data removed]",
            "text/plain": [
              "<Figure size 432x288 with 1 Axes>"
            ]
          },
          "metadata": {
            "tags": [],
            "needs_background": "light"
          }
        }
      ]
    },
    {
      "cell_type": "markdown",
      "metadata": {
        "id": "WsdCb5GV9MoG"
      },
      "source": [
        "# Combining Three Subnets"
      ]
    },
    {
      "cell_type": "code",
      "metadata": {
        "id": "g7uB0Q9q9JfK"
      },
      "source": [
        "# All model class definitions\n",
        "class Subnet1Features(nn.Module):\n",
        "    def __init__(self):\n",
        "        super(Subnet1Features, self).__init__()\n",
        "        # Not sure about number of in channels, may have to change!\n",
        "        self.conv1 = nn.Conv2d(in_channels=1, out_channels=64, kernel_size=3, padding=1) # according to paper!\n",
        "        self.pool = nn.MaxPool2d(kernel_size=2,stride=2)\n",
        "        self.conv2 = nn.Conv2d(64,128,3,padding=1)\n",
        "        self.conv3 = nn.Conv2d(128, 256, 3, padding=1)\n",
        "\n",
        "        self.lin1 = nn.Linear(256*6*6, 4096) # Will have to change input size\n",
        "        self.lin2 = nn.Linear(4096, 4096)\n",
        "        #self.lin3 = nn.Linear(4096, 7)\n",
        "        \n",
        "\n",
        "    def forward(self, x):\n",
        "        x = F.relu(self.conv1(x))\n",
        "        #print(\"shape after 1 conv layer: \", x.shape)\n",
        "        x = self.pool(x)\n",
        "\n",
        "        x = F.relu(self.conv2(x))\n",
        "        x = self.pool(x)\n",
        "\n",
        "        x = F.relu(self.conv3(x))\n",
        "        x = self.pool(x)\n",
        "\n",
        "\n",
        "        x = x.view(-1, 256*6*6) # will have to change!\n",
        "        # print(\"reshaped\", x.shape)\n",
        "        x = F.relu(self.lin1(x))\n",
        "        x = F.relu(self.lin2(x))\n",
        "        #x = self.lin3(x)\n",
        "\n",
        "        return x\n",
        "\n",
        "class Subnet2Features(nn.Module):\n",
        "    def __init__(self):\n",
        "        super(Subnet2Features, self).__init__()\n",
        "        # Not sure about number of in channels, may have to change!\n",
        "        self.conv1 = nn.Conv2d(in_channels=1, out_channels=64, kernel_size=3, padding=1) # according to paper!\n",
        "        self.pool = nn.MaxPool2d(kernel_size=2,stride=2)\n",
        "        self.conv2 = nn.Conv2d(64,128,3,padding=1)\n",
        "        self.conv3 = nn.Conv2d(128, 256, 3, padding=1)\n",
        "        self.conv3_2 = nn.Conv2d(256,256, 3, padding=1)\n",
        "        self.lin1 = nn.Linear(256 * 6 * 6, 4096) # MUST CHANGE\n",
        "        self.lin2 = nn.Linear(4096, 4096)\n",
        "        #self.lin3 = nn.Linear(4096, 7)\n",
        "\n",
        "    def forward(self, x):\n",
        "\n",
        "        x = F.relu(self.conv1(x))\n",
        "        x = self.pool(x)\n",
        "\n",
        "        x = F.relu(self.conv2(x))\n",
        "        x = self.pool(x)\n",
        "\n",
        "        x = F.relu(self.conv3(x))\n",
        "        x = F.relu(self.conv3_2(x))\n",
        "        x = self.pool(x)\n",
        "\n",
        "        x = x.view(x.size(0), 256 * 6 * 6)\n",
        "\n",
        "        x = F.relu(self.lin1(x))\n",
        "        x = F.relu(self.lin2(x))\n",
        "        #x = self.lin3(x)\n",
        "\n",
        "        return x\n",
        "\n",
        "\n",
        "class Subnet3Features(nn.Module):\n",
        "    def __init__(self):\n",
        "        super(Subnet3Features, self).__init__()\n",
        "        # Not sure about number of in channels, may have to change!\n",
        "\n",
        "        self.conv1 = nn.Conv2d(in_channels=1, out_channels=64, kernel_size=3, padding=1) # according to paper!\n",
        "        self.pool = nn.MaxPool2d(kernel_size=2,stride=2)\n",
        "        self.conv2 = nn.Conv2d(64,128,3,padding=1)\n",
        "        self.conv2_2 = nn.Conv2d(128,128,3,padding=1)\n",
        "        self.conv3 = nn.Conv2d(128, 256, 3, padding=1)\n",
        "        self.conv3_2 = nn.Conv2d(256,256, 3, padding=1)\n",
        "        self.lin1 = nn.Linear(256 * 6 * 6, 4096) # MUST CHANGE\n",
        "        self.lin2 = nn.Linear(4096, 4096)\n",
        "        #self.lin3 = nn.Linear(4096, 7)\n",
        "\n",
        "\n",
        "    def forward(self, x):\n",
        "\n",
        "        x = F.relu(self.conv1(x))\n",
        "        #print(\"shape after 1 conv layer: \", x.shape)\n",
        "        x = self.pool(x)\n",
        "\n",
        "        x = F.relu(self.conv2(x))\n",
        "        x = F.relu(self.conv2_2(x))\n",
        "        #print(\"shape after 2 conv layer: \", x.shape)\n",
        "        x = self.pool(x)\n",
        "\n",
        "        x = F.relu(self.conv3(x))\n",
        "        x = F.relu(self.conv3_2(x))\n",
        "        #print(\"shape after 3 conv layer: \", x.shape)\n",
        "        x = self.pool(x)\n",
        "\n",
        "        x = x.view(-1, 256*6*6) # CHANGE\n",
        "      \n",
        "        x = F.relu(self.lin1(x))\n",
        "        x = F.relu(self.lin2(x))\n",
        "        #x = self.lin3(x)\n",
        "\n",
        "        return x\n",
        "\n"
      ],
      "execution_count": 14,
      "outputs": []
    },
    {
      "cell_type": "code",
      "metadata": {
        "id": "eJ6VG-IVR6gb"
      },
      "source": [
        "# All model class definitions\n",
        "class Subnet1(nn.Module):\n",
        "    def __init__(self):\n",
        "        super(Subnet1, self).__init__()\n",
        "        # Not sure about number of in channels, may have to change!\n",
        "        self.conv1 = nn.Conv2d(in_channels=1, out_channels=64, kernel_size=3, padding=1) # according to paper!\n",
        "        self.pool = nn.MaxPool2d(kernel_size=2,stride=2)\n",
        "        self.conv2 = nn.Conv2d(64,128,3,padding=1)\n",
        "        self.conv3 = nn.Conv2d(128, 256, 3, padding=1)\n",
        "\n",
        "        self.lin1 = nn.Linear(256*6*6, 4096) # Will have to change input size\n",
        "        self.lin2 = nn.Linear(4096, 4096)\n",
        "        self.lin3 = nn.Linear(4096, 7)\n",
        "\n",
        "    def forward(self, x):\n",
        "        x = F.relu(self.conv1(x))\n",
        "        #print(\"shape after 1 conv layer: \", x.shape)\n",
        "        x = self.pool(x)\n",
        "\n",
        "        x = F.relu(self.conv2(x))\n",
        "        x = self.pool(x)\n",
        "\n",
        "        x = F.relu(self.conv3(x))\n",
        "        x = self.pool(x)\n",
        "\n",
        "        x = x.view(-1, 256*6*6) # will have to change!\n",
        "        # print(\"reshaped\", x.shape)\n",
        "        x = F.relu(self.lin1(x))\n",
        "        x = F.relu(self.lin2(x))\n",
        "        x = self.lin3(x)\n",
        "\n",
        "        return x\n",
        "\n",
        "class Subnet2(nn.Module):\n",
        "    def __init__(self):\n",
        "        super(Subnet2, self).__init__()\n",
        "        # Not sure about number of in channels, may have to change!\n",
        "        self.conv1 = nn.Conv2d(in_channels=1, out_channels=64, kernel_size=3, padding=1) # according to paper!\n",
        "        self.pool = nn.MaxPool2d(kernel_size=2,stride=2)\n",
        "        self.conv2 = nn.Conv2d(64,128,3,padding=1)\n",
        "        self.conv3 = nn.Conv2d(128, 256, 3, padding=1)\n",
        "        self.conv3_2 = nn.Conv2d(256,256, 3, padding=1)\n",
        "        self.lin1 = nn.Linear(256 * 6 * 6, 4096) # MUST CHANGE\n",
        "        self.lin2 = nn.Linear(4096, 4096)\n",
        "        self.lin3 = nn.Linear(4096, 7)\n",
        "\n",
        "    def forward(self, x):\n",
        "\n",
        "        x = F.relu(self.conv1(x))\n",
        "        x = self.pool(x)\n",
        "\n",
        "        x = F.relu(self.conv2(x))\n",
        "        x = self.pool(x)\n",
        "\n",
        "        x = F.relu(self.conv3(x))\n",
        "        x = F.relu(self.conv3_2(x))\n",
        "        x = self.pool(x)\n",
        "\n",
        "        x = x.view(x.size(0), 256 * 6 * 6)\n",
        "\n",
        "        x = F.relu(self.lin1(x))\n",
        "        x = F.relu(self.lin2(x))\n",
        "        x = self.lin3(x)\n",
        "\n",
        "        return x\n",
        "\n",
        "\n",
        "class Subnet3(nn.Module):\n",
        "    def __init__(self):\n",
        "        super(Subnet3, self).__init__()\n",
        "        # Not sure about number of in channels, may have to change!\n",
        "\n",
        "        self.conv1 = nn.Conv2d(in_channels=1, out_channels=64, kernel_size=3, padding=1) # according to paper!\n",
        "        self.pool = nn.MaxPool2d(kernel_size=2,stride=2)\n",
        "        self.conv2 = nn.Conv2d(64,128,3,padding=1)\n",
        "        self.conv2_2 = nn.Conv2d(128,128,3,padding=1)\n",
        "        self.conv3 = nn.Conv2d(128, 256, 3, padding=1)\n",
        "        self.conv3_2 = nn.Conv2d(256,256, 3, padding=1)\n",
        "        self.lin1 = nn.Linear(256 * 6 * 6, 4096) # MUST CHANGE\n",
        "        self.lin2 = nn.Linear(4096, 4096)\n",
        "        self.lin3 = nn.Linear(4096, 7)\n",
        "\n",
        "    def forward(self, x):\n",
        "\n",
        "        x = F.relu(self.conv1(x))\n",
        "        #print(\"shape after 1 conv layer: \", x.shape)\n",
        "        x = self.pool(x)\n",
        "\n",
        "        x = F.relu(self.conv2(x))\n",
        "        x = F.relu(self.conv2_2(x))\n",
        "        #print(\"shape after 2 conv layer: \", x.shape)\n",
        "        x = self.pool(x)\n",
        "\n",
        "        x = F.relu(self.conv3(x))\n",
        "        x = F.relu(self.conv3_2(x))\n",
        "        #print(\"shape after 3 conv layer: \", x.shape)\n",
        "        x = self.pool(x)\n",
        "\n",
        "        x = x.view(-1, 256*6*6) # CHANGE\n",
        "      \n",
        "        x = F.relu(self.lin1(x))\n",
        "        x = F.relu(self.lin2(x))\n",
        "        x = self.lin3(x)\n",
        "\n",
        "        return x"
      ],
      "execution_count": 15,
      "outputs": []
    },
    {
      "cell_type": "code",
      "metadata": {
        "id": "WZu63iPUCfXQ"
      },
      "source": [
        "def train_model(net, trainloader, valloader, n_epochs=20):\n",
        "\n",
        "    for epoch in range(n_epochs):\n",
        "        \n",
        "        net = net.train()\n",
        "        loss_tr, correct_count, n = 0.0, 0.0, 0.0\n",
        "        for i, data in enumerate(trainloader):\n",
        "            inputs, labels = data\n",
        "            inputs, labels = inputs.to(device), labels.to(device)\n",
        "            \n",
        "            # zero the parameter gradients\n",
        "            optimizer.zero_grad()\n",
        "            \n",
        "            # forward + backward + optimize\n",
        "            outputs = net(inputs)\n",
        "            loss = criterion(outputs, labels)\n",
        "            loss.backward()\n",
        "            optimizer.step()\n",
        "\n",
        "            # calculate performance metrics\n",
        "            loss_tr += loss.item()\n",
        "            \n",
        "            _, preds = torch.max(outputs.data, 1)\n",
        "            correct_count += (preds == labels).sum().item()\n",
        "            n += labels.size(0)\n",
        "            \n",
        "        # Save train and validation performance metrics \n",
        "        acc_tr = 100 * correct_count / n\n",
        "        loss_tr = loss_tr / n\n",
        "\n",
        "        acc_v, loss_v = test_model(net, valloader)\n",
        "\n",
        "        net.history.loss_train.append(loss_tr)\n",
        "        net.history.loss_val.append(loss_v)\n",
        "\n",
        "        net.history.acc_train.append(acc_tr)\n",
        "        net.history.acc_val.append(acc_v)\n",
        "        \n",
        "        print('Epoch %2d' % (epoch + 1), 'Train Accuracy: %2.2f %%' % (acc_tr), 'Val Accuracy: %2.2f %%' % (acc_v), sep='\\t\\t')"
      ],
      "execution_count": 16,
      "outputs": []
    },
    {
      "cell_type": "code",
      "metadata": {
        "id": "0SOdtZNPCvqV"
      },
      "source": [
        "def test_model(net, dataloader):\n",
        "    \n",
        "    net = net.eval()\n",
        "\n",
        "    loss, correct_count, n_sampels = 0.0, 0.0, 0.0\n",
        "    for data in dataloader:\n",
        "\n",
        "        inputs, labels = data\n",
        "        inputs, labels = inputs.to(device), labels.to(device)\n",
        "\n",
        "        outputs = net(inputs)\n",
        "\n",
        "        loss += criterion(outputs, labels).item()\n",
        "\n",
        "        _, preds = torch.max(outputs.data, 1)\n",
        "        correct_count += (preds == labels).sum().item()\n",
        "        n_sampels += labels.size(0)\n",
        "    \n",
        "    acc = 100 * correct_count / n_sampels\n",
        "    loss = loss / n_sampels\n",
        "    \n",
        "    return acc, loss"
      ],
      "execution_count": 17,
      "outputs": []
    },
    {
      "cell_type": "code",
      "metadata": {
        "id": "dbu7rptnXlOq"
      },
      "source": [
        "def plot_metrics(net):\n",
        "    plt.figure()\n",
        "    plt.plot(net.history.acc_train, 'g', label='Training Acc')\n",
        "    plt.plot(net.history.acc_val, 'b', label='Validation Acc')\n",
        "    plt.title('Accuracy')\n",
        "    plt.xlabel('Epoch')\n",
        "    plt.ylabel('Acc')\n",
        "    plt.legend()\n",
        "    plt.grid()\n",
        "    plt.show()\n",
        "\n",
        "    plt.figure()\n",
        "    plt.plot(net.history.loss_train, 'g', label='Training Loss')\n",
        "    plt.plot(net.history.loss_val, 'b', label='Validation Loss')\n",
        "    plt.title('Loss')\n",
        "    plt.xlabel('Epoch')\n",
        "    plt.ylabel('Loss')\n",
        "    plt.legend()\n",
        "    plt.grid()\n",
        "    plt.show()\n",
        "\n",
        "    print('Training Accuracy: %2.2f %%' % (max(net.history.acc_train)))\n",
        "    print('Validation Accuracy: %2.2f %%' % (max(net.history.acc_val)))\n",
        "    print()\n",
        "\n",
        "    acc, loss = test_model(net, testloader)    \n",
        "    print('Test Accuracy: %2.2f %%' % (acc))\n",
        "    print('Average Test Loss: %2.4f' % (loss))"
      ],
      "execution_count": 18,
      "outputs": []
    },
    {
      "cell_type": "code",
      "metadata": {
        "id": "wk0wGha9aXhu"
      },
      "source": [
        "class History:\n",
        "    def __init__(self):\n",
        "        self.loss_train = []\n",
        "        self.loss_val = []\n",
        "\n",
        "        self.acc_train = []\n",
        "        self.acc_val = []"
      ],
      "execution_count": 22,
      "outputs": []
    },
    {
      "cell_type": "code",
      "metadata": {
        "id": "-Nfdqqz7G10I",
        "outputId": "105a9ef4-9a59-4ce3-c983-101c60ffba8e",
        "colab": {
          "base_uri": "https://localhost:8080/",
          "height": 573
        }
      },
      "source": [
        "plt.figure()\n",
        "plt.plot(train_loss, 'g', label='Training loss')\n",
        "plt.title('Training loss')\n",
        "plt.xlabel('Iteration')\n",
        "plt.ylabel('Loss')\n",
        "plt.legend()\n",
        "plt.grid()\n",
        "plt.show()\n",
        "\n",
        "plt.figure()\n",
        "plt.plot(val_loss, 'b', label='Validation loss')\n",
        "plt.title('Validation loss')\n",
        "plt.xlabel('Iteration')\n",
        "plt.ylabel('Loss')\n",
        "plt.legend()\n",
        "plt.grid()\n",
        "plt.show()"
      ],
      "execution_count": null,
      "outputs": [
        {
          "output_type": "display_data",
          "data": {
            "image/png": "[encoded data removed]",
            "text/plain": [
              "<Figure size 432x288 with 1 Axes>"
            ]
          },
          "metadata": {
            "tags": [],
            "needs_background": "light"
          }
        },
        {
          "output_type": "display_data",
          "data": {
            "image/png": "[encoded data removed]",
            "text/plain": [
              "<Figure size 432x288 with 1 Axes>"
            ]
          },
          "metadata": {
            "tags": [],
            "needs_background": "light"
          }
        }
      ]
    },
    {
      "cell_type": "code",
      "metadata": {
        "id": "_By_ndCQG9He",
        "outputId": "97204dbf-0064-4dd1-e0a0-2fe643f9122d",
        "colab": {
          "base_uri": "https://localhost:8080/",
          "height": 70
        }
      },
      "source": [
        "acc = []\n",
        "dataloaders = [trainloader, valloader, testloader]\n",
        "for loader in dataloaders:\n",
        "    acc.append(test_model(net, loader))\n",
        "\n",
        "print('Train Accuracy: %2.2f %%' % (acc[0]))\n",
        "print('Val Accuracy: %2.2f %%' % (acc[1]))\n",
        "print('Test Accuracy: %2.2f %%' % (acc[2]))"
      ],
      "execution_count": null,
      "outputs": [
        {
          "output_type": "stream",
          "text": [
            "Train Accuracy: 64.77 %\n",
            "Val Accuracy: 59.54 %\n",
            "Test Accuracy: 59.32 %\n"
          ],
          "name": "stdout"
        }
      ]
    },
    {
      "cell_type": "code",
      "metadata": {
        "id": "W5nCXV-1TkRX",
        "outputId": "2aaf3146-6eb6-4a57-8d20-a0bfcdb4078b",
        "colab": {
          "base_uri": "https://localhost:8080/",
          "height": 35
        }
      },
      "source": [
        "from google.colab import drive\n",
        "drive.mount('/content/drive')"
      ],
      "execution_count": 12,
      "outputs": [
        {
          "output_type": "stream",
          "text": [
            "Mounted at /content/drive\n"
          ],
          "name": "stdout"
        }
      ]
    },
    {
      "cell_type": "code",
      "metadata": {
        "id": "GGSXwqeMPgwR",
        "outputId": "b915ff00-4b2c-4914-b627-d713f53a0905",
        "colab": {
          "base_uri": "https://localhost:8080/",
          "height": 212
        }
      },
      "source": [
        "# load pretrained models completeley\n",
        "pretrained_1 = Subnet1()\n",
        "pretrained_1.load_state_dict(torch.load('/content/drive/Shared drives/EC523 Project/CNN Ensemble/Basic Subnets/sub1'))\n",
        "pretrained_1.eval()\n",
        "\n",
        "pretrained_2 = Subnet2()\n",
        "pretrained_2.load_state_dict(torch.load('/content/drive/Shared drives/EC523 Project/CNN Ensemble/Basic Subnets/sub2'))\n",
        "pretrained_2.eval()\n",
        "\n",
        "pretrained_3 = Subnet3()\n",
        "pretrained_3.load_state_dict(torch.load('/content/drive/Shared drives/EC523 Project/CNN Ensemble/Basic Subnets/sub3'))\n",
        "pretrained_3.eval()\n",
        "\n",
        "# figure out the layers"
      ],
      "execution_count": 13,
      "outputs": [
        {
          "output_type": "execute_result",
          "data": {
            "text/plain": [
              "Subnet3(\n",
              "  (conv1): Conv2d(1, 64, kernel_size=(3, 3), stride=(1, 1), padding=(1, 1))\n",
              "  (pool): MaxPool2d(kernel_size=2, stride=2, padding=0, dilation=1, ceil_mode=False)\n",
              "  (conv2): Conv2d(64, 128, kernel_size=(3, 3), stride=(1, 1), padding=(1, 1))\n",
              "  (conv2_2): Conv2d(128, 128, kernel_size=(3, 3), stride=(1, 1), padding=(1, 1))\n",
              "  (conv3): Conv2d(128, 256, kernel_size=(3, 3), stride=(1, 1), padding=(1, 1))\n",
              "  (conv3_2): Conv2d(256, 256, kernel_size=(3, 3), stride=(1, 1), padding=(1, 1))\n",
              "  (lin1): Linear(in_features=9216, out_features=4096, bias=True)\n",
              "  (lin2): Linear(in_features=4096, out_features=4096, bias=True)\n",
              "  (lin3): Linear(in_features=4096, out_features=7, bias=True)\n",
              ")"
            ]
          },
          "metadata": {
            "tags": []
          },
          "execution_count": 13
        }
      ]
    },
    {
      "cell_type": "code",
      "metadata": {
        "id": "mbl_sQ2hU1Z8"
      },
      "source": [
        "def load_layers(pretrained, sub_f, selected_layers):\n",
        "  params_to_load = {name:None for name in selected_layers} \n",
        "  print(params_to_load)\n",
        "\n",
        "  for name, param in pretrained.named_parameters():\n",
        "    if name in params_to_load: \n",
        "      params_to_load[name] = param\n",
        "\n",
        "  # now copy into net_cifar\n",
        "  for name, param in sub_f.named_parameters():\n",
        "    if name in params_to_load:\n",
        "      param.data = params_to_load[name]\n",
        "      param.requires_grad = False # this freezes the layer!\n",
        "\n",
        "  return sub_f"
      ],
      "execution_count": 19,
      "outputs": []
    },
    {
      "cell_type": "code",
      "metadata": {
        "id": "PM8z4JgiQZiD",
        "outputId": "44250590-09f9-4fd0-a698-a92805f7b26d",
        "colab": {
          "base_uri": "https://localhost:8080/",
          "height": 90
        }
      },
      "source": [
        "sub1_f = Subnet1Features()\n",
        "sub2_f = Subnet2Features()\n",
        "sub3_f = Subnet3Features()\n",
        "\n",
        "# now load just selected layers\n",
        "selected_layers_1 = ['conv1.weight', 'conv1.bias', 'conv2.weight', 'conv2.bias', 'conv3.weight', 'conv3.bias', 'lin1.weight', 'lin1.bias', 'lin2.weight', 'lin2.bias']\n",
        "selected_layers_2 = ['conv1.weight', 'conv1.bias', 'conv2.weight', 'conv2.bias', 'conv3.weight', 'conv3.bias', 'conv3_2.weight', 'conv3_2.bias', 'lin1.weight', 'lin1.bias', 'lin2.weight', 'lin2.bias']\n",
        "selected_layers_3 = ['conv1.weight', 'conv1.bias', 'conv2.weight', 'conv2.bias', 'conv2_2.weight', 'conv2_2.bias', 'conv3.weight', 'conv3.bias', 'conv3_2.weight', 'conv3_2.bias', 'lin1.weight', 'lin1.bias', 'lin2.weight', 'lin2.bias']\n",
        "\n",
        "subnet1 = load_layers(pretrained_1, sub1_f, selected_layers_1)\n",
        "subnet2 = load_layers(pretrained_2, sub2_f, selected_layers_2)\n",
        "subnet3 = load_layers(pretrained_3, sub3_f, selected_layers_3)\n"
      ],
      "execution_count": 20,
      "outputs": [
        {
          "output_type": "stream",
          "text": [
            "{'conv1.weight': None, 'conv1.bias': None, 'conv2.weight': None, 'conv2.bias': None, 'conv3.weight': None, 'conv3.bias': None, 'lin1.weight': None, 'lin1.bias': None, 'lin2.weight': None, 'lin2.bias': None}\n",
            "{'conv1.weight': None, 'conv1.bias': None, 'conv2.weight': None, 'conv2.bias': None, 'conv3.weight': None, 'conv3.bias': None, 'conv3_2.weight': None, 'conv3_2.bias': None, 'lin1.weight': None, 'lin1.bias': None, 'lin2.weight': None, 'lin2.bias': None}\n",
            "{'conv1.weight': None, 'conv1.bias': None, 'conv2.weight': None, 'conv2.bias': None, 'conv2_2.weight': None, 'conv2_2.bias': None, 'conv3.weight': None, 'conv3.bias': None, 'conv3_2.weight': None, 'conv3_2.bias': None, 'lin1.weight': None, 'lin1.bias': None, 'lin2.weight': None, 'lin2.bias': None}\n"
          ],
          "name": "stdout"
        }
      ]
    },
    {
      "cell_type": "code",
      "metadata": {
        "id": "BAGZ3FwCOvtY"
      },
      "source": [
        "class CombinedNetsPretrained(nn.Module):\n",
        "    def __init__(self, subnet1, subnet2, subnet3):\n",
        "        super(CombinedNetsPretrained, self).__init__()\n",
        "        # pass in FROZEN subnets!!\n",
        "        # for net 1\n",
        "        self.sub1 = subnet1\n",
        "\n",
        "        self.sub2 = subnet2\n",
        "\n",
        "        self.sub3 = subnet3\n",
        "        # for net2\n",
        "\n",
        "        self.history = History()\n",
        "\n",
        "        self.final_lin = nn.Linear(4096*3, 7)\n",
        "\n",
        "    def forward(self, x):\n",
        "        x_1 = self.sub1(x)\n",
        "        x_2 = self.sub2(x)\n",
        "        x_3 = self.sub3(x)\n",
        "\n",
        "        # concatenate x_1, x_2, x_3\n",
        "        #third_tensor= tf.concat(0, [first_tensor, second_tensor])\n",
        "\n",
        "        #print(x_1.shape, x_2.shape, x_3.shape)\n",
        "\n",
        "        x_cat = torch.cat((x_1, x_2, x_3), dim=1)\n",
        "\n",
        "        #print(x_cat.shape)\n",
        "        #input(\"Type E to continue...\")\n",
        "\n",
        "        x = self.final_lin(x_cat)\n",
        "\n",
        "        return x\n",
        "\n",
        "net = CombinedNetsPretrained(subnet1,subnet2,subnet3)\n",
        "net = net.to(device)"
      ],
      "execution_count": 23,
      "outputs": []
    },
    {
      "cell_type": "code",
      "metadata": {
        "id": "pBSSikLjWshc",
        "outputId": "5f52c588-0a53-4b5c-c656-a28a1559d6f3",
        "colab": {
          "base_uri": "https://localhost:8080/",
          "height": 372
        }
      },
      "source": [
        "criterion = nn.CrossEntropyLoss()\n",
        "optimizer = optim.SGD(net.parameters(), lr=0.01, momentum=0.9)\n",
        "train_model(net, trainloader, valloader, n_epochs=20)"
      ],
      "execution_count": 24,
      "outputs": [
        {
          "output_type": "stream",
          "text": [
            "Epoch  1\t\tTrain Accuracy: 97.70 %\t\tVal Accuracy: 67.73 %\n",
            "Epoch  2\t\tTrain Accuracy: 98.97 %\t\tVal Accuracy: 67.68 %\n",
            "Epoch  3\t\tTrain Accuracy: 99.13 %\t\tVal Accuracy: 67.65 %\n",
            "Epoch  4\t\tTrain Accuracy: 99.10 %\t\tVal Accuracy: 67.46 %\n",
            "Epoch  5\t\tTrain Accuracy: 99.04 %\t\tVal Accuracy: 68.04 %\n",
            "Epoch  6\t\tTrain Accuracy: 99.14 %\t\tVal Accuracy: 67.79 %\n",
            "Epoch  7\t\tTrain Accuracy: 99.16 %\t\tVal Accuracy: 68.07 %\n",
            "Epoch  8\t\tTrain Accuracy: 99.05 %\t\tVal Accuracy: 67.68 %\n",
            "Epoch  9\t\tTrain Accuracy: 99.13 %\t\tVal Accuracy: 68.10 %\n",
            "Epoch 10\t\tTrain Accuracy: 99.08 %\t\tVal Accuracy: 68.04 %\n",
            "Epoch 11\t\tTrain Accuracy: 99.12 %\t\tVal Accuracy: 68.04 %\n",
            "Epoch 12\t\tTrain Accuracy: 99.05 %\t\tVal Accuracy: 68.12 %\n",
            "Epoch 13\t\tTrain Accuracy: 99.07 %\t\tVal Accuracy: 67.82 %\n",
            "Epoch 14\t\tTrain Accuracy: 99.07 %\t\tVal Accuracy: 67.60 %\n",
            "Epoch 15\t\tTrain Accuracy: 99.16 %\t\tVal Accuracy: 67.93 %\n",
            "Epoch 16\t\tTrain Accuracy: 99.05 %\t\tVal Accuracy: 67.73 %\n",
            "Epoch 17\t\tTrain Accuracy: 99.09 %\t\tVal Accuracy: 68.04 %\n",
            "Epoch 18\t\tTrain Accuracy: 99.16 %\t\tVal Accuracy: 67.76 %\n",
            "Epoch 19\t\tTrain Accuracy: 99.15 %\t\tVal Accuracy: 67.54 %\n",
            "Epoch 20\t\tTrain Accuracy: 99.15 %\t\tVal Accuracy: 67.51 %\n"
          ],
          "name": "stdout"
        }
      ]
    },
    {
      "cell_type": "code",
      "metadata": {
        "id": "eu5REnKaa8Ug",
        "outputId": "901e636a-0731-4cca-9328-558f2d69feb5",
        "colab": {
          "base_uri": "https://localhost:8080/",
          "height": 662
        }
      },
      "source": [
        "plot_metrics(net)"
      ],
      "execution_count": 25,
      "outputs": [
        {
          "output_type": "display_data",
          "data": {
            "image/png": "[encoded data removed]",
            "text/plain": [
              "<Figure size 432x288 with 1 Axes>"
            ]
          },
          "metadata": {
            "tags": [],
            "needs_background": "light"
          }
        },
        {
          "output_type": "display_data",
          "data": {
            "image/png": "[encoded data removed]",
            "text/plain": [
              "<Figure size 432x288 with 1 Axes>"
            ]
          },
          "metadata": {
            "tags": [],
            "needs_background": "light"
          }
        },
        {
          "output_type": "stream",
          "text": [
            "Training Accuracy: 99.16 %\n",
            "Validation Accuracy: 68.12 %\n",
            "\n",
            "Test Accuracy: 65.78 %\n",
            "Average Test Loss: 0.0206\n"
          ],
          "name": "stdout"
        }
      ]
    }
  ]
}