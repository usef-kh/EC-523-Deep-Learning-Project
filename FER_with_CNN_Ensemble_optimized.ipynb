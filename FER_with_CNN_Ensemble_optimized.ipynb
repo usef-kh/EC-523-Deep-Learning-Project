{
  "nbformat": 4,
  "nbformat_minor": 0,
  "metadata": {
    "colab": {
      "name": "FER_with_CNN_Ensemble_optimized.ipynb",
      "provenance": [],
      "collapsed_sections": [],
      "include_colab_link": true
    },
    "kernelspec": {
      "name": "python3",
      "display_name": "Python 3"
    },
    "accelerator": "GPU"
  },
  "cells": [
    {
      "cell_type": "markdown",
      "metadata": {
        "id": "view-in-github",
        "colab_type": "text"
      },
      "source": [
        "<a href=\"https://colab.research.google.com/github/usef-kh/EC523-Deep-Learning-Project/blob/master/FER_with_CNN_Ensemble_optimized.ipynb\" target=\"_parent\"><img src=\"https://colab.research.google.com/assets/colab-badge.svg\" alt=\"Open In Colab\"/></a>"
      ]
    },
    {
      "cell_type": "markdown",
      "metadata": {
        "id": "lnO2nvqpALPj"
      },
      "source": [
        "## Setup"
      ]
    },
    {
      "cell_type": "code",
      "metadata": {
        "id": "9cWGQl78U9wy",
        "outputId": "20d04599-de56-40e6-9b93-9b0309a9faa2",
        "colab": {
          "base_uri": "https://localhost:8080/",
          "height": 35
        }
      },
      "source": [
        "!git clone \"https://github.com/usef-kh/EC523-Deep-Learning-Project.git\""
      ],
      "execution_count": 1,
      "outputs": [
        {
          "output_type": "stream",
          "text": [
            "fatal: destination path 'EC523-Deep-Learning-Project' already exists and is not an empty directory.\n"
          ],
          "name": "stdout"
        }
      ]
    },
    {
      "cell_type": "code",
      "metadata": {
        "id": "HgKnn2ux6Pgp",
        "outputId": "50992e1e-de89-4dd5-a15d-91c5ee27bc93",
        "colab": {
          "base_uri": "https://localhost:8080/",
          "height": 108
        }
      },
      "source": [
        "!pip install unrar"
      ],
      "execution_count": 6,
      "outputs": [
        {
          "output_type": "stream",
          "text": [
            "Collecting unrar\n",
            "  Downloading https://files.pythonhosted.org/packages/bb/0b/53130ccd483e3db8c8a460cb579bdb21b458d5494d67a261e1a5b273fbb9/unrar-0.4-py3-none-any.whl\n",
            "Installing collected packages: unrar\n",
            "Successfully installed unrar-0.4\n"
          ],
          "name": "stdout"
        }
      ]
    },
    {
      "cell_type": "code",
      "metadata": {
        "id": "mtrv6tM-Xq2n",
        "outputId": "ec63ce3a-8219-4802-91bc-e9d734d9f701",
        "colab": {
          "base_uri": "https://localhost:8080/",
          "height": 301
        }
      },
      "source": [
        "# !unrar x \"EC523-Deep-Learning-Project/datasets/ckplus.rar\"\n",
        "!unrar e \"EC523-Deep-Learning-Project/datasets/fer2013.rar\""
      ],
      "execution_count": 2,
      "outputs": [
        {
          "output_type": "stream",
          "text": [
            "\n",
            "UNRAR 5.50 freeware      Copyright (c) 1993-2017 Alexander Roshal\n",
            "\n",
            "\n",
            "Extracting from EC523-Deep-Learning-Project/datasets/fer2013.rar\n",
            "\n",
            "\n",
            "Would you like to replace the existing file fer2013.csv\n",
            "301108654 bytes, modified on 2020-10-14 22:59\n",
            "with a new one\n",
            "301108654 bytes, modified on 2020-10-14 22:59\n",
            "\n",
            "[Y]es, [N]o, [A]ll, n[E]ver, [R]ename, [Q]uit Yes\n",
            "\n",
            "Extracting  fer2013.csv                                                  \b\b\b\b  4%\b\b\b\b  9%\b\b\b\b 13%\b\b\b\b 18%\b\b\b\b 23%\b\b\b\b 27%\b\b\b\b 32%\b\b\b\b 37%\b\b\b\b 41%\b\b\b\b 46%\b\b\b\b 51%\b\b\b\b 55%\b\b\b\b 60%\b\b\b\b 65%\b\b\b\b 69%\b\b\b\b 74%\b\b\b\b 79%\b\b\b\b 83%\b\b\b\b 88%\b\b\b\b 93%\b\b\b\b 97%\b\b\b\b 99%\b\b\b\b\b  OK \n",
            "All OK\n"
          ],
          "name": "stdout"
        }
      ]
    },
    {
      "cell_type": "markdown",
      "metadata": {
        "id": "rN_6jQNFAH8t"
      },
      "source": [
        "##Imports"
      ]
    },
    {
      "cell_type": "code",
      "metadata": {
        "id": "kQ-kmOyAAHLn"
      },
      "source": [
        "import pandas as pd\n",
        "import numpy as np\n",
        "\n",
        "import torch\n",
        "import torch.nn as nn\n",
        "import torch.nn.functional as F\n",
        "import torchvision\n",
        "import torchvision.transforms as transforms\n",
        "from torch import optim\n",
        "from torch.utils.data import Dataset, DataLoader\n",
        "from PIL import Image\n",
        "\n",
        "import matplotlib.pyplot as plt\n",
        "\n",
        "import warnings\n",
        "warnings.filterwarnings(\"ignore\")\n",
        "\n",
        "device = torch.device(\"cuda:0\" if torch.cuda.is_available() else \"cpu\")"
      ],
      "execution_count": 3,
      "outputs": []
    },
    {
      "cell_type": "markdown",
      "metadata": {
        "id": "KBi_q71MAOLY"
      },
      "source": [
        "##Load Dataset"
      ]
    },
    {
      "cell_type": "code",
      "metadata": {
        "id": "LflyoA8EXNXS"
      },
      "source": [
        "fer2013 = pd.read_csv('fer2013.csv') \n",
        "emotions = {0: 'Angry', 1: 'Disgust', 2: 'Fear', 3: 'Happy', 4: 'Sad', 5: 'Surprise', 6: 'Neutral'}\n",
        "fer2013.head()\n",
        "\n",
        "transform = transforms.Normalize(mean=129.4456, std = 1)\n",
        "\n",
        "def prepare_data(data):\n",
        "    \"\"\" Prepare data for modeling \n",
        "        input: data frame with labels und pixel data\n",
        "        output: image and label array \"\"\"\n",
        "    \n",
        "    image_array = np.zeros(shape=(len(data), 48, 48))\n",
        "    image_label = np.array(list(map(int, data['emotion'])))\n",
        "    \n",
        "    for i, row in enumerate(data.index):\n",
        "        image = np.fromstring(data.loc[row, 'pixels'], dtype=int, sep=' ')\n",
        "        image = np.reshape(image, (48, 48))\n",
        "        image_array[i] = image\n",
        "        \n",
        "    return image_array, image_label\n",
        "\n",
        "xtrain, ytrain = prepare_data(fer2013[fer2013['Usage'] == 'Training'])\n",
        "xval , yval = prepare_data(fer2013[fer2013['Usage'] == 'PrivateTest'])\n",
        "xtest, ytest = prepare_data(fer2013[fer2013['Usage'] == 'PublicTest'])"
      ],
      "execution_count": 4,
      "outputs": []
    },
    {
      "cell_type": "code",
      "metadata": {
        "id": "KewwltZObFw7"
      },
      "source": [
        "class Fer2013(Dataset):\n",
        "    def __init__(self, images, labels, transform=None):\n",
        "        self.images = images\n",
        "        self.labels = labels\n",
        "        self.transform = transform        \n",
        "        \n",
        "    def __len__(self):\n",
        "        return len(self.images)\n",
        "\n",
        "    def __getitem__(self, idx):\n",
        "        if torch.is_tensor(idx):\n",
        "            idx = idx.tolist()\n",
        "\n",
        "        img = Image.fromarray(self.images[idx])\n",
        "        \n",
        "        if self.transform:\n",
        "            img = self.transform(img)\n",
        "\n",
        "        label = torch.tensor(self.labels[idx]).type(torch.long)\n",
        "        sample = (img, label)\n",
        "        \n",
        "        return sample\n",
        "\n",
        "mu, st = 0, 255\n",
        "train_transform = transforms.Compose([\n",
        "                    transforms.RandomResizedCrop(48, scale=(0.8, 1.0)),\n",
        "                    transforms.RandomAffine(0, translate=(0, 0.1)),\n",
        "                    transforms.RandomHorizontalFlip(),\n",
        "                    transforms.RandomRotation(10),\n",
        "                    transforms.ToTensor(),\n",
        "                    transforms.Normalize(mean=mu, std = st)\n",
        "                    ])\n",
        "\n",
        "test_transform = transforms.Compose([\n",
        "                    transforms.ToTensor(),\n",
        "                    transforms.Normalize(mean=mu, std = st)\n",
        "                    ])\n",
        "\n",
        "train = Fer2013(xtrain, ytrain, train_transform)\n",
        "val = Fer2013(xval, yval, test_transform)\n",
        "test = Fer2013(xtest, ytest, test_transform)"
      ],
      "execution_count": 5,
      "outputs": []
    },
    {
      "cell_type": "code",
      "metadata": {
        "id": "mgoZGn-yaw3k"
      },
      "source": [
        "trainloader = torch.utils.data.DataLoader(train, batch_size=100, shuffle=True, num_workers=2)\n",
        "valloader = torch.utils.data.DataLoader(val, batch_size=100, shuffle=True, num_workers=2)\n",
        "testloader = torch.utils.data.DataLoader(test, batch_size=100, shuffle=True, num_workers=2)"
      ],
      "execution_count": 6,
      "outputs": []
    },
    {
      "cell_type": "code",
      "metadata": {
        "id": "QuOh2su2UC8q",
        "outputId": "dfb8f841-2800-4118-8cdb-6a761e9fd971",
        "colab": {
          "base_uri": "https://localhost:8080/",
          "height": 171
        }
      },
      "source": [
        "def imshow(img):\n",
        "    npimg = img.numpy()\n",
        "    plt.imshow(np.transpose(npimg, (1, 2, 0)), cmap='gray')\n",
        "\n",
        "# get some random training images\n",
        "dataiter = iter(trainloader)\n",
        "images, labels = dataiter.next()\n",
        "\n",
        "print(\"Batch Images Shape:\", images.shape)\n",
        "print(\"Batch Labels Shape:\", labels.shape)\n",
        "print()\n",
        "\n",
        "# show 5 images\n",
        "imshow(torchvision.utils.make_grid(images[:5]))\n",
        "plt.axis('off')\n",
        "# print labels\n",
        "print(' '.join('%7s' % emotions[labels[j].item()] for j in range(5)))"
      ],
      "execution_count": 8,
      "outputs": [
        {
          "output_type": "stream",
          "text": [
            "Batch Images Shape: torch.Size([100, 1, 48, 48])\n",
            "Batch Labels Shape: torch.Size([100])\n",
            "\n",
            "   Fear Neutral   Angry     Sad   Happy\n"
          ],
          "name": "stdout"
        },
        {
          "output_type": "display_data",
          "data": {
            "image/png": "[encoded data removed]",
            "text/plain": [
              "<Figure size 432x288 with 1 Axes>"
            ]
          },
          "metadata": {
            "tags": [],
            "needs_background": "light"
          }
        }
      ]
    },
    {
      "cell_type": "markdown",
      "metadata": {
        "id": "MIEFhmKoCyZ1"
      },
      "source": [
        "##Model"
      ]
    },
    {
      "cell_type": "code",
      "metadata": {
        "id": "cSd-OFurzPxZ"
      },
      "source": [
        "class History:\n",
        "    def __init__(self):\n",
        "        self.loss_train = []\n",
        "        self.loss_val = []\n",
        "\n",
        "        self.acc_train = []\n",
        "        self.acc_val = []"
      ],
      "execution_count": 9,
      "outputs": []
    },
    {
      "cell_type": "markdown",
      "metadata": {
        "id": "eu7JXEdSMZNZ"
      },
      "source": [
        "### Subnets"
      ]
    },
    {
      "cell_type": "code",
      "metadata": {
        "id": "gV0nfy_5CzwG"
      },
      "source": [
        "class Subnet1(nn.Module):\n",
        "    def __init__(self):\n",
        "        super(Subnet1, self).__init__()\n",
        "        self.conv1 = nn.Conv2d(in_channels=1, out_channels=64, kernel_size=3, padding=1)\n",
        "        self.conv2 = nn.Conv2d(64, 128, 3, padding=1)\n",
        "        self.conv3 = nn.Conv2d(128, 256, 3, padding=1)\n",
        "\n",
        "        self.pool = nn.MaxPool2d(kernel_size=2,stride=2)\n",
        "        \n",
        "        self.lin1 = nn.Linear(256*6*6, 4096) \n",
        "        self.lin2 = nn.Linear(4096, 4096)\n",
        "        self.lin3 = nn.Linear(4096, 7)\n",
        "\n",
        "        self.drop = nn.Dropout(0.1)\n",
        "\n",
        "        self.bn1 = nn.BatchNorm2d(64)\n",
        "        self.bn2 = nn.BatchNorm2d(128)\n",
        "        self.bn3 = nn.BatchNorm2d(256)\n",
        "\n",
        "        self.history = History()\n",
        "\n",
        "\n",
        "    def forward(self, x):\n",
        "        # x = F.relu(self.conv1(x))\n",
        "        x = F.relu(self.bn1(self.conv1(x)))\n",
        "        x = self.drop(x)\n",
        "        x = self.pool(x)\n",
        "\n",
        "        # x = F.relu(self.conv2(x))\n",
        "        x = F.relu(self.bn2(self.conv2(x)))\n",
        "        x = self.drop(x)\n",
        "        x = self.pool(x)\n",
        "\n",
        "        # x = F.relu(self.conv3(x))\n",
        "        # x = self.bn3(x)\n",
        "        x = F.relu(self.bn3(self.conv3(x)))\n",
        "        x = self.drop(x)\n",
        "        x = self.pool(x)\n",
        "\n",
        "        x = x.view(-1, 256*6*6) \n",
        "        \n",
        "        x = F.relu(self.lin1(x))\n",
        "        x = F.relu(self.lin2(x))\n",
        "        \n",
        "        x = self.lin3(x)\n",
        "\n",
        "        return x"
      ],
      "execution_count": 10,
      "outputs": []
    },
    {
      "cell_type": "code",
      "metadata": {
        "id": "GnnVir2p6YSb"
      },
      "source": [
        "class Subnet2(nn.Module):\n",
        "    def __init__(self):\n",
        "        super(Subnet2, self).__init__()\n",
        "        # Not sure about number of in channels, may have to change!\n",
        "        self.conv1 = nn.Conv2d(in_channels=1, out_channels=64, kernel_size=3, padding=1) # according to paper!\n",
        "        self.pool = nn.MaxPool2d(kernel_size=2,stride=2)\n",
        "        self.conv2 = nn.Conv2d(64,128,3,padding=1)\n",
        "        self.conv3 = nn.Conv2d(128, 256, 3, padding=1)\n",
        "        self.conv3_2 = nn.Conv2d(256,256, 3, padding=1)\n",
        "        self.bn1 = nn.BatchNorm2d(num_features= 64)\n",
        "        self.bn2 = nn.BatchNorm2d(num_features= 128)\n",
        "        self.bn3 = nn.BatchNorm2d(num_features= 256)\n",
        "        self.lin1 = nn.Linear(256 * 6 * 6, 4096) # MUST CHANGE\n",
        "        self.lin2 = nn.Linear(4096, 4096)\n",
        "        self.lin3 = nn.Linear(4096, 7)\n",
        "\n",
        "        self.history = History()\n",
        "        \n",
        "        #self.drop = nn.Dropout(0.2)\n",
        "\n",
        "    def forward(self, x):\n",
        "\n",
        "        x = F.relu(self.bn1(self.conv1(x)))\n",
        "        #print(\"shape after 1 conv layer: \", x.shape)\n",
        "        x = self.pool(x)\n",
        "\n",
        "        x = F.relu(self.bn2(self.conv2(x)))\n",
        "        #print(\"shape after 2 conv layer: \", x.shape)\n",
        "        x = self.pool(x)\n",
        "\n",
        "        x = F.relu(self.conv3(x))\n",
        "        x = F.relu(self.bn3(self.conv3_2(x)))\n",
        "        #print(\"shape after 3 conv layer: \", x.shape)\n",
        "        x = self.pool(x)\n",
        "        #print(\"shape before linear layers!!: \", x.shape)\n",
        "        x = x.view(x.size(0), 256 * 6 * 6)\n",
        "\n",
        "        x = F.relu(self.lin1(x))\n",
        "        x = F.relu(self.lin2(x))\n",
        "        x = self.lin3(x)\n",
        "\n",
        "        return x"
      ],
      "execution_count": null,
      "outputs": []
    },
    {
      "cell_type": "code",
      "metadata": {
        "id": "47sy1oyN8evv"
      },
      "source": [
        "class Subnet3(nn.Module):\n",
        "    def __init__(self):\n",
        "        super(Subnet3, self).__init__()\n",
        "        # Not sure about number of in channels, may have to change!\n",
        "\n",
        "        self.conv1 = nn.Conv2d(in_channels=1, out_channels=64, kernel_size=3, padding=1) # according to paper!\n",
        "        self.pool = nn.MaxPool2d(kernel_size=2,stride=2)\n",
        "        self.conv2 = nn.Conv2d(64,128,3,padding=1)\n",
        "        self.conv2_2 = nn.Conv2d(128,128,3,padding=1)\n",
        "        self.conv3 = nn.Conv2d(128, 256, 3, padding=1)\n",
        "        self.conv3_2 = nn.Conv2d(256,256, 3, padding=1)\n",
        "        self.bn1 = nn.BatchNorm2d(num_features= 64)\n",
        "        self.bn2 = nn.BatchNorm2d(num_features= 128)\n",
        "        self.bn3 = nn.BatchNorm2d(num_features= 256)\n",
        "        self.lin1 = nn.Linear(256 * 6 * 6, 4096) # MUST CHANGE\n",
        "        self.lin2 = nn.Linear(4096, 4096)\n",
        "        self.lin3 = nn.Linear(4096, 7)\n",
        "\n",
        "        self.history = History()\n",
        "        \n",
        "    def forward(self, x):\n",
        "\n",
        "        x = F.relu(self.bn1(self.conv1(x)))\n",
        "        #print(\"shape after 1 conv layer: \", x.shape)\n",
        "        x = self.pool(x)\n",
        "\n",
        "        x = F.relu(self.conv2(x))\n",
        "        x = F.relu(self.bn2(self.conv2_2(x)))\n",
        "        #print(\"shape after 2 conv layer: \", x.shape)\n",
        "        x = self.pool(x)\n",
        "\n",
        "        x = F.relu(self.conv3(x))\n",
        "        x = F.relu(self.bn3(self.conv3_2(x)))\n",
        "        #print(\"shape after 3 conv layer: \", x.shape)\n",
        "        x = self.pool(x)\n",
        "\n",
        "        x = x.view(-1, 256*6*6) # CHANGE\n",
        "      \n",
        "        x = F.relu(self.lin1(x))\n",
        "        x = F.relu(self.lin2(x))\n",
        "        x = self.lin3(x)\n",
        "\n",
        "        return x"
      ],
      "execution_count": null,
      "outputs": []
    },
    {
      "cell_type": "markdown",
      "metadata": {
        "id": "GWjZ-lYRMb8O"
      },
      "source": [
        "### Ensemble"
      ]
    },
    {
      "cell_type": "code",
      "metadata": {
        "id": "Mz_qGtzyMdwx"
      },
      "source": [
        ""
      ],
      "execution_count": null,
      "outputs": []
    },
    {
      "cell_type": "markdown",
      "metadata": {
        "id": "BCuMQu5bF5nE"
      },
      "source": [
        "##Training"
      ]
    },
    {
      "cell_type": "code",
      "metadata": {
        "id": "3asDIi_yDQLW"
      },
      "source": [
        "def train_model(net, trainloader, valloader, n_epochs=20):\n",
        "\n",
        "    for epoch in range(n_epochs):\n",
        "        \n",
        "        net = net.train()\n",
        "        loss_tr, correct_count, n = 0.0, 0.0, 0.0\n",
        "        for i, data in enumerate(trainloader):\n",
        "            inputs, labels = data\n",
        "            inputs, labels = inputs.to(device), labels.to(device)\n",
        "            \n",
        "            # zero the parameter gradients\n",
        "            optimizer.zero_grad()\n",
        "            \n",
        "            # forward + backward + optimize\n",
        "            outputs = net(inputs)\n",
        "            loss = criterion(outputs, labels)\n",
        "            loss.backward()\n",
        "            optimizer.step()\n",
        "\n",
        "            # calculate performance metrics\n",
        "            loss_tr += loss.item()\n",
        "            \n",
        "            _, preds = torch.max(outputs.data, 1)\n",
        "            correct_count += (preds == labels).sum().item()\n",
        "            n += labels.size(0)\n",
        "            \n",
        "        # Save train and validation performance metrics \n",
        "        acc_tr = 100 * correct_count / n\n",
        "        loss_tr = loss_tr / n\n",
        "\n",
        "        acc_v, loss_v = test_model(net, valloader)\n",
        "\n",
        "        net.history.loss_train.append(loss_tr)\n",
        "        net.history.loss_val.append(loss_v)\n",
        "\n",
        "        net.history.acc_train.append(acc_tr)\n",
        "        net.history.acc_val.append(acc_v)\n",
        "        \n",
        "        print('Epoch %2d' % (epoch + 1), 'Train Accuracy: %2.2f %%' % (acc_tr), 'Val Accuracy: %2.2f %%' % (acc_v), sep='\\t\\t')"
      ],
      "execution_count": 11,
      "outputs": []
    },
    {
      "cell_type": "code",
      "metadata": {
        "id": "Xl64GIKACQr2"
      },
      "source": [
        "def test_model(net, dataloader):\n",
        "    \n",
        "    net = net.eval()\n",
        "\n",
        "    loss, correct_count, n_sampels = 0.0, 0.0, 0.0\n",
        "    for data in dataloader:\n",
        "\n",
        "        inputs, labels = data\n",
        "        inputs, labels = inputs.to(device), labels.to(device)\n",
        "\n",
        "        outputs = net(inputs)\n",
        "\n",
        "        loss += criterion(outputs, labels).item()\n",
        "\n",
        "        _, preds = torch.max(outputs.data, 1)\n",
        "        correct_count += (preds == labels).sum().item()\n",
        "        n_sampels += labels.size(0)\n",
        "    \n",
        "    acc = 100 * correct_count / n_sampels\n",
        "    loss = loss / n_sampels\n",
        "    \n",
        "    return acc, loss"
      ],
      "execution_count": 12,
      "outputs": []
    },
    {
      "cell_type": "code",
      "metadata": {
        "id": "wME97MptDeex"
      },
      "source": [
        "sub1 = Subnet1()\n",
        "sub1 = sub1.to(device)"
      ],
      "execution_count": 13,
      "outputs": []
    },
    {
      "cell_type": "code",
      "metadata": {
        "id": "YWuMVpCvEuyn"
      },
      "source": [
        "# sub2 = Subnet2()\n",
        "# sub2 = sub2.to(device)"
      ],
      "execution_count": null,
      "outputs": []
    },
    {
      "cell_type": "code",
      "metadata": {
        "id": "jDEz5YIPEu1-"
      },
      "source": [
        "# sub3 = Subnet3()\n",
        "# sub3 = sub3.to(device)"
      ],
      "execution_count": null,
      "outputs": []
    },
    {
      "cell_type": "code",
      "metadata": {
        "id": "ZqWHaEBkkw09",
        "outputId": "0a113ad5-633c-4978-ef06-0cf9f44a304a",
        "colab": {
          "base_uri": "https://localhost:8080/",
          "height": 1000
        }
      },
      "source": [
        "criterion = nn.CrossEntropyLoss()\n",
        "optimizer = optim.SGD(sub1.parameters(), lr=0.01, momentum=0.9)\n",
        "train_model(sub1, trainloader, valloader, n_epochs=100)"
      ],
      "execution_count": 14,
      "outputs": [
        {
          "output_type": "stream",
          "text": [
            "Epoch  1\t\tTrain Accuracy: 32.89 %\t\tVal Accuracy: 41.10 %\n",
            "Epoch  2\t\tTrain Accuracy: 40.50 %\t\tVal Accuracy: 45.97 %\n",
            "Epoch  3\t\tTrain Accuracy: 44.54 %\t\tVal Accuracy: 40.54 %\n",
            "Epoch  4\t\tTrain Accuracy: 47.12 %\t\tVal Accuracy: 46.98 %\n",
            "Epoch  5\t\tTrain Accuracy: 48.83 %\t\tVal Accuracy: 53.05 %\n",
            "Epoch  6\t\tTrain Accuracy: 50.53 %\t\tVal Accuracy: 55.31 %\n",
            "Epoch  7\t\tTrain Accuracy: 51.99 %\t\tVal Accuracy: 53.61 %\n",
            "Epoch  8\t\tTrain Accuracy: 53.34 %\t\tVal Accuracy: 56.78 %\n",
            "Epoch  9\t\tTrain Accuracy: 53.98 %\t\tVal Accuracy: 54.44 %\n",
            "Epoch 10\t\tTrain Accuracy: 55.32 %\t\tVal Accuracy: 58.01 %\n",
            "Epoch 11\t\tTrain Accuracy: 55.67 %\t\tVal Accuracy: 56.37 %\n",
            "Epoch 12\t\tTrain Accuracy: 56.51 %\t\tVal Accuracy: 55.34 %\n",
            "Epoch 13\t\tTrain Accuracy: 57.35 %\t\tVal Accuracy: 57.73 %\n",
            "Epoch 14\t\tTrain Accuracy: 58.17 %\t\tVal Accuracy: 57.98 %\n",
            "Epoch 15\t\tTrain Accuracy: 58.00 %\t\tVal Accuracy: 53.78 %\n",
            "Epoch 16\t\tTrain Accuracy: 58.89 %\t\tVal Accuracy: 58.43 %\n",
            "Epoch 17\t\tTrain Accuracy: 59.38 %\t\tVal Accuracy: 60.85 %\n",
            "Epoch 18\t\tTrain Accuracy: 60.35 %\t\tVal Accuracy: 57.48 %\n",
            "Epoch 19\t\tTrain Accuracy: 60.59 %\t\tVal Accuracy: 58.85 %\n",
            "Epoch 20\t\tTrain Accuracy: 61.64 %\t\tVal Accuracy: 61.74 %\n",
            "Epoch 21\t\tTrain Accuracy: 62.14 %\t\tVal Accuracy: 59.77 %\n",
            "Epoch 22\t\tTrain Accuracy: 62.33 %\t\tVal Accuracy: 61.30 %\n",
            "Epoch 23\t\tTrain Accuracy: 62.64 %\t\tVal Accuracy: 59.60 %\n",
            "Epoch 24\t\tTrain Accuracy: 63.63 %\t\tVal Accuracy: 60.38 %\n",
            "Epoch 25\t\tTrain Accuracy: 64.30 %\t\tVal Accuracy: 60.24 %\n",
            "Epoch 26\t\tTrain Accuracy: 64.43 %\t\tVal Accuracy: 63.19 %\n",
            "Epoch 27\t\tTrain Accuracy: 64.76 %\t\tVal Accuracy: 62.08 %\n",
            "Epoch 28\t\tTrain Accuracy: 65.88 %\t\tVal Accuracy: 61.72 %\n",
            "Epoch 29\t\tTrain Accuracy: 66.57 %\t\tVal Accuracy: 62.80 %\n",
            "Epoch 30\t\tTrain Accuracy: 66.79 %\t\tVal Accuracy: 61.58 %\n",
            "Epoch 31\t\tTrain Accuracy: 67.64 %\t\tVal Accuracy: 62.44 %\n",
            "Epoch 32\t\tTrain Accuracy: 68.29 %\t\tVal Accuracy: 63.33 %\n",
            "Epoch 33\t\tTrain Accuracy: 68.70 %\t\tVal Accuracy: 62.13 %\n",
            "Epoch 34\t\tTrain Accuracy: 69.34 %\t\tVal Accuracy: 55.73 %\n",
            "Epoch 35\t\tTrain Accuracy: 69.52 %\t\tVal Accuracy: 62.05 %\n",
            "Epoch 36\t\tTrain Accuracy: 70.51 %\t\tVal Accuracy: 62.83 %\n",
            "Epoch 37\t\tTrain Accuracy: 71.22 %\t\tVal Accuracy: 61.27 %\n",
            "Epoch 38\t\tTrain Accuracy: 71.98 %\t\tVal Accuracy: 60.46 %\n",
            "Epoch 39\t\tTrain Accuracy: 72.54 %\t\tVal Accuracy: 61.80 %\n",
            "Epoch 40\t\tTrain Accuracy: 73.22 %\t\tVal Accuracy: 63.61 %\n",
            "Epoch 41\t\tTrain Accuracy: 73.97 %\t\tVal Accuracy: 63.53 %\n",
            "Epoch 42\t\tTrain Accuracy: 73.84 %\t\tVal Accuracy: 64.84 %\n",
            "Epoch 43\t\tTrain Accuracy: 74.96 %\t\tVal Accuracy: 65.56 %\n",
            "Epoch 44\t\tTrain Accuracy: 75.56 %\t\tVal Accuracy: 61.35 %\n",
            "Epoch 45\t\tTrain Accuracy: 75.80 %\t\tVal Accuracy: 63.92 %\n",
            "Epoch 46\t\tTrain Accuracy: 77.09 %\t\tVal Accuracy: 64.50 %\n",
            "Epoch 47\t\tTrain Accuracy: 77.49 %\t\tVal Accuracy: 63.69 %\n",
            "Epoch 48\t\tTrain Accuracy: 77.93 %\t\tVal Accuracy: 65.17 %\n",
            "Epoch 49\t\tTrain Accuracy: 79.21 %\t\tVal Accuracy: 60.74 %\n",
            "Epoch 50\t\tTrain Accuracy: 79.41 %\t\tVal Accuracy: 64.36 %\n",
            "Epoch 51\t\tTrain Accuracy: 80.40 %\t\tVal Accuracy: 64.70 %\n",
            "Epoch 52\t\tTrain Accuracy: 80.22 %\t\tVal Accuracy: 64.53 %\n",
            "Epoch 53\t\tTrain Accuracy: 81.04 %\t\tVal Accuracy: 63.67 %\n",
            "Epoch 54\t\tTrain Accuracy: 81.88 %\t\tVal Accuracy: 64.89 %\n",
            "Epoch 55\t\tTrain Accuracy: 81.94 %\t\tVal Accuracy: 65.59 %\n",
            "Epoch 56\t\tTrain Accuracy: 82.64 %\t\tVal Accuracy: 62.13 %\n",
            "Epoch 57\t\tTrain Accuracy: 83.47 %\t\tVal Accuracy: 64.53 %\n",
            "Epoch 58\t\tTrain Accuracy: 83.97 %\t\tVal Accuracy: 64.34 %\n",
            "Epoch 59\t\tTrain Accuracy: 84.48 %\t\tVal Accuracy: 65.70 %\n",
            "Epoch 60\t\tTrain Accuracy: 84.96 %\t\tVal Accuracy: 63.89 %\n",
            "Epoch 61\t\tTrain Accuracy: 85.39 %\t\tVal Accuracy: 63.03 %\n",
            "Epoch 62\t\tTrain Accuracy: 85.56 %\t\tVal Accuracy: 64.39 %\n",
            "Epoch 63\t\tTrain Accuracy: 86.19 %\t\tVal Accuracy: 66.06 %\n",
            "Epoch 64\t\tTrain Accuracy: 86.24 %\t\tVal Accuracy: 65.95 %\n",
            "Epoch 65\t\tTrain Accuracy: 87.06 %\t\tVal Accuracy: 62.89 %\n",
            "Epoch 66\t\tTrain Accuracy: 86.96 %\t\tVal Accuracy: 64.39 %\n",
            "Epoch 67\t\tTrain Accuracy: 87.85 %\t\tVal Accuracy: 65.84 %\n",
            "Epoch 68\t\tTrain Accuracy: 88.41 %\t\tVal Accuracy: 65.42 %\n",
            "Epoch 69\t\tTrain Accuracy: 88.56 %\t\tVal Accuracy: 65.23 %\n",
            "Epoch 70\t\tTrain Accuracy: 88.98 %\t\tVal Accuracy: 65.53 %\n",
            "Epoch 71\t\tTrain Accuracy: 89.20 %\t\tVal Accuracy: 64.28 %\n",
            "Epoch 72\t\tTrain Accuracy: 89.89 %\t\tVal Accuracy: 64.56 %\n",
            "Epoch 73\t\tTrain Accuracy: 89.48 %\t\tVal Accuracy: 64.64 %\n",
            "Epoch 74\t\tTrain Accuracy: 90.25 %\t\tVal Accuracy: 65.34 %\n",
            "Epoch 75\t\tTrain Accuracy: 90.31 %\t\tVal Accuracy: 65.53 %\n",
            "Epoch 76\t\tTrain Accuracy: 90.78 %\t\tVal Accuracy: 63.75 %\n",
            "Epoch 77\t\tTrain Accuracy: 90.98 %\t\tVal Accuracy: 65.87 %\n",
            "Epoch 78\t\tTrain Accuracy: 91.13 %\t\tVal Accuracy: 66.70 %\n",
            "Epoch 79\t\tTrain Accuracy: 91.68 %\t\tVal Accuracy: 65.98 %\n",
            "Epoch 80\t\tTrain Accuracy: 91.58 %\t\tVal Accuracy: 64.89 %\n",
            "Epoch 81\t\tTrain Accuracy: 92.21 %\t\tVal Accuracy: 64.53 %\n",
            "Epoch 82\t\tTrain Accuracy: 92.06 %\t\tVal Accuracy: 64.86 %\n",
            "Epoch 83\t\tTrain Accuracy: 92.65 %\t\tVal Accuracy: 65.51 %\n",
            "Epoch 84\t\tTrain Accuracy: 92.40 %\t\tVal Accuracy: 64.45 %\n",
            "Epoch 85\t\tTrain Accuracy: 92.21 %\t\tVal Accuracy: 65.90 %\n",
            "Epoch 86\t\tTrain Accuracy: 93.03 %\t\tVal Accuracy: 65.42 %\n",
            "Epoch 87\t\tTrain Accuracy: 92.82 %\t\tVal Accuracy: 64.14 %\n",
            "Epoch 88\t\tTrain Accuracy: 92.89 %\t\tVal Accuracy: 67.23 %\n",
            "Epoch 89\t\tTrain Accuracy: 93.30 %\t\tVal Accuracy: 66.12 %\n",
            "Epoch 90\t\tTrain Accuracy: 93.49 %\t\tVal Accuracy: 65.73 %\n",
            "Epoch 91\t\tTrain Accuracy: 93.70 %\t\tVal Accuracy: 65.39 %\n",
            "Epoch 92\t\tTrain Accuracy: 93.57 %\t\tVal Accuracy: 66.29 %\n",
            "Epoch 93\t\tTrain Accuracy: 93.66 %\t\tVal Accuracy: 65.20 %\n",
            "Epoch 94\t\tTrain Accuracy: 94.19 %\t\tVal Accuracy: 65.28 %\n",
            "Epoch 95\t\tTrain Accuracy: 93.79 %\t\tVal Accuracy: 66.68 %\n",
            "Epoch 96\t\tTrain Accuracy: 94.09 %\t\tVal Accuracy: 65.65 %\n",
            "Epoch 97\t\tTrain Accuracy: 94.22 %\t\tVal Accuracy: 67.07 %\n",
            "Epoch 98\t\tTrain Accuracy: 94.22 %\t\tVal Accuracy: 66.12 %\n",
            "Epoch 99\t\tTrain Accuracy: 94.52 %\t\tVal Accuracy: 65.17 %\n",
            "Epoch 100\t\tTrain Accuracy: 94.89 %\t\tVal Accuracy: 66.93 %\n"
          ],
          "name": "stdout"
        }
      ]
    },
    {
      "cell_type": "code",
      "metadata": {
        "id": "v5ospW2dDjhz",
        "outputId": "c316a2e1-1534-451a-e0f4-369b93e16dd4",
        "colab": {
          "base_uri": "https://localhost:8080/",
          "height": 372
        }
      },
      "source": [
        "criterion = nn.CrossEntropyLoss()\n",
        "optimizer = optim.SGD(sub1.parameters(), lr=0.001, momentum=0.9)\n",
        "train_model(sub1, trainloader, valloader, n_epochs=20)"
      ],
      "execution_count": 17,
      "outputs": [
        {
          "output_type": "stream",
          "text": [
            "Epoch  1\t\tTrain Accuracy: 98.72 %\t\tVal Accuracy: 68.01 %\n",
            "Epoch  2\t\tTrain Accuracy: 98.69 %\t\tVal Accuracy: 68.01 %\n",
            "Epoch  3\t\tTrain Accuracy: 98.81 %\t\tVal Accuracy: 68.07 %\n",
            "Epoch  4\t\tTrain Accuracy: 98.81 %\t\tVal Accuracy: 68.29 %\n",
            "Epoch  5\t\tTrain Accuracy: 98.84 %\t\tVal Accuracy: 68.35 %\n",
            "Epoch  6\t\tTrain Accuracy: 98.72 %\t\tVal Accuracy: 68.29 %\n",
            "Epoch  7\t\tTrain Accuracy: 98.77 %\t\tVal Accuracy: 68.24 %\n",
            "Epoch  8\t\tTrain Accuracy: 98.79 %\t\tVal Accuracy: 68.07 %\n",
            "Epoch  9\t\tTrain Accuracy: 98.75 %\t\tVal Accuracy: 68.10 %\n",
            "Epoch 10\t\tTrain Accuracy: 98.78 %\t\tVal Accuracy: 67.71 %\n",
            "Epoch 11\t\tTrain Accuracy: 98.81 %\t\tVal Accuracy: 68.07 %\n",
            "Epoch 12\t\tTrain Accuracy: 98.83 %\t\tVal Accuracy: 68.12 %\n",
            "Epoch 13\t\tTrain Accuracy: 98.89 %\t\tVal Accuracy: 68.21 %\n",
            "Epoch 14\t\tTrain Accuracy: 98.83 %\t\tVal Accuracy: 68.15 %\n",
            "Epoch 15\t\tTrain Accuracy: 98.69 %\t\tVal Accuracy: 68.29 %\n",
            "Epoch 16\t\tTrain Accuracy: 98.83 %\t\tVal Accuracy: 68.29 %\n",
            "Epoch 17\t\tTrain Accuracy: 98.83 %\t\tVal Accuracy: 68.04 %\n",
            "Epoch 18\t\tTrain Accuracy: 98.87 %\t\tVal Accuracy: 67.99 %\n",
            "Epoch 19\t\tTrain Accuracy: 98.78 %\t\tVal Accuracy: 67.99 %\n",
            "Epoch 20\t\tTrain Accuracy: 98.83 %\t\tVal Accuracy: 68.12 %\n"
          ],
          "name": "stdout"
        }
      ]
    },
    {
      "cell_type": "code",
      "metadata": {
        "id": "VgZ7rzOSeht9"
      },
      "source": [
        ""
      ],
      "execution_count": null,
      "outputs": []
    },
    {
      "cell_type": "markdown",
      "metadata": {
        "id": "th4_U34Rzb-S"
      },
      "source": [
        "##Evaluation"
      ]
    },
    {
      "cell_type": "code",
      "metadata": {
        "id": "y1K0Ssz90teP"
      },
      "source": [
        "def plot_metrics(net):\n",
        "    plt.figure()\n",
        "    plt.plot(net.history.acc_train, 'g', label='Training Acc')\n",
        "    plt.plot(net.history.acc_val, 'b', label='Validation Acc')\n",
        "    plt.title('Accuracy')\n",
        "    plt.xlabel('Epoch')\n",
        "    plt.ylabel('Acc')\n",
        "    plt.legend()\n",
        "    plt.grid()\n",
        "    plt.show()\n",
        "\n",
        "    plt.figure()\n",
        "    plt.plot(net.history.loss_train, 'g', label='Training Loss')\n",
        "    plt.plot(net.history.loss_val, 'b', label='Validation Loss')\n",
        "    plt.title('Loss')\n",
        "    plt.xlabel('Epoch')\n",
        "    plt.ylabel('Loss')\n",
        "    plt.legend()\n",
        "    plt.grid()\n",
        "    plt.show()\n",
        "\n",
        "    print('Training Accuracy: %2.2f %%' % (max(net.history.acc_train)))\n",
        "    print('Validation Accuracy: %2.2f %%' % (max(net.history.acc_val)))\n",
        "    print()\n",
        "\n",
        "    acc, loss = test_model(net, testloader)    \n",
        "    print('Test Accuracy: %2.2f %%' % (acc))\n",
        "    print('Average Test Loss: %2.4f' % (loss))\n",
        "    "
      ],
      "execution_count": 19,
      "outputs": []
    },
    {
      "cell_type": "markdown",
      "metadata": {
        "id": "gn6BP4oDMtLG"
      },
      "source": [
        "### Subnets"
      ]
    },
    {
      "cell_type": "code",
      "metadata": {
        "id": "aKaei0SY-1PG",
        "outputId": "d787e1a0-7163-4cc5-ec3e-cb3ac415f895",
        "colab": {
          "base_uri": "https://localhost:8080/",
          "height": 680
        }
      },
      "source": [
        "print(\"Subnet 1\")\n",
        "plot_metrics(sub1) "
      ],
      "execution_count": 20,
      "outputs": [
        {
          "output_type": "stream",
          "text": [
            "Subnet 1\n"
          ],
          "name": "stdout"
        },
        {
          "output_type": "display_data",
          "data": {
            "image/png": "[encoded data removed]",
            "text/plain": [
              "<Figure size 432x288 with 1 Axes>"
            ]
          },
          "metadata": {
            "tags": [],
            "needs_background": "light"
          }
        },
        {
          "output_type": "display_data",
          "data": {
            "image/png": "[encoded data removed]",
            "text/plain": [
              "<Figure size 432x288 with 1 Axes>"
            ]
          },
          "metadata": {
            "tags": [],
            "needs_background": "light"
          }
        },
        {
          "output_type": "stream",
          "text": [
            "Training Accuracy: 98.89 %\n",
            "Validation Accuracy: 68.57 %\n",
            "\n",
            "Test Accuracy: 66.65 %\n",
            "Average Test Loss: 0.0196\n"
          ],
          "name": "stdout"
        }
      ]
    },
    {
      "cell_type": "code",
      "metadata": {
        "id": "_2SCxKpCSkQG"
      },
      "source": [
        "path = 'sub1_batchnorm_beforeRelu'\n",
        "torch.save(sub1.state_dict(), path)"
      ],
      "execution_count": 21,
      "outputs": []
    },
    {
      "cell_type": "code",
      "metadata": {
        "id": "g0a7a_i5bPVS",
        "outputId": "84f08035-1bae-4624-a8b4-f222d825e80c",
        "colab": {
          "base_uri": "https://localhost:8080/",
          "height": 675
        }
      },
      "source": [
        "print(\"Subnet 2\")\n",
        "plot_metrics(sub2)"
      ],
      "execution_count": null,
      "outputs": [
        {
          "output_type": "stream",
          "text": [
            "Subnet 2\n"
          ],
          "name": "stdout"
        },
        {
          "output_type": "display_data",
          "data": {
            "image/png": "[encoded data removed]",
            "text/plain": [
              "<Figure size 432x288 with 1 Axes>"
            ]
          },
          "metadata": {
            "tags": [],
            "needs_background": "light"
          }
        },
        {
          "output_type": "display_data",
          "data": {
            "image/png": "[encoded data removed]",
            "text/plain": [
              "<Figure size 432x288 with 1 Axes>"
            ]
          },
          "metadata": {
            "tags": [],
            "needs_background": "light"
          }
        },
        {
          "output_type": "stream",
          "text": [
            "Training Accuracy: 98.39 %\n",
            "Validation Accuracy: 65.98 %\n",
            "\n",
            "Test Accuracy: 64.39 %\n",
            "Average Test Loss: 0.0229\n"
          ],
          "name": "stdout"
        }
      ]
    },
    {
      "cell_type": "code",
      "metadata": {
        "id": "NIVvxUO5jWKn",
        "outputId": "c5e5c5d8-f6f0-41b9-f42b-b6b89e81e000",
        "colab": {
          "base_uri": "https://localhost:8080/",
          "height": 675
        }
      },
      "source": [
        "print(\"Subnet 3\")\n",
        "plot_metrics(sub3)"
      ],
      "execution_count": null,
      "outputs": [
        {
          "output_type": "stream",
          "text": [
            "Subnet 3\n"
          ],
          "name": "stdout"
        },
        {
          "output_type": "display_data",
          "data": {
            "image/png": "[encoded data removed]",
            "text/plain": [
              "<Figure size 432x288 with 1 Axes>"
            ]
          },
          "metadata": {
            "tags": [],
            "needs_background": "light"
          }
        },
        {
          "output_type": "display_data",
          "data": {
            "image/png": "[encoded data removed]",
            "text/plain": [
              "<Figure size 432x288 with 1 Axes>"
            ]
          },
          "metadata": {
            "tags": [],
            "needs_background": "light"
          }
        },
        {
          "output_type": "stream",
          "text": [
            "Training Accuracy: 98.61 %\n",
            "Validation Accuracy: 64.17 %\n",
            "\n",
            "Test Accuracy: 64.22 %\n",
            "Average Test Loss: 0.0247\n"
          ],
          "name": "stdout"
        }
      ]
    },
    {
      "cell_type": "markdown",
      "metadata": {
        "id": "TP83R_2hDZAY"
      },
      "source": [
        "##Save Model"
      ]
    },
    {
      "cell_type": "code",
      "metadata": {
        "id": "xPLQjXTEzHI4"
      },
      "source": [
        "path = 'sub3'\n",
        "torch.save(sub3.state_dict(), path)"
      ],
      "execution_count": null,
      "outputs": []
    },
    {
      "cell_type": "code",
      "metadata": {
        "id": "IY0-o3qibXEU"
      },
      "source": [
        "# from google.colab import files\n",
        "# files.download(path)"
      ],
      "execution_count": null,
      "outputs": []
    }
  ]
}