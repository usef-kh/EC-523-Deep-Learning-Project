{
  "nbformat": 4,
  "nbformat_minor": 0,
  "metadata": {
    "colab": {
      "name": "subnet2.ipynb",
      "provenance": [],
      "collapsed_sections": [],
      "include_colab_link": true
    },
    "kernelspec": {
      "name": "python3",
      "display_name": "Python 3"
    }
  },
  "cells": [
    {
      "cell_type": "markdown",
      "metadata": {
        "id": "view-in-github",
        "colab_type": "text"
      },
      "source": [
        "<a href=\"https://colab.research.google.com/github/usef-kh/EC523-Deep-Learning-Project/blob/master/subnet2.ipynb\" target=\"_parent\"><img src=\"https://colab.research.google.com/assets/colab-badge.svg\" alt=\"Open In Colab\"/></a>"
      ]
    },
    {
      "cell_type": "markdown",
      "metadata": {
        "id": "lnO2nvqpALPj"
      },
      "source": [
        "## Setup"
      ]
    },
    {
      "cell_type": "code",
      "metadata": {
        "id": "9cWGQl78U9wy",
        "outputId": "59ed34f9-5427-4402-b761-eeccfd6f6d13",
        "colab": {
          "base_uri": "https://localhost:8080/",
          "height": 33
        }
      },
      "source": [
        "!git clone \"https://github.com/usef-kh/EC523-Deep-Learning-Project.git\""
      ],
      "execution_count": 7,
      "outputs": [
        {
          "output_type": "stream",
          "text": [
            "fatal: destination path 'EC523-Deep-Learning-Project' already exists and is not an empty directory.\n"
          ],
          "name": "stdout"
        }
      ]
    },
    {
      "cell_type": "code",
      "metadata": {
        "id": "HgKnn2ux6Pgp",
        "outputId": "ce232614-f340-4e44-a5fd-6015a20ea577",
        "colab": {
          "base_uri": "https://localhost:8080/",
          "height": 33
        }
      },
      "source": [
        "!pip install unrar"
      ],
      "execution_count": 8,
      "outputs": [
        {
          "output_type": "stream",
          "text": [
            "Requirement already satisfied: unrar in /usr/local/lib/python3.6/dist-packages (0.4)\n"
          ],
          "name": "stdout"
        }
      ]
    },
    {
      "cell_type": "code",
      "metadata": {
        "id": "mtrv6tM-Xq2n",
        "outputId": "245a5009-b27d-4bf3-b54a-f66f3a333362",
        "colab": {
          "base_uri": "https://localhost:8080/",
          "height": 283
        }
      },
      "source": [
        "# !unrar x \"EC523-Deep-Learning-Project/datasets/ckplus.rar\"\n",
        "!unrar e \"EC523-Deep-Learning-Project/datasets/fer2013.rar\""
      ],
      "execution_count": 9,
      "outputs": [
        {
          "output_type": "stream",
          "text": [
            "\n",
            "UNRAR 5.50 freeware      Copyright (c) 1993-2017 Alexander Roshal\n",
            "\n",
            "\n",
            "Extracting from EC523-Deep-Learning-Project/datasets/fer2013.rar\n",
            "\n",
            "\n",
            "Would you like to replace the existing file fer2013.csv\n",
            "301108654 bytes, modified on 2020-10-14 22:59\n",
            "with a new one\n",
            "301108654 bytes, modified on 2020-10-14 22:59\n",
            "\n",
            "[Y]es, [N]o, [A]ll, n[E]ver, [R]ename, [Q]uit Y\n",
            "\n",
            "Extracting  fer2013.csv                                                  \b\b\b\b  4%\b\b\b\b  9%\b\b\b\b 13%\b\b\b\b 18%\b\b\b\b 23%\b\b\b\b 27%\b\b\b\b 32%\b\b\b\b 37%\b\b\b\b 41%\b\b\b\b 46%\b\b\b\b 51%\b\b\b\b 55%\b\b\b\b 60%\b\b\b\b 65%\b\b\b\b 69%\b\b\b\b 74%\b\b\b\b 79%\b\b\b\b 83%\b\b\b\b 88%\b\b\b\b 93%\b\b\b\b 97%\b\b\b\b 99%\b\b\b\b\b  OK \n",
            "All OK\n"
          ],
          "name": "stdout"
        }
      ]
    },
    {
      "cell_type": "markdown",
      "metadata": {
        "id": "rN_6jQNFAH8t"
      },
      "source": [
        "##Imports"
      ]
    },
    {
      "cell_type": "code",
      "metadata": {
        "id": "kQ-kmOyAAHLn"
      },
      "source": [
        "import pandas as pd\n",
        "import numpy as np\n",
        "import torch\n",
        "import torch.nn as nn\n",
        "import torch.nn.functional as F\n",
        "\n",
        "import torchvision\n",
        "import torchvision.transforms as transforms\n",
        "import matplotlib.pyplot as plt\n",
        "\n",
        "from torch import optim\n",
        "\n",
        "\n",
        "device = torch.device(\"cuda:0\" if torch.cuda.is_available() else \"cpu\")"
      ],
      "execution_count": 11,
      "outputs": []
    },
    {
      "cell_type": "markdown",
      "metadata": {
        "id": "KBi_q71MAOLY"
      },
      "source": [
        "##Prepare Dataset"
      ]
    },
    {
      "cell_type": "code",
      "metadata": {
        "id": "aYuiGVdr_3PF",
        "outputId": "74f9061c-87d9-4750-9092-31c283ff9610",
        "colab": {
          "base_uri": "https://localhost:8080/",
          "height": 197
        }
      },
      "source": [
        "fer2013 = pd.read_csv('fer2013.csv') \n",
        "emotions = {0: 'Angry', 1: 'Disgust', 2: 'Fear', 3: 'Happy', 4: 'Sad', 5: 'Surprise', 6: 'Neutral'}\n",
        "fer2013.head()"
      ],
      "execution_count": 12,
      "outputs": [
        {
          "output_type": "execute_result",
          "data": {
            "text/html": [
              "<div>\n",
              "<style scoped>\n",
              "    .dataframe tbody tr th:only-of-type {\n",
              "        vertical-align: middle;\n",
              "    }\n",
              "\n",
              "    .dataframe tbody tr th {\n",
              "        vertical-align: top;\n",
              "    }\n",
              "\n",
              "    .dataframe thead th {\n",
              "        text-align: right;\n",
              "    }\n",
              "</style>\n",
              "<table border=\"1\" class=\"dataframe\">\n",
              "  <thead>\n",
              "    <tr style=\"text-align: right;\">\n",
              "      <th></th>\n",
              "      <th>emotion</th>\n",
              "      <th>pixels</th>\n",
              "      <th>Usage</th>\n",
              "    </tr>\n",
              "  </thead>\n",
              "  <tbody>\n",
              "    <tr>\n",
              "      <th>0</th>\n",
              "      <td>0</td>\n",
              "      <td>70 80 82 72 58 58 60 63 54 58 60 48 89 115 121...</td>\n",
              "      <td>Training</td>\n",
              "    </tr>\n",
              "    <tr>\n",
              "      <th>1</th>\n",
              "      <td>0</td>\n",
              "      <td>151 150 147 155 148 133 111 140 170 174 182 15...</td>\n",
              "      <td>Training</td>\n",
              "    </tr>\n",
              "    <tr>\n",
              "      <th>2</th>\n",
              "      <td>2</td>\n",
              "      <td>231 212 156 164 174 138 161 173 182 200 106 38...</td>\n",
              "      <td>Training</td>\n",
              "    </tr>\n",
              "    <tr>\n",
              "      <th>3</th>\n",
              "      <td>4</td>\n",
              "      <td>24 32 36 30 32 23 19 20 30 41 21 22 32 34 21 1...</td>\n",
              "      <td>Training</td>\n",
              "    </tr>\n",
              "    <tr>\n",
              "      <th>4</th>\n",
              "      <td>6</td>\n",
              "      <td>4 0 0 0 0 0 0 0 0 0 0 0 3 15 23 28 48 50 58 84...</td>\n",
              "      <td>Training</td>\n",
              "    </tr>\n",
              "  </tbody>\n",
              "</table>\n",
              "</div>"
            ],
            "text/plain": [
              "   emotion                                             pixels     Usage\n",
              "0        0  70 80 82 72 58 58 60 63 54 58 60 48 89 115 121...  Training\n",
              "1        0  151 150 147 155 148 133 111 140 170 174 182 15...  Training\n",
              "2        2  231 212 156 164 174 138 161 173 182 200 106 38...  Training\n",
              "3        4  24 32 36 30 32 23 19 20 30 41 21 22 32 34 21 1...  Training\n",
              "4        6  4 0 0 0 0 0 0 0 0 0 0 0 3 15 23 28 48 50 58 84...  Training"
            ]
          },
          "metadata": {
            "tags": []
          },
          "execution_count": 12
        }
      ]
    },
    {
      "cell_type": "code",
      "metadata": {
        "id": "F54zA1oAASTM"
      },
      "source": [
        "def prepare_data(data):\n",
        "    \"\"\" Prepare data for modeling \n",
        "        input: data frame with labels und pixel data\n",
        "        output: image and label array \"\"\"\n",
        "    \n",
        "    image_array = np.zeros(shape=(len(data), 48, 48))\n",
        "    image_label = np.array(list(map(int, data['emotion'])))\n",
        "    \n",
        "    for i, row in enumerate(data.index):\n",
        "        image = np.fromstring(data.loc[row, 'pixels'], dtype=int, sep=' ')\n",
        "        image = np.reshape(image, (48, 48))\n",
        "        image_array[i] = image\n",
        "        \n",
        "    return image_array, image_label\n",
        "\n",
        "\n",
        "def reformat_data(X, Y):\n",
        "    data = []\n",
        "\n",
        "    for x, y in zip(torch.from_numpy(X), torch.from_numpy(Y)):\n",
        "        x, y = x.type(torch.DoubleTensor), y.type(torch.long)\n",
        "        data.append((x.unsqueeze(0), y))\n",
        "\n",
        "    return data\n",
        "\n",
        "\n",
        "\n",
        "xtrain, ytrain = prepare_data(fer2013[fer2013['Usage'] == 'Training'])\n",
        "xval , yval = prepare_data(fer2013[fer2013['Usage'] == 'PrivateTest'])\n",
        "xtest, ytest = prepare_data(fer2013[fer2013['Usage'] == 'PublicTest'])\n",
        "\n",
        "train = reformat_data(xtrain, ytrain)\n",
        "val = reformat_data(xval, yval)\n",
        "test = reformat_data(xtest, ytest)\n",
        "\n",
        "trainloader = torch.utils.data.DataLoader(train, batch_size=100, shuffle=True, num_workers=2)\n",
        "valloader = torch.utils.data.DataLoader(val, batch_size=100, shuffle=True, num_workers=2)\n",
        "testloader = torch.utils.data.DataLoader(test, batch_size=100, shuffle=True, num_workers=2)\n",
        "\n",
        "del train, test, val, xtrain, ytrain, xval, yval, xtest, ytest, fer2013"
      ],
      "execution_count": 13,
      "outputs": []
    },
    {
      "cell_type": "code",
      "metadata": {
        "id": "-Lv4xMhpGOBu",
        "outputId": "ec3feb6e-2af3-4655-ffce-5839508100b8",
        "colab": {
          "base_uri": "https://localhost:8080/",
          "height": 33
        }
      },
      "source": [
        "\n",
        "# # get some random training images\n",
        "dataiter = iter(trainloader)\n",
        "images, labels = dataiter.next()\n",
        "print(labels.shape)\n",
        "\n",
        "# print(images.shape)\n",
        "# img = images[0]\n",
        "# print(img.shape)\n",
        "# plt.imshow(img.numpy())\n",
        "# print(emotions[labels[0].item()])\n"
      ],
      "execution_count": 14,
      "outputs": [
        {
          "output_type": "stream",
          "text": [
            "torch.Size([100])\n"
          ],
          "name": "stdout"
        }
      ]
    },
    {
      "cell_type": "markdown",
      "metadata": {
        "id": "MIEFhmKoCyZ1"
      },
      "source": [
        "##Model"
      ]
    },
    {
      "cell_type": "code",
      "metadata": {
        "id": "gV0nfy_5CzwG"
      },
      "source": [
        "import torch.nn as nn\n",
        "import torch.nn.functional as F\n",
        "\n",
        "# define nets for CNN emotion detection problem\n",
        "\n",
        "class Subnet2(nn.Module):\n",
        "    def __init__(self):\n",
        "        super(Subnet2, self).__init__()\n",
        "        # Not sure about number of in channels, may have to change!\n",
        "        self.conv1 = nn.Conv2d(in_channels=1, out_channels=64, kernel_size=3, padding=1) # according to paper!\n",
        "        self.pool = nn.MaxPool2d(kernel_size=2,stride=2)\n",
        "        self.conv2 = nn.Conv2d(64,128,3,padding=1)\n",
        "        self.conv3 = nn.Conv2d(128, 256, 3, padding=1)\n",
        "        self.conv3_2 = nn.Conv2d(256,256, 3, padding=1)\n",
        "        self.lin1 = nn.Linear(256 * 6 * 6, 4096) # MUST CHANGE\n",
        "        self.lin2 = nn.Linear(4096, 4096)\n",
        "        self.lin3 = nn.Linear(4096, 7)\n",
        "\n",
        "        #self.drop = nn.Dropout(0.2)\n",
        "\n",
        "    def forward(self, x):\n",
        "\n",
        "        x = F.relu(self.conv1(x))\n",
        "        #print(\"shape after 1 conv layer: \", x.shape)\n",
        "        x = self.pool(x)\n",
        "\n",
        "        x = F.relu(self.conv2(x))\n",
        "        #print(\"shape after 2 conv layer: \", x.shape)\n",
        "        x = self.pool(x)\n",
        "\n",
        "        x = F.relu(self.conv3(x))\n",
        "        x = F.relu(self.conv3_2(x))\n",
        "        #print(\"shape after 3 conv layer: \", x.shape)\n",
        "        x = self.pool(x)\n",
        "        #print(\"shape before linear layers!!: \", x.shape)\n",
        "        x = x.view(x.size(0), 256 * 6 * 6)\n",
        "\n",
        "        x = F.relu(self.lin1(x))\n",
        "        x = F.relu(self.lin2(x))\n",
        "        x = self.lin3(x)\n",
        "\n",
        "        return x\n",
        "\n",
        "#sub2 = Subnet2()"
      ],
      "execution_count": 15,
      "outputs": []
    },
    {
      "cell_type": "markdown",
      "metadata": {
        "id": "BCuMQu5bF5nE"
      },
      "source": [
        "##Training"
      ]
    },
    {
      "cell_type": "code",
      "metadata": {
        "id": "XmVUpKgfDIYt"
      },
      "source": [
        "class Subnet1(nn.Module):\n",
        "    def __init__(self):\n",
        "        super(Subnet1, self).__init__()\n",
        "        # Not sure about number of in channels, may have to change!\n",
        "        self.conv1 = nn.Conv2d(in_channels=1, out_channels=64, kernel_size=3, padding=1) # according to paper!\n",
        "        self.pool = nn.MaxPool2d(kernel_size=2,stride=2)\n",
        "        self.conv2 = nn.Conv2d(64,128,3,padding=1)\n",
        "        self.conv3 = nn.Conv2d(128, 256, 3, padding=1)\n",
        "\n",
        "        self.lin1 = nn.Linear(256*6*6, 4096) # Will have to change input size\n",
        "        self.lin2 = nn.Linear(4096, 4096)\n",
        "        self.lin3 = nn.Linear(4096, 7)\n",
        "        \n",
        "        #self.drop = nn.Dropout(0.2)\n",
        "\n",
        "    def forward(self, x):\n",
        "        x = F.relu(self.conv1(x))\n",
        "        #print(\"shape after 1 conv layer: \", x.shape)\n",
        "        x = self.pool(x)\n",
        "\n",
        "        x = F.relu(self.conv2(x))\n",
        "        #print(\"shape after 2 conv layer: \", x.shape)\n",
        "        x = self.pool(x)\n",
        "\n",
        "        x = F.relu(self.conv3(x))\n",
        "        #print(\"shape after 3 conv layer: \", x.shape)\n",
        "        x = self.pool(x)\n",
        "\n",
        "        #print(\"shape before linear layers!!: \", x.shape)\n",
        "\n",
        "        x = x.view(-1, 256*6*6) # will have to change!\n",
        "        # print(\"reshaped\", x.shape)\n",
        "        x = F.relu(self.lin1(x))\n",
        "        x = F.relu(self.lin2(x))\n",
        "        x = self.lin3(x)\n",
        "\n",
        "        return x\n",
        "\n",
        "sub1 = Subnet1()"
      ],
      "execution_count": null,
      "outputs": []
    },
    {
      "cell_type": "code",
      "metadata": {
        "id": "wME97MptDeex",
        "outputId": "0312dd83-27e0-4e06-c928-eedc614f8004",
        "colab": {
          "base_uri": "https://localhost:8080/",
          "height": 183
        }
      },
      "source": [
        "net = Subnet2()\n",
        "net = net.to(device)\n",
        "net.double()"
      ],
      "execution_count": 16,
      "outputs": [
        {
          "output_type": "execute_result",
          "data": {
            "text/plain": [
              "Subnet2(\n",
              "  (conv1): Conv2d(1, 64, kernel_size=(3, 3), stride=(1, 1), padding=(1, 1))\n",
              "  (pool): MaxPool2d(kernel_size=2, stride=2, padding=0, dilation=1, ceil_mode=False)\n",
              "  (conv2): Conv2d(64, 128, kernel_size=(3, 3), stride=(1, 1), padding=(1, 1))\n",
              "  (conv3): Conv2d(128, 256, kernel_size=(3, 3), stride=(1, 1), padding=(1, 1))\n",
              "  (conv3_2): Conv2d(256, 256, kernel_size=(3, 3), stride=(1, 1), padding=(1, 1))\n",
              "  (lin1): Linear(in_features=9216, out_features=4096, bias=True)\n",
              "  (lin2): Linear(in_features=4096, out_features=4096, bias=True)\n",
              "  (lin3): Linear(in_features=4096, out_features=7, bias=True)\n",
              ")"
            ]
          },
          "metadata": {
            "tags": []
          },
          "execution_count": 16
        }
      ]
    },
    {
      "cell_type": "code",
      "metadata": {
        "id": "ACcirLVUPzUd"
      },
      "source": [
        "criterion = nn.CrossEntropyLoss()\n",
        "optimizer = optim.SGD(net.parameters(), lr=0.01, momentum=0.9)"
      ],
      "execution_count": 17,
      "outputs": []
    },
    {
      "cell_type": "code",
      "metadata": {
        "id": "3asDIi_yDQLW"
      },
      "source": [
        "def train_model(net, trainloader, valloader):\n",
        "\n",
        "    train_loss = []\n",
        "    val_loss = []\n",
        "    num = 10\n",
        "    for epoch in range(5):\n",
        "        print(\"Training\")\n",
        "        net = net.train()\n",
        "        running_loss = 0.0\n",
        "        for i, data in enumerate(trainloader):\n",
        "            inputs, labels = data\n",
        "            inputs, labels = inputs.to(device), labels.to(device)\n",
        "            \n",
        "            # zero the parameter gradients\n",
        "            optimizer.zero_grad()\n",
        "            \n",
        "            # forward + backward + optimize\n",
        "            outputs = net(inputs)\n",
        "            loss = criterion(outputs, labels)\n",
        "            loss.backward()\n",
        "            optimizer.step()\n",
        "            \n",
        "            # print statistics\n",
        "            running_loss += loss.item()\n",
        "            if i % num == num - 1 :    \n",
        "                print('[%d, %5d] loss: %.3f' %(epoch + 1, i + 1, running_loss / num))\n",
        "                train_loss.append(running_loss / num)\n",
        "                running_loss = 0.0\n",
        "        \n",
        "        print(\"Validating\")\n",
        "        net = net.eval()\n",
        "        running_loss = 0.0\n",
        "        for i, data in enumerate(valloader):\n",
        "            inputs, labels = data\n",
        "            inputs, labels = inputs.to(device), labels.to(device)\n",
        "\n",
        "            outputs = net(inputs)\n",
        "            loss = criterion(outputs, labels)\n",
        "\n",
        "            # print statistics\n",
        "            running_loss += loss.item()\n",
        "            if i % num == num - 1:    \n",
        "                print('[%d, %5d] loss: %.3f' %(epoch + 1, i + 1, running_loss / num))\n",
        "                val_loss.append(running_loss / num)\n",
        "                running_loss = 0.0\n",
        "\n",
        "    return train_loss, val_loss"
      ],
      "execution_count": 19,
      "outputs": []
    },
    {
      "cell_type": "code",
      "metadata": {
        "id": "9npmfIq5FgZ1",
        "outputId": "cfac90db-bd76-4742-a106-75522a997e9c",
        "colab": {
          "base_uri": "https://localhost:8080/",
          "height": 1000
        }
      },
      "source": [
        "train_loss, val_loss = train_model(net, trainloader, valloader)\n",
        "\n",
        "plt.figure()\n",
        "plt.plot(train_loss)\n",
        "plt.show()\n",
        "\n",
        "plt.figure()\n",
        "plt.plot(val_loss)\n",
        "plt.show()\n",
        "\n",
        "torch.save(net.state_dict(), '/content/subnet2_weights')"
      ],
      "execution_count": 20,
      "outputs": [
        {
          "output_type": "stream",
          "text": [
            "Training\n",
            "[1,    10] loss: 3.599\n",
            "[1,    20] loss: 1.868\n",
            "[1,    30] loss: 1.845\n",
            "[1,    40] loss: 1.846\n",
            "[1,    50] loss: 1.826\n",
            "[1,    60] loss: 1.804\n",
            "[1,    70] loss: 1.816\n",
            "[1,    80] loss: 1.798\n",
            "[1,    90] loss: 1.807\n",
            "[1,   100] loss: 1.802\n",
            "[1,   110] loss: 1.816\n",
            "[1,   120] loss: 1.800\n",
            "[1,   130] loss: 1.819\n",
            "[1,   140] loss: 1.808\n",
            "[1,   150] loss: 1.803\n",
            "[1,   160] loss: 1.791\n",
            "[1,   170] loss: 1.769\n",
            "[1,   180] loss: 1.733\n",
            "[1,   190] loss: 1.736\n",
            "[1,   200] loss: 1.634\n",
            "[1,   210] loss: 1.642\n",
            "[1,   220] loss: 1.660\n",
            "[1,   230] loss: 1.608\n",
            "[1,   240] loss: 1.587\n",
            "[1,   250] loss: 1.597\n",
            "[1,   260] loss: 1.556\n",
            "[1,   270] loss: 1.582\n",
            "[1,   280] loss: 1.557\n",
            "Validating\n",
            "[1,    10] loss: 1.522\n",
            "[1,    20] loss: 1.567\n",
            "[1,    30] loss: 1.545\n",
            "Training\n",
            "[2,    10] loss: 1.534\n",
            "[2,    20] loss: 1.519\n",
            "[2,    30] loss: 1.564\n",
            "[2,    40] loss: 1.557\n",
            "[2,    50] loss: 1.543\n",
            "[2,    60] loss: 1.541\n",
            "[2,    70] loss: 1.500\n",
            "[2,    80] loss: 1.490\n",
            "[2,    90] loss: 1.479\n",
            "[2,   100] loss: 1.499\n",
            "[2,   110] loss: 1.483\n",
            "[2,   120] loss: 1.429\n",
            "[2,   130] loss: 1.467\n",
            "[2,   140] loss: 1.385\n",
            "[2,   150] loss: 1.476\n",
            "[2,   160] loss: 1.429\n",
            "[2,   170] loss: 1.468\n",
            "[2,   180] loss: 1.470\n",
            "[2,   190] loss: 1.357\n",
            "[2,   200] loss: 1.414\n",
            "[2,   210] loss: 1.373\n",
            "[2,   220] loss: 1.390\n",
            "[2,   230] loss: 1.386\n",
            "[2,   240] loss: 1.418\n",
            "[2,   250] loss: 1.400\n",
            "[2,   260] loss: 1.370\n",
            "[2,   270] loss: 1.373\n",
            "[2,   280] loss: 1.339\n",
            "Validating\n",
            "[2,    10] loss: 1.458\n",
            "[2,    20] loss: 1.456\n",
            "[2,    30] loss: 1.374\n",
            "Training\n",
            "[3,    10] loss: 1.387\n",
            "[3,    20] loss: 1.301\n",
            "[3,    30] loss: 1.278\n",
            "[3,    40] loss: 1.328\n",
            "[3,    50] loss: 1.291\n",
            "[3,    60] loss: 1.245\n",
            "[3,    70] loss: 1.328\n",
            "[3,    80] loss: 1.288\n",
            "[3,    90] loss: 1.241\n",
            "[3,   100] loss: 1.289\n",
            "[3,   110] loss: 1.389\n",
            "[3,   120] loss: 1.304\n",
            "[3,   130] loss: 1.340\n",
            "[3,   140] loss: 1.365\n",
            "[3,   150] loss: 1.352\n",
            "[3,   160] loss: 1.295\n",
            "[3,   170] loss: 1.246\n",
            "[3,   180] loss: 1.270\n",
            "[3,   190] loss: 1.293\n",
            "[3,   200] loss: 1.290\n",
            "[3,   210] loss: 1.349\n",
            "[3,   220] loss: 1.320\n",
            "[3,   230] loss: 1.314\n",
            "[3,   240] loss: 1.287\n",
            "[3,   250] loss: 1.290\n",
            "[3,   260] loss: 1.294\n",
            "[3,   270] loss: 1.257\n",
            "[3,   280] loss: 1.253\n",
            "Validating\n",
            "[3,    10] loss: 1.286\n",
            "[3,    20] loss: 1.319\n",
            "[3,    30] loss: 1.364\n",
            "Training\n",
            "[4,    10] loss: 1.229\n",
            "[4,    20] loss: 1.218\n",
            "[4,    30] loss: 1.201\n",
            "[4,    40] loss: 1.184\n",
            "[4,    50] loss: 1.181\n",
            "[4,    60] loss: 1.137\n",
            "[4,    70] loss: 1.158\n",
            "[4,    80] loss: 1.184\n",
            "[4,    90] loss: 1.183\n",
            "[4,   100] loss: 1.204\n",
            "[4,   110] loss: 1.182\n",
            "[4,   120] loss: 1.172\n",
            "[4,   130] loss: 1.226\n",
            "[4,   140] loss: 1.182\n",
            "[4,   150] loss: 1.163\n",
            "[4,   160] loss: 1.206\n",
            "[4,   170] loss: 1.192\n",
            "[4,   180] loss: 1.223\n",
            "[4,   190] loss: 1.175\n",
            "[4,   200] loss: 1.193\n",
            "[4,   210] loss: 1.203\n",
            "[4,   220] loss: 1.158\n",
            "[4,   230] loss: 1.175\n",
            "[4,   240] loss: 1.179\n",
            "[4,   250] loss: 1.194\n",
            "[4,   260] loss: 1.191\n",
            "[4,   270] loss: 1.214\n",
            "[4,   280] loss: 1.127\n",
            "Validating\n",
            "[4,    10] loss: 1.175\n",
            "[4,    20] loss: 1.269\n",
            "[4,    30] loss: 1.222\n",
            "Training\n",
            "[5,    10] loss: 1.156\n",
            "[5,    20] loss: 1.084\n",
            "[5,    30] loss: 1.052\n",
            "[5,    40] loss: 1.007\n",
            "[5,    50] loss: 1.083\n",
            "[5,    60] loss: 1.077\n",
            "[5,    70] loss: 1.086\n",
            "[5,    80] loss: 1.044\n",
            "[5,    90] loss: 1.052\n",
            "[5,   100] loss: 1.114\n",
            "[5,   110] loss: 1.062\n",
            "[5,   120] loss: 1.118\n",
            "[5,   130] loss: 1.060\n",
            "[5,   140] loss: 1.066\n",
            "[5,   150] loss: 1.112\n",
            "[5,   160] loss: 1.055\n",
            "[5,   170] loss: 1.018\n",
            "[5,   180] loss: 1.080\n",
            "[5,   190] loss: 1.066\n",
            "[5,   200] loss: 1.131\n",
            "[5,   210] loss: 1.154\n",
            "[5,   220] loss: 1.109\n",
            "[5,   230] loss: 1.096\n",
            "[5,   240] loss: 1.073\n",
            "[5,   250] loss: 1.116\n",
            "[5,   260] loss: 1.135\n",
            "[5,   270] loss: 1.045\n",
            "[5,   280] loss: 1.027\n",
            "Validating\n",
            "[5,    10] loss: 1.188\n",
            "[5,    20] loss: 1.201\n",
            "[5,    30] loss: 1.203\n"
          ],
          "name": "stdout"
        },
        {
          "output_type": "display_data",
          "data": {
            "image/png": "[encoded data removed]",
            "text/plain": [
              "<Figure size 432x288 with 1 Axes>"
            ]
          },
          "metadata": {
            "tags": [],
            "needs_background": "light"
          }
        },
        {
          "output_type": "display_data",
          "data": {
            "image/png": "[encoded data removed]",
            "text/plain": [
              "<Figure size 432x288 with 1 Axes>"
            ]
          },
          "metadata": {
            "tags": [],
            "needs_background": "light"
          }
        }
      ]
    },
    {
      "cell_type": "code",
      "metadata": {
        "id": "GaGNnlXTJdeG",
        "outputId": "e4fdfc76-968e-4491-e3cf-8897a45e812a",
        "colab": {
          "base_uri": "https://localhost:8080/",
          "height": 228
        }
      },
      "source": [
        "plt.figure()\n",
        "plt.plot(train_loss)\n",
        "plt.show()\n",
        "\n",
        "plt.figure()\n",
        "plt.plot(val_loss)\n",
        "plt.show()"
      ],
      "execution_count": null,
      "outputs": [
        {
          "output_type": "error",
          "ename": "NameError",
          "evalue": "ignored",
          "traceback": [
            "\u001b[0;31m---------------------------------------------------------------------------\u001b[0m",
            "\u001b[0;31mNameError\u001b[0m                                 Traceback (most recent call last)",
            "\u001b[0;32m<ipython-input-1-1868d8d5df86>\u001b[0m in \u001b[0;36m<module>\u001b[0;34m()\u001b[0m\n\u001b[0;32m----> 1\u001b[0;31m \u001b[0mplt\u001b[0m\u001b[0;34m.\u001b[0m\u001b[0mfigure\u001b[0m\u001b[0;34m(\u001b[0m\u001b[0;34m)\u001b[0m\u001b[0;34m\u001b[0m\u001b[0;34m\u001b[0m\u001b[0m\n\u001b[0m\u001b[1;32m      2\u001b[0m \u001b[0mplt\u001b[0m\u001b[0;34m.\u001b[0m\u001b[0mplot\u001b[0m\u001b[0;34m(\u001b[0m\u001b[0mtrain_loss\u001b[0m\u001b[0;34m)\u001b[0m\u001b[0;34m\u001b[0m\u001b[0;34m\u001b[0m\u001b[0m\n\u001b[1;32m      3\u001b[0m \u001b[0mplt\u001b[0m\u001b[0;34m.\u001b[0m\u001b[0mshow\u001b[0m\u001b[0;34m(\u001b[0m\u001b[0;34m)\u001b[0m\u001b[0;34m\u001b[0m\u001b[0;34m\u001b[0m\u001b[0m\n\u001b[1;32m      4\u001b[0m \u001b[0;34m\u001b[0m\u001b[0m\n\u001b[1;32m      5\u001b[0m \u001b[0mplt\u001b[0m\u001b[0;34m.\u001b[0m\u001b[0mfigure\u001b[0m\u001b[0;34m(\u001b[0m\u001b[0;34m)\u001b[0m\u001b[0;34m\u001b[0m\u001b[0;34m\u001b[0m\u001b[0m\n",
            "\u001b[0;31mNameError\u001b[0m: name 'plt' is not defined"
          ]
        }
      ]
    },
    {
      "cell_type": "code",
      "metadata": {
        "id": "ImHFwVkQXSDk"
      },
      "source": [
        "torch.save(net.state_dict(), '/content/subnet2_weights')"
      ],
      "execution_count": null,
      "outputs": []
    }
  ]
}