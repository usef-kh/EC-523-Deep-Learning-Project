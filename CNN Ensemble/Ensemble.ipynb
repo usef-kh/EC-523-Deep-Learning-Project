{
  "nbformat": 4,
  "nbformat_minor": 0,
  "metadata": {
    "colab": {
      "name": "Ensemble.ipynb",
      "provenance": [],
      "collapsed_sections": [],
      "toc_visible": true,
      "include_colab_link": true
    },
    "kernelspec": {
      "name": "python3",
      "display_name": "Python 3"
    },
    "accelerator": "GPU",
    "widgets": {
      "application/vnd.jupyter.widget-state+json": {
        "86ef7dd2b5e64457ba16aaaac8b721b5": {
          "model_module": "@jupyter-widgets/controls",
          "model_name": "HBoxModel",
          "state": {
            "_view_name": "HBoxView",
            "_dom_classes": [],
            "_model_name": "HBoxModel",
            "_view_module": "@jupyter-widgets/controls",
            "_model_module_version": "1.5.0",
            "_view_count": null,
            "_view_module_version": "1.5.0",
            "box_style": "",
            "layout": "IPY_MODEL_003fa251d58445a99191860b3a3a5e3d",
            "_model_module": "@jupyter-widgets/controls",
            "children": [
              "IPY_MODEL_626c5839931444028935b0048435ec3d",
              "IPY_MODEL_7646c5c86da649018e751154098ae839"
            ]
          }
        },
        "003fa251d58445a99191860b3a3a5e3d": {
          "model_module": "@jupyter-widgets/base",
          "model_name": "LayoutModel",
          "state": {
            "_view_name": "LayoutView",
            "grid_template_rows": null,
            "right": null,
            "justify_content": null,
            "_view_module": "@jupyter-widgets/base",
            "overflow": null,
            "_model_module_version": "1.2.0",
            "_view_count": null,
            "flex_flow": null,
            "width": null,
            "min_width": null,
            "border": null,
            "align_items": null,
            "bottom": null,
            "_model_module": "@jupyter-widgets/base",
            "top": null,
            "grid_column": null,
            "overflow_y": null,
            "overflow_x": null,
            "grid_auto_flow": null,
            "grid_area": null,
            "grid_template_columns": null,
            "flex": null,
            "_model_name": "LayoutModel",
            "justify_items": null,
            "grid_row": null,
            "max_height": null,
            "align_content": null,
            "visibility": null,
            "align_self": null,
            "height": null,
            "min_height": null,
            "padding": null,
            "grid_auto_rows": null,
            "grid_gap": null,
            "max_width": null,
            "order": null,
            "_view_module_version": "1.2.0",
            "grid_template_areas": null,
            "object_position": null,
            "object_fit": null,
            "grid_auto_columns": null,
            "margin": null,
            "display": null,
            "left": null
          }
        },
        "626c5839931444028935b0048435ec3d": {
          "model_module": "@jupyter-widgets/controls",
          "model_name": "FloatProgressModel",
          "state": {
            "_view_name": "ProgressView",
            "style": "IPY_MODEL_a299bd7de22f461a91ffd55454b84328",
            "_dom_classes": [],
            "description": "100%",
            "_model_name": "FloatProgressModel",
            "bar_style": "success",
            "max": 574673361,
            "_view_module": "@jupyter-widgets/controls",
            "_model_module_version": "1.5.0",
            "value": 574673361,
            "_view_count": null,
            "_view_module_version": "1.5.0",
            "orientation": "horizontal",
            "min": 0,
            "description_tooltip": null,
            "_model_module": "@jupyter-widgets/controls",
            "layout": "IPY_MODEL_19b77a0fca6f458185e12de132633b2e"
          }
        },
        "7646c5c86da649018e751154098ae839": {
          "model_module": "@jupyter-widgets/controls",
          "model_name": "HTMLModel",
          "state": {
            "_view_name": "HTMLView",
            "style": "IPY_MODEL_6693f88afc904758aaed2052774a795c",
            "_dom_classes": [],
            "description": "",
            "_model_name": "HTMLModel",
            "placeholder": "​",
            "_view_module": "@jupyter-widgets/controls",
            "_model_module_version": "1.5.0",
            "value": " 548M/548M [04:54&lt;00:00, 1.95MB/s]",
            "_view_count": null,
            "_view_module_version": "1.5.0",
            "description_tooltip": null,
            "_model_module": "@jupyter-widgets/controls",
            "layout": "IPY_MODEL_7fb4a61840004e4fbe3042978b8fdf30"
          }
        },
        "a299bd7de22f461a91ffd55454b84328": {
          "model_module": "@jupyter-widgets/controls",
          "model_name": "ProgressStyleModel",
          "state": {
            "_view_name": "StyleView",
            "_model_name": "ProgressStyleModel",
            "description_width": "initial",
            "_view_module": "@jupyter-widgets/base",
            "_model_module_version": "1.5.0",
            "_view_count": null,
            "_view_module_version": "1.2.0",
            "bar_color": null,
            "_model_module": "@jupyter-widgets/controls"
          }
        },
        "19b77a0fca6f458185e12de132633b2e": {
          "model_module": "@jupyter-widgets/base",
          "model_name": "LayoutModel",
          "state": {
            "_view_name": "LayoutView",
            "grid_template_rows": null,
            "right": null,
            "justify_content": null,
            "_view_module": "@jupyter-widgets/base",
            "overflow": null,
            "_model_module_version": "1.2.0",
            "_view_count": null,
            "flex_flow": null,
            "width": null,
            "min_width": null,
            "border": null,
            "align_items": null,
            "bottom": null,
            "_model_module": "@jupyter-widgets/base",
            "top": null,
            "grid_column": null,
            "overflow_y": null,
            "overflow_x": null,
            "grid_auto_flow": null,
            "grid_area": null,
            "grid_template_columns": null,
            "flex": null,
            "_model_name": "LayoutModel",
            "justify_items": null,
            "grid_row": null,
            "max_height": null,
            "align_content": null,
            "visibility": null,
            "align_self": null,
            "height": null,
            "min_height": null,
            "padding": null,
            "grid_auto_rows": null,
            "grid_gap": null,
            "max_width": null,
            "order": null,
            "_view_module_version": "1.2.0",
            "grid_template_areas": null,
            "object_position": null,
            "object_fit": null,
            "grid_auto_columns": null,
            "margin": null,
            "display": null,
            "left": null
          }
        },
        "6693f88afc904758aaed2052774a795c": {
          "model_module": "@jupyter-widgets/controls",
          "model_name": "DescriptionStyleModel",
          "state": {
            "_view_name": "StyleView",
            "_model_name": "DescriptionStyleModel",
            "description_width": "",
            "_view_module": "@jupyter-widgets/base",
            "_model_module_version": "1.5.0",
            "_view_count": null,
            "_view_module_version": "1.2.0",
            "_model_module": "@jupyter-widgets/controls"
          }
        },
        "7fb4a61840004e4fbe3042978b8fdf30": {
          "model_module": "@jupyter-widgets/base",
          "model_name": "LayoutModel",
          "state": {
            "_view_name": "LayoutView",
            "grid_template_rows": null,
            "right": null,
            "justify_content": null,
            "_view_module": "@jupyter-widgets/base",
            "overflow": null,
            "_model_module_version": "1.2.0",
            "_view_count": null,
            "flex_flow": null,
            "width": null,
            "min_width": null,
            "border": null,
            "align_items": null,
            "bottom": null,
            "_model_module": "@jupyter-widgets/base",
            "top": null,
            "grid_column": null,
            "overflow_y": null,
            "overflow_x": null,
            "grid_auto_flow": null,
            "grid_area": null,
            "grid_template_columns": null,
            "flex": null,
            "_model_name": "LayoutModel",
            "justify_items": null,
            "grid_row": null,
            "max_height": null,
            "align_content": null,
            "visibility": null,
            "align_self": null,
            "height": null,
            "min_height": null,
            "padding": null,
            "grid_auto_rows": null,
            "grid_gap": null,
            "max_width": null,
            "order": null,
            "_view_module_version": "1.2.0",
            "grid_template_areas": null,
            "object_position": null,
            "object_fit": null,
            "grid_auto_columns": null,
            "margin": null,
            "display": null,
            "left": null
          }
        }
      }
    }
  },
  "cells": [
    {
      "cell_type": "markdown",
      "metadata": {
        "id": "view-in-github",
        "colab_type": "text"
      },
      "source": [
        "<a href=\"https://colab.research.google.com/github/usef-kh/EC523-Deep-Learning-Project/blob/master/CNN%20Ensemble/Ensemble.ipynb\" target=\"_parent\"><img src=\"https://colab.research.google.com/assets/colab-badge.svg\" alt=\"Open In Colab\"/></a>"
      ]
    },
    {
      "cell_type": "markdown",
      "metadata": {
        "id": "0_BUhZ1XAC-L"
      },
      "source": [
        "## Setup"
      ]
    },
    {
      "cell_type": "code",
      "metadata": {
        "id": "vuWtHT8flEop"
      },
      "source": [
        "%%capture\n",
        "!git clone \"https://github.com/usef-kh/EC523-Deep-Learning-Project.git\"\n",
        "!pip install unrar\n",
        "!unrar e \"EC523-Deep-Learning-Project/datasets/fer2013.rar\""
      ],
      "execution_count": null,
      "outputs": []
    },
    {
      "cell_type": "markdown",
      "metadata": {
        "id": "dlaRYoJ4oAHG"
      },
      "source": [
        "##Imports"
      ]
    },
    {
      "cell_type": "code",
      "metadata": {
        "id": "C_YoCLY4AILR"
      },
      "source": [
        "import pandas as pd\n",
        "import numpy as np\n",
        "\n",
        "import torch\n",
        "import torch.nn as nn\n",
        "import torch.nn.functional as F\n",
        "import torchvision\n",
        "import torchvision.transforms as transforms\n",
        "from torch import optim\n",
        "from torch.utils.data import Dataset, DataLoader\n",
        "from PIL import Image\n",
        "import torchvision.models as models\n",
        "\n",
        "import matplotlib.pyplot as plt\n",
        "\n",
        "import warnings\n",
        "warnings.filterwarnings(\"ignore\")\n",
        "\n",
        "device = torch.device(\"cuda:0\" if torch.cuda.is_available() else \"cpu\")"
      ],
      "execution_count": null,
      "outputs": []
    },
    {
      "cell_type": "markdown",
      "metadata": {
        "id": "2UCoqyjmoCvd"
      },
      "source": [
        "##Load Dataset"
      ]
    },
    {
      "cell_type": "code",
      "metadata": {
        "id": "eZ_WSTW3A_xU"
      },
      "source": [
        "fer2013 = pd.read_csv('fer2013.csv') \n",
        "emotions = {0: 'Angry', 1: 'Disgust', 2: 'Fear', 3: 'Happy', 4: 'Sad', 5: 'Surprise', 6: 'Neutral'}\n",
        "\n",
        "def prepare_data(data):\n",
        "    \"\"\" Prepare data for modeling \n",
        "        input: data frame with labels und pixel data\n",
        "        output: image and label array \"\"\"\n",
        "    \n",
        "    image_array = np.zeros(shape=(len(data), 48, 48))\n",
        "    image_label = np.array(list(map(int, data['emotion'])))\n",
        "    \n",
        "    for i, row in enumerate(data.index):\n",
        "        image = np.fromstring(data.loc[row, 'pixels'], dtype=int, sep=' ')\n",
        "        image = np.reshape(image, (48, 48))\n",
        "        image_array[i] = image\n",
        "        \n",
        "    return image_array, image_label\n",
        "\n",
        "xtrain, ytrain = prepare_data(fer2013[fer2013['Usage'] == 'Training'])\n",
        "xval , yval = prepare_data(fer2013[fer2013['Usage'] == 'PrivateTest'])\n",
        "xtest, ytest = prepare_data(fer2013[fer2013['Usage'] == 'PublicTest'])"
      ],
      "execution_count": null,
      "outputs": []
    },
    {
      "cell_type": "code",
      "metadata": {
        "id": "8hl8uPH6BdB_"
      },
      "source": [
        "class Fer2013(Dataset):\n",
        "    def __init__(self, images, labels, transform=None):\n",
        "        self.images = images\n",
        "        self.labels = labels\n",
        "        self.transform = transform        \n",
        "        \n",
        "    def __len__(self):\n",
        "        return len(self.images)\n",
        "\n",
        "    def __getitem__(self, idx):\n",
        "        if torch.is_tensor(idx):\n",
        "            idx = idx.tolist()\n",
        "\n",
        "        img = Image.fromarray(self.images[idx])\n",
        "        \n",
        "        if self.transform:\n",
        "            img = self.transform(img)\n",
        "\n",
        "        label = torch.tensor(self.labels[idx]).type(torch.long)\n",
        "        sample = (img, label)\n",
        "        \n",
        "        return sample\n",
        "\n",
        "mu, st = 0, 255\n",
        "train_transform = transforms.Compose([\n",
        "                    transforms.RandomResizedCrop(48, scale=(0.8, 1.2)),\n",
        "                    transforms.RandomApply([transforms.RandomAffine(0, translate=(0.2, 0.2))], p=0.5),\n",
        "                    transforms.RandomHorizontalFlip(),\n",
        "                    transforms.RandomApply([transforms.RandomRotation(10)], p=0.5),\n",
        "                    transforms.ToTensor(),\n",
        "                    transforms.Normalize(mean=mu, std = st)\n",
        "                    ])\n",
        "\n",
        "test_transform = transforms.Compose([\n",
        "                    transforms.ToTensor(),\n",
        "                    transforms.Normalize(mean=mu, std = st)\n",
        "                    ])\n",
        "\n",
        "train = Fer2013(xtrain, ytrain, train_transform)\n",
        "val = Fer2013(xval, yval, test_transform)\n",
        "test = Fer2013(xtest, ytest, test_transform)"
      ],
      "execution_count": null,
      "outputs": []
    },
    {
      "cell_type": "code",
      "metadata": {
        "id": "eWY9SPaQBjOG"
      },
      "source": [
        "trainloader = torch.utils.data.DataLoader(train, batch_size=100, shuffle=True, num_workers=2)\n",
        "valloader = torch.utils.data.DataLoader(val, batch_size=100, shuffle=True, num_workers=2)\n",
        "testloader = torch.utils.data.DataLoader(test, batch_size=100, shuffle=True, num_workers=2)"
      ],
      "execution_count": null,
      "outputs": []
    },
    {
      "cell_type": "code",
      "metadata": {
        "id": "Ak-GfkTVBn5G",
        "outputId": "af3b3e14-d449-46fd-b18d-5c536bc351f7",
        "colab": {
          "base_uri": "https://localhost:8080/",
          "height": 168
        }
      },
      "source": [
        "def imshow(img):\n",
        "    npimg = img.numpy()\n",
        "    plt.imshow(np.transpose(npimg, (1, 2, 0)), cmap='gray')\n",
        "\n",
        "# get some random training images\n",
        "dataiter = iter(trainloader)\n",
        "images, labels = dataiter.next()\n",
        "\n",
        "print(\"Batch Images Shape:\", images.shape)\n",
        "print(\"Batch Labels Shape:\", labels.shape)\n",
        "print()\n",
        "\n",
        "# show 5 images\n",
        "imshow(torchvision.utils.make_grid(images[:5]))\n",
        "plt.axis('off')\n",
        "# print labels\n",
        "print(' '.join('%7s' % emotions[labels[j].item()] for j in range(5)))"
      ],
      "execution_count": null,
      "outputs": [
        {
          "output_type": "stream",
          "text": [
            "Batch Images Shape: torch.Size([100, 1, 48, 48])\n",
            "Batch Labels Shape: torch.Size([100])\n",
            "\n",
            "Neutral Surprise Disgust Neutral   Happy\n"
          ],
          "name": "stdout"
        },
        {
          "output_type": "display_data",
          "data": {
            "image/png": "[encoded data removed]",
            "text/plain": [
              "<Figure size 432x288 with 1 Axes>"
            ]
          },
          "metadata": {
            "tags": [],
            "needs_background": "light"
          }
        }
      ]
    },
    {
      "cell_type": "markdown",
      "metadata": {
        "id": "WsdCb5GV9MoG"
      },
      "source": [
        "## Defining Model"
      ]
    },
    {
      "cell_type": "code",
      "metadata": {
        "id": "wk0wGha9aXhu"
      },
      "source": [
        "class History:\n",
        "    def __init__(self):\n",
        "        self.loss_train = []\n",
        "        self.loss_val = []\n",
        "\n",
        "        self.acc_train = []\n",
        "        self.acc_val = []"
      ],
      "execution_count": null,
      "outputs": []
    },
    {
      "cell_type": "markdown",
      "metadata": {
        "id": "k1XIYxqzeYgS"
      },
      "source": [
        "### Subnets"
      ]
    },
    {
      "cell_type": "code",
      "metadata": {
        "id": "b4mGSj4Lc8pw"
      },
      "source": [
        "class Subnet1Features(nn.Module):\n",
        "    def __init__(self):\n",
        "        super(Subnet1Features, self).__init__()\n",
        "        self.conv1 = nn.Conv2d(in_channels=1, out_channels=64, kernel_size=3, padding=1)\n",
        "        self.conv2 = nn.Conv2d(64, 128, 3, padding=1)\n",
        "        self.conv3 = nn.Conv2d(128, 256, 3, padding=1)\n",
        "\n",
        "        self.pool = nn.MaxPool2d(kernel_size=2,stride=2)\n",
        "        \n",
        "        self.bn1 = nn.BatchNorm2d(64)\n",
        "        self.bn2 = nn.BatchNorm2d(128)\n",
        "        self.bn3 = nn.BatchNorm2d(256)\n",
        "\n",
        "        self.lin1 = nn.Linear(256 * 6 * 6, 4096) \n",
        "        self.lin2 = nn.Linear(4096, 4096)\n",
        "        \n",
        "        self.history = History()\n",
        "\n",
        "    def forward(self, x):\n",
        "        x = F.relu(self.bn1(self.conv1(x)))\n",
        "        x = self.pool(x)\n",
        "\n",
        "        x = F.relu(self.bn2(self.conv2(x)))\n",
        "        x = self.pool(x)\n",
        "\n",
        "        x = F.relu(self.bn3(self.conv3(x)))\n",
        "        x = self.pool(x)\n",
        "\n",
        "        x = x.view(-1, 256*6*6) \n",
        "        \n",
        "        x = F.relu(self.lin1(x))\n",
        "        x = F.relu(self.lin2(x))\n",
        "        \n",
        "        return x\n",
        "\n",
        "class Subnet1(Subnet1Features):\n",
        "    def __init__(self):\n",
        "        super(Subnet1, self).__init__()\n",
        "        self.lin3 = nn.Linear(4096, 7)\n",
        "        \n",
        "        self.history = History()\n",
        "\n",
        "    def forward(self, x):\n",
        "        super(Subnet1, self).forward(x)\n",
        "        x = self.lin3(x)\n",
        "\n",
        "        return x"
      ],
      "execution_count": null,
      "outputs": []
    },
    {
      "cell_type": "code",
      "metadata": {
        "id": "lujf2-akdXFj"
      },
      "source": [
        "class Subnet2Features(nn.Module):\n",
        "    def __init__(self):\n",
        "        super(Subnet2Features, self).__init__()\n",
        "        self.conv1 = nn.Conv2d(in_channels=1, out_channels=64, kernel_size=3, padding=1)\n",
        "        self.conv2 = nn.Conv2d(64,128,3,padding=1)\n",
        "        self.conv3 = nn.Conv2d(128, 256, 3, padding=1)\n",
        "        self.conv3_2 = nn.Conv2d(256,256, 3, padding=1)\n",
        "\n",
        "        self.pool = nn.MaxPool2d(kernel_size=2,stride=2)\n",
        "\n",
        "        self.bn1 = nn.BatchNorm2d(64)\n",
        "        self.bn2 = nn.BatchNorm2d(128)\n",
        "        self.bn3 = nn.BatchNorm2d(256)\n",
        "        self.bn3_2 = nn.BatchNorm2d(256)\n",
        "        \n",
        "        self.lin1 = nn.Linear(256 * 6 * 6, 4096)\n",
        "        self.lin2 = nn.Linear(4096, 4096)\n",
        "\n",
        "        self.history = History()\n",
        "        \n",
        "    def forward(self, x):\n",
        "        x = F.relu(self.bn1(self.conv1(x)))\n",
        "        x = self.pool(x)\n",
        "\n",
        "        x = F.relu(self.bn2(self.conv2(x)))\n",
        "        x = self.pool(x)\n",
        "\n",
        "        x = F.relu(self.bn3(self.conv3(x)))\n",
        "        x = F.relu(self.bn3_2(self.conv3_2(x)))\n",
        "        x = self.pool(x)\n",
        "\n",
        "        x = x.view(x.size(0), 256 * 6 * 6)\n",
        "\n",
        "        x = F.relu(self.lin1(x))\n",
        "        x = F.relu(self.lin2(x))\n",
        "\n",
        "        return x\n",
        "\n",
        "class Subnet2(Subnet2Features):\n",
        "    def __init__(self):\n",
        "        super(Subnet2, self).__init__()\n",
        "        self.lin3 = nn.Linear(4096, 7)\n",
        "        self.history = History()\n",
        "\n",
        "    def forward(self, x):\n",
        "        super(Subnet2, self).forward(x)\n",
        "        x = self.lin3(x)\n",
        "\n",
        "        return x"
      ],
      "execution_count": null,
      "outputs": []
    },
    {
      "cell_type": "code",
      "metadata": {
        "id": "8Cso55AGdpN9"
      },
      "source": [
        "class Subnet3Features(nn.Module):\n",
        "    def __init__(self):\n",
        "        super(Subnet3Features, self).__init__()\n",
        "\n",
        "        self.conv1 = nn.Conv2d(in_channels=1, out_channels=64, kernel_size=3, padding=1)\n",
        "        self.conv2 = nn.Conv2d(64,128,3,padding=1)\n",
        "        self.conv2_2 = nn.Conv2d(128,128,3,padding=1)\n",
        "        self.conv3 = nn.Conv2d(128, 256, 3, padding=1)\n",
        "        self.conv3_2 = nn.Conv2d(256,256, 3, padding=1)\n",
        "\n",
        "        self.pool = nn.MaxPool2d(kernel_size=2,stride=2)\n",
        "\n",
        "        self.bn1 = nn.BatchNorm2d(num_features= 64)\n",
        "        self.bn2 = nn.BatchNorm2d(num_features= 128)\n",
        "        self.bn2_2 = nn.BatchNorm2d(num_features= 128)\n",
        "        self.bn3 = nn.BatchNorm2d(num_features= 256)\n",
        "        self.bn3_2 = nn.BatchNorm2d(num_features= 256)\n",
        "\n",
        "        self.lin1 = nn.Linear(256 * 6 * 6, 4096)\n",
        "        self.lin2 = nn.Linear(4096, 4096)\n",
        "        \n",
        "        self.history = History()\n",
        "        \n",
        "    def forward(self, x):\n",
        "\n",
        "        x = F.relu(self.bn1(self.conv1(x)))\n",
        "        x = self.pool(x)\n",
        "\n",
        "        x = F.relu(self.bn2(self.conv2(x)))\n",
        "        x = F.relu(self.bn2_2(self.conv2_2(x)))\n",
        "        x = self.pool(x)\n",
        "\n",
        "        x = F.relu(self.bn3(self.conv3(x)))\n",
        "        x = F.relu(self.bn3_2(self.conv3_2(x)))\n",
        "        x = self.pool(x)\n",
        "\n",
        "        x = x.view(-1, 256*6*6)\n",
        "      \n",
        "        x = F.relu(self.lin1(x))\n",
        "        x = F.relu(self.lin2(x))\n",
        "        \n",
        "        return x\n",
        "\n",
        "class Subnet3(Subnet3Features):\n",
        "    def __init__(self):\n",
        "        super(Subnet3, self).__init__()\n",
        "        self.lin3 = nn.Linear(4096, 7)\n",
        "\n",
        "        self.history = History()\n",
        "        \n",
        "    def forward(self, x):\n",
        "        super(Subnet3, self).forward(x)       \n",
        "        x = self.lin3(x)\n",
        "\n",
        "        return x"
      ],
      "execution_count": null,
      "outputs": []
    },
    {
      "cell_type": "code",
      "metadata": {
        "id": "SAdSjRH-3fgh"
      },
      "source": [
        "class reVggFeatures(nn.Module):\n",
        "  def __init__(self):\n",
        "    super(reVggFeatures, self).__init__()\n",
        "    self.convert = nn.Conv2d(in_channels=1, out_channels=3, kernel_size=1)\n",
        "    \n",
        "    vgg = models.vgg19(pretrained=True).features\n",
        "    vgg.to(device)\n",
        "    vgg.eval()\n",
        "\n",
        "    self.vgg = vgg \n",
        "    \n",
        "    self.history = History()\n",
        "\n",
        "  def forward(self, x):\n",
        "    x = self.convert(x)\n",
        "\n",
        "    x = self.vgg(x)\n",
        "    x = x.view(-1, 512 * 1 * 1)\n",
        "    \n",
        "    return x\n",
        "\n",
        "class reVgg(reVggFeatures):\n",
        "  def __init__(self):\n",
        "    super(reVgg, self).__init__()\n",
        "    \n",
        "    self.lin1= nn.Linear(512 * 1 * 1, 7)\n",
        "    self.history = History()\n",
        "  \n",
        "  def forward(self, x):\n",
        "    super(reVgg, self).forward(x) \n",
        "    x = self.lin1(x)\n",
        "    \n",
        "    return x"
      ],
      "execution_count": null,
      "outputs": []
    },
    {
      "cell_type": "markdown",
      "metadata": {
        "id": "x136zhp9eakh"
      },
      "source": [
        "### Ensemble"
      ]
    },
    {
      "cell_type": "code",
      "metadata": {
        "id": "bQfkdjzcecDV"
      },
      "source": [
        "class Ensemble(nn.Module):\n",
        "    def __init__(self, subnet1, subnet2, subnet3, vgg):\n",
        "        super(Ensemble, self).__init__()\n",
        "        self.sub1 = subnet1\n",
        "        self.sub2 = subnet2\n",
        "        self.sub3 = subnet3\n",
        "        self.vgg = vgg\n",
        "\n",
        "        self.final_lin = nn.Linear(4096*3 + 512, 7)\n",
        "\n",
        "        self.history = History()\n",
        "\n",
        "    def forward(self, x):\n",
        "        x_1 = self.sub1(x)\n",
        "        x_2 = self.sub2(x)\n",
        "        x_3 = self.sub3(x)\n",
        "        x_vgg = self.vgg(x)\n",
        "\n",
        "        x_cat = torch.cat((x_1, x_2, x_3, x_vgg), dim=1)\n",
        "        x = self.final_lin(x_cat)\n",
        "\n",
        "        return x"
      ],
      "execution_count": null,
      "outputs": []
    },
    {
      "cell_type": "markdown",
      "metadata": {
        "id": "0DdzO0F5fbIS"
      },
      "source": [
        "## Building Model"
      ]
    },
    {
      "cell_type": "code",
      "metadata": {
        "id": "vJQbzGB4ew-6",
        "outputId": "f437c5f0-30d8-4d51-cf13-3260581c58b3",
        "colab": {
          "base_uri": "https://localhost:8080/",
          "height": 34
        }
      },
      "source": [
        "from google.colab import drive\n",
        "drive.mount('/content/drive')"
      ],
      "execution_count": null,
      "outputs": [
        {
          "output_type": "stream",
          "text": [
            "Mounted at /content/drive\n"
          ],
          "name": "stdout"
        }
      ]
    },
    {
      "cell_type": "code",
      "metadata": {
        "id": "TOhZrr-XfC9V"
      },
      "source": [
        "def load_layers(pretrained, model):\n",
        "    pretrained = pretrained.state_dict()\n",
        "    model_dict = model.state_dict()\n",
        "\n",
        "    pretrained = {k: v for k, v in pretrained.items() if k in model_dict}\n",
        "    \n",
        "    # Load layers\n",
        "    model_dict.update(pretrained) \n",
        "    model.load_state_dict(pretrained)\n",
        "\n",
        "    # Freeze layers\n",
        "    for name, param in model.named_parameters():\n",
        "        param.requires_grad = False"
      ],
      "execution_count": null,
      "outputs": []
    },
    {
      "cell_type": "code",
      "metadata": {
        "id": "azN8kBmae8nW",
        "outputId": "38d5331e-767d-498e-9829-0985839e4907",
        "colab": {
          "base_uri": "https://localhost:8080/",
          "height": 83,
          "referenced_widgets": [
            "86ef7dd2b5e64457ba16aaaac8b721b5",
            "003fa251d58445a99191860b3a3a5e3d",
            "626c5839931444028935b0048435ec3d",
            "7646c5c86da649018e751154098ae839",
            "a299bd7de22f461a91ffd55454b84328",
            "19b77a0fca6f458185e12de132633b2e",
            "6693f88afc904758aaed2052774a795c",
            "7fb4a61840004e4fbe3042978b8fdf30"
          ]
        }
      },
      "source": [
        "pretrained_1 = Subnet1()\n",
        "pretrained_1.load_state_dict(torch.load('/content/drive/Shared drives/EC523 Project/CNN Ensemble/Tuned Subnets/sub1'))\n",
        "pretrained_1.eval()\n",
        "\n",
        "pretrained_2 = Subnet2()\n",
        "pretrained_2.load_state_dict(torch.load('/content/drive/Shared drives/EC523 Project/CNN Ensemble/Tuned Subnets/sub2'))\n",
        "pretrained_2.eval()\n",
        "\n",
        "pretrained_3 = Subnet3()\n",
        "pretrained_3.load_state_dict(torch.load('/content/drive/Shared drives/EC523 Project/CNN Ensemble/Tuned Subnets/sub3'))\n",
        "pretrained_3.eval()\n",
        "\n",
        "pretrained_vgg = reVgg()\n",
        "pretrained_vgg.load_state_dict(torch.load('/content/drive/Shared drives/EC523 Project/CNN Ensemble/VGG_trainedModel'))\n",
        "pretrained_vgg.eval()\n",
        "\n",
        "subnet1 = Subnet1Features()\n",
        "subnet2 = Subnet2Features()\n",
        "subnet3 = Subnet3Features()\n",
        "vgg = reVggFeatures()\n",
        "\n",
        "load_layers(pretrained_1, subnet1)\n",
        "load_layers(pretrained_2, subnet2)\n",
        "load_layers(pretrained_3, subnet3)\n",
        "load_layers(pretrained_vgg, vgg)"
      ],
      "execution_count": null,
      "outputs": [
        {
          "output_type": "stream",
          "text": [
            "Downloading: \"https://download.pytorch.org/models/vgg19-dcbb9e9d.pth\" to /root/.cache/torch/hub/checkpoints/vgg19-dcbb9e9d.pth\n"
          ],
          "name": "stderr"
        },
        {
          "output_type": "display_data",
          "data": {
            "application/vnd.jupyter.widget-view+json": {
              "model_id": "86ef7dd2b5e64457ba16aaaac8b721b5",
              "version_minor": 0,
              "version_major": 2
            },
            "text/plain": [
              "HBox(children=(FloatProgress(value=0.0, max=574673361.0), HTML(value='')))"
            ]
          },
          "metadata": {
            "tags": []
          }
        },
        {
          "output_type": "stream",
          "text": [
            "\n"
          ],
          "name": "stdout"
        }
      ]
    },
    {
      "cell_type": "code",
      "metadata": {
        "id": "-07KNSNwen6M"
      },
      "source": [
        "ensemble = Ensemble(subnet1, subnet2, subnet3, vgg)\n",
        "ensemble = ensemble.to(device)"
      ],
      "execution_count": null,
      "outputs": []
    },
    {
      "cell_type": "code",
      "metadata": {
        "id": "pamrX3y5kqGl"
      },
      "source": [
        "criterion = nn.CrossEntropyLoss()\n",
        "optimizer = optim.SGD(ensemble.parameters(), lr=0.001, momentum=0.9)"
      ],
      "execution_count": null,
      "outputs": []
    },
    {
      "cell_type": "markdown",
      "metadata": {
        "id": "BC14jOrceOA1"
      },
      "source": [
        "## Training"
      ]
    },
    {
      "cell_type": "code",
      "metadata": {
        "id": "WZu63iPUCfXQ"
      },
      "source": [
        "def train_model(net, trainloader, valloader, n_epochs=20):\n",
        "\n",
        "    for epoch in range(n_epochs):\n",
        "        \n",
        "        net = net.train()\n",
        "        loss_tr, correct_count, n = 0.0, 0.0, 0.0\n",
        "        for i, data in enumerate(trainloader):\n",
        "            inputs, labels = data\n",
        "            inputs, labels = inputs.to(device), labels.to(device)\n",
        "            \n",
        "            # zero the parameter gradients\n",
        "            optimizer.zero_grad()\n",
        "            \n",
        "            # forward + backward + optimize\n",
        "            outputs = net(inputs)\n",
        "            loss = criterion(outputs, labels)\n",
        "            loss.backward()\n",
        "            optimizer.step()\n",
        "\n",
        "            # calculate performance metrics\n",
        "            loss_tr += loss.item()\n",
        "            \n",
        "            _, preds = torch.max(outputs.data, 1)\n",
        "            correct_count += (preds == labels).sum().item()\n",
        "            n += labels.size(0)\n",
        "            \n",
        "        # Save train and validation performance metrics \n",
        "        acc_tr = 100 * correct_count / n\n",
        "        loss_tr = loss_tr / n\n",
        "\n",
        "        acc_v, loss_v = test_model(net, valloader)\n",
        "\n",
        "        net.history.loss_train.append(loss_tr)\n",
        "        net.history.loss_val.append(loss_v)\n",
        "\n",
        "        net.history.acc_train.append(acc_tr)\n",
        "        net.history.acc_val.append(acc_v)\n",
        "        \n",
        "        print('Epoch %2d' % (epoch + 1), 'Train Accuracy: %2.2f %%' % (acc_tr), 'Val Accuracy: %2.2f %%' % (acc_v), sep='\\t\\t')"
      ],
      "execution_count": null,
      "outputs": []
    },
    {
      "cell_type": "code",
      "metadata": {
        "id": "0SOdtZNPCvqV"
      },
      "source": [
        "def test_model(net, dataloader):\n",
        "    \n",
        "    net = net.eval()\n",
        "\n",
        "    loss, correct_count, n_sampels = 0.0, 0.0, 0.0\n",
        "    for data in dataloader:\n",
        "\n",
        "        inputs, labels = data\n",
        "        inputs, labels = inputs.to(device), labels.to(device)\n",
        "\n",
        "        outputs = net(inputs)\n",
        "\n",
        "        loss += criterion(outputs, labels).item()\n",
        "\n",
        "        _, preds = torch.max(outputs.data, 1)\n",
        "        correct_count += (preds == labels).sum().item()\n",
        "        n_sampels += labels.size(0)\n",
        "    \n",
        "    acc = 100 * correct_count / n_sampels\n",
        "    loss = loss / n_sampels\n",
        "    \n",
        "    return acc, loss"
      ],
      "execution_count": null,
      "outputs": []
    },
    {
      "cell_type": "code",
      "metadata": {
        "id": "dbu7rptnXlOq"
      },
      "source": [
        "def plot_metrics(net):\n",
        "    plt.figure()\n",
        "    plt.plot(net.history.acc_train, 'g', label='Training Acc')\n",
        "    plt.plot(net.history.acc_val, 'b', label='Validation Acc')\n",
        "    plt.title('Accuracy')\n",
        "    plt.xlabel('Epoch')\n",
        "    plt.ylabel('Acc')\n",
        "    plt.legend()\n",
        "    plt.grid()\n",
        "    plt.show()\n",
        "\n",
        "    plt.figure()\n",
        "    plt.plot(net.history.loss_train, 'g', label='Training Loss')\n",
        "    plt.plot(net.history.loss_val, 'b', label='Validation Loss')\n",
        "    plt.title('Loss')\n",
        "    plt.xlabel('Epoch')\n",
        "    plt.ylabel('Loss')\n",
        "    plt.legend()\n",
        "    plt.grid()\n",
        "    plt.show()\n",
        "\n",
        "    print('Training Accuracy: %2.2f %%' % (max(net.history.acc_train)))\n",
        "    print('Validation Accuracy: %2.2f %%' % (max(net.history.acc_val)))\n",
        "    print()\n",
        "\n",
        "    acc, loss = test_model(net, testloader)    \n",
        "    print('Test Accuracy: %2.2f %%' % (acc))\n",
        "    print('Average Test Loss: %2.4f' % (loss))"
      ],
      "execution_count": null,
      "outputs": []
    },
    {
      "cell_type": "code",
      "metadata": {
        "id": "TjfCt8W2k2MZ"
      },
      "source": [
        "train_model(ensemble, trainloader, valloader, n_epochs=10)"
      ],
      "execution_count": null,
      "outputs": []
    },
    {
      "cell_type": "markdown",
      "metadata": {
        "id": "9XOAEicmnoju"
      },
      "source": [
        "## Evaluation"
      ]
    },
    {
      "cell_type": "code",
      "metadata": {
        "id": "eu5REnKaa8Ug",
        "outputId": "77df1f4e-0d7e-40e7-d704-1834d33a2364",
        "colab": {
          "base_uri": "https://localhost:8080/",
          "height": 675
        }
      },
      "source": [
        "print(\"Ensemble\")\n",
        "plot_metrics(ensemble)"
      ],
      "execution_count": null,
      "outputs": [
        {
          "output_type": "stream",
          "text": [
            "Ensemble\n"
          ],
          "name": "stdout"
        },
        {
          "output_type": "display_data",
          "data": {
            "image/png": "[encoded data removed]",
            "text/plain": [
              "<Figure size 432x288 with 1 Axes>"
            ]
          },
          "metadata": {
            "tags": [],
            "needs_background": "light"
          }
        },
        {
          "output_type": "display_data",
          "data": {
            "image/png": "[encoded data removed]",
            "text/plain": [
              "<Figure size 432x288 with 1 Axes>"
            ]
          },
          "metadata": {
            "tags": [],
            "needs_background": "light"
          }
        },
        {
          "output_type": "stream",
          "text": [
            "Training Accuracy: 98.85 %\n",
            "Validation Accuracy: 70.91 %\n",
            "\n",
            "Test Accuracy: 69.99 %\n",
            "Average Test Loss: 0.0168\n"
          ],
          "name": "stdout"
        }
      ]
    },
    {
      "cell_type": "markdown",
      "metadata": {
        "id": "x-8w_YNmn3Ws"
      },
      "source": [
        "##Save Model"
      ]
    },
    {
      "cell_type": "code",
      "metadata": {
        "id": "bIypvUY5Qr-o"
      },
      "source": [
        "path = 'ensemble'\n",
        "torch.save(ensemble.state_dict(), path)"
      ],
      "execution_count": null,
      "outputs": []
    }
  ]
}