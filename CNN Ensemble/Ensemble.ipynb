{
  "nbformat": 4,
  "nbformat_minor": 0,
  "metadata": {
    "colab": {
      "name": "combining_subnets",
      "provenance": [],
      "collapsed_sections": [],
      "toc_visible": true,
      "include_colab_link": true
    },
    "kernelspec": {
      "name": "python3",
      "display_name": "Python 3"
    },
    "accelerator": "GPU"
  },
  "cells": [
    {
      "cell_type": "markdown",
      "metadata": {
        "id": "view-in-github",
        "colab_type": "text"
      },
      "source": [
        "<a href=\"https://colab.research.google.com/github/usef-kh/EC523-Deep-Learning-Project/blob/master/combining_subnets.ipynb\" target=\"_parent\"><img src=\"https://colab.research.google.com/assets/colab-badge.svg\" alt=\"Open In Colab\"/></a>"
      ]
    },
    {
      "cell_type": "markdown",
      "metadata": {
        "id": "0_BUhZ1XAC-L"
      },
      "source": [
        "## Setup"
      ]
    },
    {
      "cell_type": "code",
      "metadata": {
        "id": "vuWtHT8flEop"
      },
      "source": [
        "%%capture\n",
        "!git clone \"https://github.com/usef-kh/EC523-Deep-Learning-Project.git\"\n",
        "!pip install unrar\n",
        "!unrar e \"EC523-Deep-Learning-Project/datasets/fer2013.rar\""
      ],
      "execution_count": 1,
      "outputs": []
    },
    {
      "cell_type": "markdown",
      "metadata": {
        "id": "dlaRYoJ4oAHG"
      },
      "source": [
        "##Imports"
      ]
    },
    {
      "cell_type": "code",
      "metadata": {
        "id": "C_YoCLY4AILR"
      },
      "source": [
        "import pandas as pd\n",
        "import numpy as np\n",
        "\n",
        "import torch\n",
        "import torch.nn as nn\n",
        "import torch.nn.functional as F\n",
        "import torchvision\n",
        "import torchvision.transforms as transforms\n",
        "from torch import optim\n",
        "from torch.utils.data import Dataset, DataLoader\n",
        "from PIL import Image\n",
        "\n",
        "import matplotlib.pyplot as plt\n",
        "\n",
        "import warnings\n",
        "warnings.filterwarnings(\"ignore\")\n",
        "\n",
        "device = torch.device(\"cuda:0\" if torch.cuda.is_available() else \"cpu\")"
      ],
      "execution_count": 2,
      "outputs": []
    },
    {
      "cell_type": "markdown",
      "metadata": {
        "id": "2UCoqyjmoCvd"
      },
      "source": [
        "##Load Dataset"
      ]
    },
    {
      "cell_type": "code",
      "metadata": {
        "id": "eZ_WSTW3A_xU"
      },
      "source": [
        "fer2013 = pd.read_csv('fer2013.csv') \n",
        "emotions = {0: 'Angry', 1: 'Disgust', 2: 'Fear', 3: 'Happy', 4: 'Sad', 5: 'Surprise', 6: 'Neutral'}\n",
        "\n",
        "def prepare_data(data):\n",
        "    \"\"\" Prepare data for modeling \n",
        "        input: data frame with labels und pixel data\n",
        "        output: image and label array \"\"\"\n",
        "    \n",
        "    image_array = np.zeros(shape=(len(data), 48, 48))\n",
        "    image_label = np.array(list(map(int, data['emotion'])))\n",
        "    \n",
        "    for i, row in enumerate(data.index):\n",
        "        image = np.fromstring(data.loc[row, 'pixels'], dtype=int, sep=' ')\n",
        "        image = np.reshape(image, (48, 48))\n",
        "        image_array[i] = image\n",
        "        \n",
        "    return image_array, image_label\n",
        "\n",
        "xtrain, ytrain = prepare_data(fer2013[fer2013['Usage'] == 'Training'])\n",
        "xval , yval = prepare_data(fer2013[fer2013['Usage'] == 'PrivateTest'])\n",
        "xtest, ytest = prepare_data(fer2013[fer2013['Usage'] == 'PublicTest'])"
      ],
      "execution_count": 3,
      "outputs": []
    },
    {
      "cell_type": "code",
      "metadata": {
        "id": "8hl8uPH6BdB_"
      },
      "source": [
        "class Fer2013(Dataset):\n",
        "    def __init__(self, images, labels, transform=None):\n",
        "        self.images = images\n",
        "        self.labels = labels\n",
        "        self.transform = transform        \n",
        "        \n",
        "    def __len__(self):\n",
        "        return len(self.images)\n",
        "\n",
        "    def __getitem__(self, idx):\n",
        "        if torch.is_tensor(idx):\n",
        "            idx = idx.tolist()\n",
        "\n",
        "        img = Image.fromarray(self.images[idx])\n",
        "        \n",
        "        if self.transform:\n",
        "            img = self.transform(img)\n",
        "\n",
        "        label = torch.tensor(self.labels[idx]).type(torch.long)\n",
        "        sample = (img, label)\n",
        "        \n",
        "        return sample\n",
        "\n",
        "mu, st = 0, 255\n",
        "train_transform = transforms.Compose([\n",
        "                    transforms.RandomResizedCrop(48, scale=(0.8, 1.0)),\n",
        "                    transforms.RandomAffine(0, translate=(0, 0.1)),\n",
        "                    transforms.RandomHorizontalFlip(),\n",
        "                    transforms.RandomRotation(10),\n",
        "                    transforms.ToTensor(),\n",
        "                    transforms.Normalize(mean=mu, std = st)\n",
        "                    ])\n",
        "\n",
        "test_transform = transforms.Compose([\n",
        "                    transforms.ToTensor(),\n",
        "                    transforms.Normalize(mean=mu, std = st)\n",
        "                    ])\n",
        "\n",
        "train = Fer2013(xtrain, ytrain, train_transform)\n",
        "val = Fer2013(xval, yval, test_transform)\n",
        "test = Fer2013(xtest, ytest, test_transform)"
      ],
      "execution_count": 4,
      "outputs": []
    },
    {
      "cell_type": "code",
      "metadata": {
        "id": "eWY9SPaQBjOG"
      },
      "source": [
        "trainloader = torch.utils.data.DataLoader(train, batch_size=100, shuffle=True, num_workers=2)\n",
        "valloader = torch.utils.data.DataLoader(val, batch_size=100, shuffle=True, num_workers=2)\n",
        "testloader = torch.utils.data.DataLoader(test, batch_size=100, shuffle=True, num_workers=2)"
      ],
      "execution_count": 5,
      "outputs": []
    },
    {
      "cell_type": "code",
      "metadata": {
        "id": "Ak-GfkTVBn5G",
        "outputId": "61f2d03f-c3dd-4757-c5bc-82ab22cfa0ff",
        "colab": {
          "base_uri": "https://localhost:8080/",
          "height": 168
        }
      },
      "source": [
        "def imshow(img):\n",
        "    npimg = img.numpy()\n",
        "    plt.imshow(np.transpose(npimg, (1, 2, 0)), cmap='gray')\n",
        "\n",
        "# get some random training images\n",
        "dataiter = iter(trainloader)\n",
        "images, labels = dataiter.next()\n",
        "\n",
        "print(\"Batch Images Shape:\", images.shape)\n",
        "print(\"Batch Labels Shape:\", labels.shape)\n",
        "print()\n",
        "\n",
        "# show 5 images\n",
        "imshow(torchvision.utils.make_grid(images[:5]))\n",
        "plt.axis('off')\n",
        "# print labels\n",
        "print(' '.join('%7s' % emotions[labels[j].item()] for j in range(5)))"
      ],
      "execution_count": 6,
      "outputs": [
        {
          "output_type": "stream",
          "text": [
            "Batch Images Shape: torch.Size([100, 1, 48, 48])\n",
            "Batch Labels Shape: torch.Size([100])\n",
            "\n",
            "  Happy Neutral    Fear Neutral Surprise\n"
          ],
          "name": "stdout"
        },
        {
          "output_type": "display_data",
          "data": {
            "image/png": "[encoded data removed]",
            "text/plain": [
              "<Figure size 432x288 with 1 Axes>"
            ]
          },
          "metadata": {
            "tags": [],
            "needs_background": "light"
          }
        }
      ]
    },
    {
      "cell_type": "markdown",
      "metadata": {
        "id": "WsdCb5GV9MoG"
      },
      "source": [
        "## Defining Model"
      ]
    },
    {
      "cell_type": "code",
      "metadata": {
        "id": "wk0wGha9aXhu"
      },
      "source": [
        "class History:\n",
        "    def __init__(self):\n",
        "        self.loss_train = []\n",
        "        self.loss_val = []\n",
        "\n",
        "        self.acc_train = []\n",
        "        self.acc_val = []"
      ],
      "execution_count": 7,
      "outputs": []
    },
    {
      "cell_type": "markdown",
      "metadata": {
        "id": "k1XIYxqzeYgS"
      },
      "source": [
        "### Subnets"
      ]
    },
    {
      "cell_type": "code",
      "metadata": {
        "id": "b4mGSj4Lc8pw"
      },
      "source": [
        "class Subnet1Features(nn.Module):\n",
        "    def __init__(self):\n",
        "        super(Subnet1Features, self).__init__()\n",
        "        self.conv1 = nn.Conv2d(in_channels=1, out_channels=64, kernel_size=3, padding=1)\n",
        "        self.conv2 = nn.Conv2d(64, 128, 3, padding=1)\n",
        "        self.conv3 = nn.Conv2d(128, 256, 3, padding=1)\n",
        "\n",
        "        self.pool = nn.MaxPool2d(kernel_size=2,stride=2)\n",
        "        \n",
        "        self.bn1 = nn.BatchNorm2d(64)\n",
        "        self.bn2 = nn.BatchNorm2d(128)\n",
        "        self.bn3 = nn.BatchNorm2d(256)\n",
        "\n",
        "        self.lin1 = nn.Linear(256 * 6 * 6, 4096) \n",
        "        self.lin2 = nn.Linear(4096, 4096)\n",
        "        \n",
        "        self.history = History()\n",
        "\n",
        "    def forward(self, x):\n",
        "        x = F.relu(self.bn1(self.conv1(x)))\n",
        "        x = self.pool(x)\n",
        "\n",
        "        x = F.relu(self.bn2(self.conv2(x)))\n",
        "        x = self.pool(x)\n",
        "\n",
        "        x = F.relu(self.bn3(self.conv3(x)))\n",
        "        x = self.pool(x)\n",
        "\n",
        "        x = x.view(-1, 256*6*6) \n",
        "        \n",
        "        x = F.relu(self.lin1(x))\n",
        "        x = F.relu(self.lin2(x))\n",
        "        \n",
        "        return x\n",
        "\n",
        "class Subnet1(Subnet1Features):\n",
        "    def __init__(self):\n",
        "        super(Subnet1, self).__init__()\n",
        "        self.lin3 = nn.Linear(4096, 7)\n",
        "        \n",
        "        self.history = History()\n",
        "\n",
        "    def forward(self, x):\n",
        "        super(Subnet1, self).forward(x)\n",
        "        x = self.lin3(x)\n",
        "\n",
        "        return x"
      ],
      "execution_count": 21,
      "outputs": []
    },
    {
      "cell_type": "code",
      "metadata": {
        "id": "lujf2-akdXFj"
      },
      "source": [
        "class Subnet2Features(nn.Module):\n",
        "    def __init__(self):\n",
        "        super(Subnet2Features, self).__init__()\n",
        "        self.conv1 = nn.Conv2d(in_channels=1, out_channels=64, kernel_size=3, padding=1)\n",
        "        self.conv2 = nn.Conv2d(64,128,3,padding=1)\n",
        "        self.conv3 = nn.Conv2d(128, 256, 3, padding=1)\n",
        "        self.conv3_2 = nn.Conv2d(256,256, 3, padding=1)\n",
        "\n",
        "        self.pool = nn.MaxPool2d(kernel_size=2,stride=2)\n",
        "\n",
        "        self.bn1 = nn.BatchNorm2d(64)\n",
        "        self.bn2 = nn.BatchNorm2d(128)\n",
        "        self.bn3 = nn.BatchNorm2d(256)\n",
        "        self.bn3_2 = nn.BatchNorm2d(256)\n",
        "        \n",
        "        self.lin1 = nn.Linear(256 * 6 * 6, 4096)\n",
        "        self.lin2 = nn.Linear(4096, 4096)\n",
        "\n",
        "        self.history = History()\n",
        "        \n",
        "    def forward(self, x):\n",
        "        x = F.relu(self.bn1(self.conv1(x)))\n",
        "        x = self.pool(x)\n",
        "\n",
        "        x = F.relu(self.bn2(self.conv2(x)))\n",
        "        x = self.pool(x)\n",
        "\n",
        "        x = F.relu(self.bn3(self.conv3(x)))\n",
        "        x = F.relu(self.bn3_2(self.conv3_2(x)))\n",
        "        x = self.pool(x)\n",
        "\n",
        "        x = x.view(x.size(0), 256 * 6 * 6)\n",
        "\n",
        "        x = F.relu(self.lin1(x))\n",
        "        x = F.relu(self.lin2(x))\n",
        "\n",
        "        return x\n",
        "\n",
        "class Subnet2(Subnet2Features):\n",
        "    def __init__(self):\n",
        "        super(Subnet2, self).__init__()\n",
        "        self.lin3 = nn.Linear(4096, 7)\n",
        "        self.history = History()\n",
        "\n",
        "    def forward(self, x):\n",
        "        super(Subnet2, self).forward(x)\n",
        "        x = self.lin3(x)\n",
        "\n",
        "        return x"
      ],
      "execution_count": 20,
      "outputs": []
    },
    {
      "cell_type": "code",
      "metadata": {
        "id": "8Cso55AGdpN9"
      },
      "source": [
        "class Subnet3Features(nn.Module):\n",
        "    def __init__(self):\n",
        "        super(Subnet3Features, self).__init__()\n",
        "\n",
        "        self.conv1 = nn.Conv2d(in_channels=1, out_channels=64, kernel_size=3, padding=1)\n",
        "        self.conv2 = nn.Conv2d(64,128,3,padding=1)\n",
        "        self.conv2_2 = nn.Conv2d(128,128,3,padding=1)\n",
        "        self.conv3 = nn.Conv2d(128, 256, 3, padding=1)\n",
        "        self.conv3_2 = nn.Conv2d(256,256, 3, padding=1)\n",
        "\n",
        "        self.pool = nn.MaxPool2d(kernel_size=2,stride=2)\n",
        "\n",
        "        self.bn1 = nn.BatchNorm2d(num_features= 64)\n",
        "        self.bn2 = nn.BatchNorm2d(num_features= 128)\n",
        "        self.bn2_2 = nn.BatchNorm2d(num_features= 128)\n",
        "        self.bn3 = nn.BatchNorm2d(num_features= 256)\n",
        "        self.bn3_2 = nn.BatchNorm2d(num_features= 256)\n",
        "\n",
        "        self.lin1 = nn.Linear(256 * 6 * 6, 4096)\n",
        "        self.lin2 = nn.Linear(4096, 4096)\n",
        "        \n",
        "        self.history = History()\n",
        "        \n",
        "    def forward(self, x):\n",
        "\n",
        "        x = F.relu(self.bn1(self.conv1(x)))\n",
        "        x = self.pool(x)\n",
        "\n",
        "        x = F.relu(self.bn2(self.conv2(x)))\n",
        "        x = F.relu(self.bn2_2(self.conv2_2(x)))\n",
        "        x = self.pool(x)\n",
        "\n",
        "        x = F.relu(self.bn3(self.conv3(x)))\n",
        "        x = F.relu(self.bn3_2(self.conv3_2(x)))\n",
        "        x = self.pool(x)\n",
        "\n",
        "        x = x.view(-1, 256*6*6)\n",
        "      \n",
        "        x = F.relu(self.lin1(x))\n",
        "        x = F.relu(self.lin2(x))\n",
        "        \n",
        "        return x\n",
        "\n",
        "class Subnet3(Subnet3Features):\n",
        "    def __init__(self):\n",
        "        super(Subnet3, self).__init__()\n",
        "        self.lin3 = nn.Linear(4096, 7)\n",
        "\n",
        "        self.history = History()\n",
        "        \n",
        "    def forward(self, x):\n",
        "        super(Subnet3, self).forward(x)       \n",
        "        x = self.lin3(x)\n",
        "\n",
        "        return x"
      ],
      "execution_count": 19,
      "outputs": []
    },
    {
      "cell_type": "markdown",
      "metadata": {
        "id": "x136zhp9eakh"
      },
      "source": [
        "### Ensemble"
      ]
    },
    {
      "cell_type": "code",
      "metadata": {
        "id": "bQfkdjzcecDV"
      },
      "source": [
        "class Ensemble(nn.Module):\n",
        "    def __init__(self, subnet1, subnet2, subnet3):\n",
        "        super(Ensemble, self).__init__()\n",
        "        self.sub1 = subnet1\n",
        "        self.sub2 = subnet2\n",
        "        self.sub3 = subnet3\n",
        "\n",
        "        self.final_lin = nn.Linear(4096*3, 7)\n",
        "\n",
        "        self.history = History()\n",
        "\n",
        "    def forward(self, x):\n",
        "        x_1 = self.sub1(x)\n",
        "        x_2 = self.sub2(x)\n",
        "        x_3 = self.sub3(x)\n",
        "\n",
        "        x_cat = torch.cat((x_1, x_2, x_3), dim=1)\n",
        "        x = self.final_lin(x_cat)\n",
        "\n",
        "        return x"
      ],
      "execution_count": 22,
      "outputs": []
    },
    {
      "cell_type": "markdown",
      "metadata": {
        "id": "0DdzO0F5fbIS"
      },
      "source": [
        "## Building Model"
      ]
    },
    {
      "cell_type": "code",
      "metadata": {
        "id": "vJQbzGB4ew-6",
        "outputId": "82f824fa-c945-46f8-f3dc-d8d8277ca985",
        "colab": {
          "base_uri": "https://localhost:8080/",
          "height": 34
        }
      },
      "source": [
        "from google.colab import drive\n",
        "drive.mount('/content/drive')"
      ],
      "execution_count": 13,
      "outputs": [
        {
          "output_type": "stream",
          "text": [
            "Mounted at /content/drive\n"
          ],
          "name": "stdout"
        }
      ]
    },
    {
      "cell_type": "code",
      "metadata": {
        "id": "TOhZrr-XfC9V"
      },
      "source": [
        "def load_layers(pretrained, model):\n",
        "    pretrained = pretrained.state_dict()\n",
        "    model_dict = model.state_dict()\n",
        "\n",
        "    pretrained = {k: v for k, v in pretrained.items() if k in model_dict}\n",
        "    \n",
        "    # Load layers\n",
        "    model_dict.update(pretrained) \n",
        "    model.load_state_dict(pretrained)\n",
        "\n",
        "    # Freeze layers\n",
        "    for name, param in model.named_parameters():\n",
        "        param.requires_grad = False"
      ],
      "execution_count": 25,
      "outputs": []
    },
    {
      "cell_type": "code",
      "metadata": {
        "id": "azN8kBmae8nW"
      },
      "source": [
        "pretrained_1 = Subnet1()\n",
        "pretrained_1.load_state_dict(torch.load('/content/drive/Shared drives/EC523 Project/CNN Ensemble/Tuned Subnets/sub1'))\n",
        "pretrained_1.eval()\n",
        "\n",
        "pretrained_2 = Subnet2()\n",
        "pretrained_2.load_state_dict(torch.load('/content/drive/Shared drives/EC523 Project/CNN Ensemble/Tuned Subnets/sub2'))\n",
        "pretrained_2.eval()\n",
        "\n",
        "pretrained_3 = Subnet3()\n",
        "pretrained_3.load_state_dict(torch.load('/content/drive/Shared drives/EC523 Project/CNN Ensemble/Tuned Subnets/sub3'))\n",
        "pretrained_3.eval()\n",
        "\n",
        "\n",
        "subnet1 = Subnet1Features()\n",
        "subnet2 = Subnet2Features()\n",
        "subnet3 = Subnet3Features()\n",
        "\n",
        "load_layers(pretrained_1, subnet1)\n",
        "load_layers(pretrained_2, subnet2)\n",
        "load_layers(pretrained_3, subnet3)"
      ],
      "execution_count": 33,
      "outputs": []
    },
    {
      "cell_type": "code",
      "metadata": {
        "id": "-07KNSNwen6M"
      },
      "source": [
        "ensemble = Ensemble(subnet1, subnet2, subnet3)\n",
        "ensemble = ensemble.to(device)"
      ],
      "execution_count": 42,
      "outputs": []
    },
    {
      "cell_type": "code",
      "metadata": {
        "id": "pamrX3y5kqGl"
      },
      "source": [
        "criterion = nn.CrossEntropyLoss()\n",
        "optimizer = optim.SGD(ensemble.parameters(), lr=0.001, momentum=0.9)"
      ],
      "execution_count": 43,
      "outputs": []
    },
    {
      "cell_type": "markdown",
      "metadata": {
        "id": "BC14jOrceOA1"
      },
      "source": [
        "## Training"
      ]
    },
    {
      "cell_type": "code",
      "metadata": {
        "id": "WZu63iPUCfXQ"
      },
      "source": [
        "def train_model(net, trainloader, valloader, n_epochs=20):\n",
        "\n",
        "    for epoch in range(n_epochs):\n",
        "        \n",
        "        net = net.train()\n",
        "        loss_tr, correct_count, n = 0.0, 0.0, 0.0\n",
        "        for i, data in enumerate(trainloader):\n",
        "            inputs, labels = data\n",
        "            inputs, labels = inputs.to(device), labels.to(device)\n",
        "            \n",
        "            # zero the parameter gradients\n",
        "            optimizer.zero_grad()\n",
        "            \n",
        "            # forward + backward + optimize\n",
        "            outputs = net(inputs)\n",
        "            loss = criterion(outputs, labels)\n",
        "            loss.backward()\n",
        "            optimizer.step()\n",
        "\n",
        "            # calculate performance metrics\n",
        "            loss_tr += loss.item()\n",
        "            \n",
        "            _, preds = torch.max(outputs.data, 1)\n",
        "            correct_count += (preds == labels).sum().item()\n",
        "            n += labels.size(0)\n",
        "            \n",
        "        # Save train and validation performance metrics \n",
        "        acc_tr = 100 * correct_count / n\n",
        "        loss_tr = loss_tr / n\n",
        "\n",
        "        acc_v, loss_v = test_model(net, valloader)\n",
        "\n",
        "        net.history.loss_train.append(loss_tr)\n",
        "        net.history.loss_val.append(loss_v)\n",
        "\n",
        "        net.history.acc_train.append(acc_tr)\n",
        "        net.history.acc_val.append(acc_v)\n",
        "        \n",
        "        print('Epoch %2d' % (epoch + 1), 'Train Accuracy: %2.2f %%' % (acc_tr), 'Val Accuracy: %2.2f %%' % (acc_v), sep='\\t\\t')"
      ],
      "execution_count": 36,
      "outputs": []
    },
    {
      "cell_type": "code",
      "metadata": {
        "id": "0SOdtZNPCvqV"
      },
      "source": [
        "def test_model(net, dataloader):\n",
        "    \n",
        "    net = net.eval()\n",
        "\n",
        "    loss, correct_count, n_sampels = 0.0, 0.0, 0.0\n",
        "    for data in dataloader:\n",
        "\n",
        "        inputs, labels = data\n",
        "        inputs, labels = inputs.to(device), labels.to(device)\n",
        "\n",
        "        outputs = net(inputs)\n",
        "\n",
        "        loss += criterion(outputs, labels).item()\n",
        "\n",
        "        _, preds = torch.max(outputs.data, 1)\n",
        "        correct_count += (preds == labels).sum().item()\n",
        "        n_sampels += labels.size(0)\n",
        "    \n",
        "    acc = 100 * correct_count / n_sampels\n",
        "    loss = loss / n_sampels\n",
        "    \n",
        "    return acc, loss"
      ],
      "execution_count": 37,
      "outputs": []
    },
    {
      "cell_type": "code",
      "metadata": {
        "id": "dbu7rptnXlOq"
      },
      "source": [
        "def plot_metrics(net):\n",
        "    plt.figure()\n",
        "    plt.plot(net.history.acc_train, 'g', label='Training Acc')\n",
        "    plt.plot(net.history.acc_val, 'b', label='Validation Acc')\n",
        "    plt.title('Accuracy')\n",
        "    plt.xlabel('Epoch')\n",
        "    plt.ylabel('Acc')\n",
        "    plt.legend()\n",
        "    plt.grid()\n",
        "    plt.show()\n",
        "\n",
        "    plt.figure()\n",
        "    plt.plot(net.history.loss_train, 'g', label='Training Loss')\n",
        "    plt.plot(net.history.loss_val, 'b', label='Validation Loss')\n",
        "    plt.title('Loss')\n",
        "    plt.xlabel('Epoch')\n",
        "    plt.ylabel('Loss')\n",
        "    plt.legend()\n",
        "    plt.grid()\n",
        "    plt.show()\n",
        "\n",
        "    print('Training Accuracy: %2.2f %%' % (max(net.history.acc_train)))\n",
        "    print('Validation Accuracy: %2.2f %%' % (max(net.history.acc_val)))\n",
        "    print()\n",
        "\n",
        "    acc, loss = test_model(net, testloader)    \n",
        "    print('Test Accuracy: %2.2f %%' % (acc))\n",
        "    print('Average Test Loss: %2.4f' % (loss))"
      ],
      "execution_count": 38,
      "outputs": []
    },
    {
      "cell_type": "code",
      "metadata": {
        "id": "TjfCt8W2k2MZ",
        "outputId": "f4a5fcb8-4868-4f91-e5a3-23687fd52296",
        "colab": {
          "base_uri": "https://localhost:8080/",
          "height": 170
        }
      },
      "source": [
        "train_model(ensemble, trainloader, valloader, n_epochs=9)"
      ],
      "execution_count": 46,
      "outputs": [
        {
          "output_type": "stream",
          "text": [
            "Epoch  1\t\tTrain Accuracy: 96.17 %\t\tVal Accuracy: 70.63 %\n",
            "Epoch  2\t\tTrain Accuracy: 97.38 %\t\tVal Accuracy: 70.88 %\n",
            "Epoch  3\t\tTrain Accuracy: 98.00 %\t\tVal Accuracy: 70.74 %\n",
            "Epoch  4\t\tTrain Accuracy: 98.18 %\t\tVal Accuracy: 70.72 %\n",
            "Epoch  5\t\tTrain Accuracy: 98.31 %\t\tVal Accuracy: 70.77 %\n",
            "Epoch  6\t\tTrain Accuracy: 98.46 %\t\tVal Accuracy: 70.58 %\n",
            "Epoch  7\t\tTrain Accuracy: 98.45 %\t\tVal Accuracy: 70.47 %\n",
            "Epoch  8\t\tTrain Accuracy: 98.58 %\t\tVal Accuracy: 70.47 %\n",
            "Epoch  9\t\tTrain Accuracy: 98.58 %\t\tVal Accuracy: 70.52 %\n"
          ],
          "name": "stdout"
        }
      ]
    },
    {
      "cell_type": "markdown",
      "metadata": {
        "id": "9XOAEicmnoju"
      },
      "source": [
        "## Evaluation"
      ]
    },
    {
      "cell_type": "code",
      "metadata": {
        "id": "eu5REnKaa8Ug",
        "outputId": "f9f458fc-8f2a-4bce-e72f-824529033300",
        "colab": {
          "base_uri": "https://localhost:8080/",
          "height": 675
        }
      },
      "source": [
        "print(\"Ensemble\")\n",
        "plot_metrics(ensemble)"
      ],
      "execution_count": 47,
      "outputs": [
        {
          "output_type": "stream",
          "text": [
            "Ensemble\n"
          ],
          "name": "stdout"
        },
        {
          "output_type": "display_data",
          "data": {
            "image/png": "[encoded data removed]",
            "text/plain": [
              "<Figure size 432x288 with 1 Axes>"
            ]
          },
          "metadata": {
            "tags": [],
            "needs_background": "light"
          }
        },
        {
          "output_type": "display_data",
          "data": {
            "image/png": "[encoded data removed]",
            "text/plain": [
              "<Figure size 432x288 with 1 Axes>"
            ]
          },
          "metadata": {
            "tags": [],
            "needs_background": "light"
          }
        },
        {
          "output_type": "stream",
          "text": [
            "Training Accuracy: 98.58 %\n",
            "Validation Accuracy: 70.88 %\n",
            "\n",
            "Test Accuracy: 69.21 %\n",
            "Average Test Loss: 0.0116\n"
          ],
          "name": "stdout"
        }
      ]
    },
    {
      "cell_type": "markdown",
      "metadata": {
        "id": "x-8w_YNmn3Ws"
      },
      "source": [
        "##Save Model"
      ]
    },
    {
      "cell_type": "code",
      "metadata": {
        "id": "bIypvUY5Qr-o"
      },
      "source": [
        "path = 'ensemble'\n",
        "torch.save(ensemble.state_dict(), path)"
      ],
      "execution_count": null,
      "outputs": []
    }
  ]
}