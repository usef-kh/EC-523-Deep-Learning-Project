{
  "nbformat": 4,
  "nbformat_minor": 0,
  "metadata": {
    "colab": {
      "name": "Untitled",
      "provenance": [],
      "collapsed_sections": [],
      "include_colab_link": true
    },
    "kernelspec": {
      "name": "python3",
      "display_name": "Python 3"
    },
    "accelerator": "GPU"
  },
  "cells": [
    {
      "cell_type": "markdown",
      "metadata": {
        "id": "view-in-github",
        "colab_type": "text"
      },
      "source": [
        "<a href=\"https://colab.research.google.com/github/usef-kh/EC523-Deep-Learning-Project/blob/master/subnet1_with_random_augmentation.ipynb\" target=\"_parent\"><img src=\"https://colab.research.google.com/assets/colab-badge.svg\" alt=\"Open In Colab\"/></a>"
      ]
    },
    {
      "cell_type": "markdown",
      "metadata": {
        "id": "lnO2nvqpALPj"
      },
      "source": [
        "## Setup"
      ]
    },
    {
      "cell_type": "code",
      "metadata": {
        "id": "9cWGQl78U9wy",
        "outputId": "6b4e38db-e469-4ba1-ed62-fde8bc4baf3d",
        "colab": {
          "base_uri": "https://localhost:8080/",
          "height": 119
        }
      },
      "source": [
        "!git clone \"https://github.com/usef-kh/EC523-Deep-Learning-Project.git\""
      ],
      "execution_count": 1,
      "outputs": [
        {
          "output_type": "stream",
          "text": [
            "Cloning into 'EC523-Deep-Learning-Project'...\n",
            "remote: Enumerating objects: 22, done.\u001b[K\n",
            "remote: Counting objects: 100% (22/22), done.\u001b[K\n",
            "remote: Compressing objects: 100% (21/21), done.\u001b[K\n",
            "remote: Total 62 (delta 7), reused 6 (delta 1), pack-reused 40\u001b[K\n",
            "Unpacking objects: 100% (62/62), done.\n"
          ],
          "name": "stdout"
        }
      ]
    },
    {
      "cell_type": "code",
      "metadata": {
        "id": "HgKnn2ux6Pgp",
        "outputId": "e0a78084-ebfc-484d-9044-2e06bed34ecf",
        "colab": {
          "base_uri": "https://localhost:8080/",
          "height": 105
        }
      },
      "source": [
        "!pip install unrar"
      ],
      "execution_count": 2,
      "outputs": [
        {
          "output_type": "stream",
          "text": [
            "Collecting unrar\n",
            "  Downloading https://files.pythonhosted.org/packages/bb/0b/53130ccd483e3db8c8a460cb579bdb21b458d5494d67a261e1a5b273fbb9/unrar-0.4-py3-none-any.whl\n",
            "Installing collected packages: unrar\n",
            "Successfully installed unrar-0.4\n"
          ],
          "name": "stdout"
        }
      ]
    },
    {
      "cell_type": "code",
      "metadata": {
        "id": "mtrv6tM-Xq2n",
        "outputId": "2040e018-4381-4c44-b894-d175000d79b0",
        "colab": {
          "base_uri": "https://localhost:8080/",
          "height": 153
        }
      },
      "source": [
        "# !unrar x \"EC523-Deep-Learning-Project/datasets/ckplus.rar\"\n",
        "!unrar e \"EC523-Deep-Learning-Project/datasets/fer2013.rar\""
      ],
      "execution_count": 3,
      "outputs": [
        {
          "output_type": "stream",
          "text": [
            "\n",
            "UNRAR 5.50 freeware      Copyright (c) 1993-2017 Alexander Roshal\n",
            "\n",
            "\n",
            "Extracting from EC523-Deep-Learning-Project/datasets/fer2013.rar\n",
            "\n",
            "Extracting  fer2013.csv                                                  \b\b\b\b  4%\b\b\b\b  9%\b\b\b\b 13%\b\b\b\b 18%\b\b\b\b 23%\b\b\b\b 27%\b\b\b\b 32%\b\b\b\b 37%\b\b\b\b 41%\b\b\b\b 46%\b\b\b\b 51%\b\b\b\b 55%\b\b\b\b 60%\b\b\b\b 65%\b\b\b\b 69%\b\b\b\b 74%\b\b\b\b 79%\b\b\b\b 83%\b\b\b\b 88%\b\b\b\b 93%\b\b\b\b 97%\b\b\b\b 99%\b\b\b\b\b  OK \n",
            "All OK\n"
          ],
          "name": "stdout"
        }
      ]
    },
    {
      "cell_type": "markdown",
      "metadata": {
        "id": "rN_6jQNFAH8t"
      },
      "source": [
        "##Imports"
      ]
    },
    {
      "cell_type": "code",
      "metadata": {
        "id": "kQ-kmOyAAHLn"
      },
      "source": [
        "import pandas as pd\n",
        "import numpy as np\n",
        "\n",
        "import torch\n",
        "import torch.nn as nn\n",
        "import torch.nn.functional as F\n",
        "import torchvision\n",
        "import torchvision.transforms as transforms\n",
        "from torch import optim\n",
        "from torch.utils.data import Dataset, DataLoader\n",
        "from PIL import Image\n",
        "\n",
        "import matplotlib.pyplot as plt\n",
        "\n",
        "device = torch.device(\"cuda:0\" if torch.cuda.is_available() else \"cpu\")"
      ],
      "execution_count": 4,
      "outputs": []
    },
    {
      "cell_type": "markdown",
      "metadata": {
        "id": "KBi_q71MAOLY"
      },
      "source": [
        "##Load Dataset"
      ]
    },
    {
      "cell_type": "code",
      "metadata": {
        "id": "LflyoA8EXNXS"
      },
      "source": [
        "fer2013 = pd.read_csv('fer2013.csv') \n",
        "emotions = {0: 'Angry', 1: 'Disgust', 2: 'Fear', 3: 'Happy', 4: 'Sad', 5: 'Surprise', 6: 'Neutral'}\n",
        "fer2013.head()\n",
        "\n",
        "transform = transforms.Normalize(mean=129.4456, std = 1)\n",
        "\n",
        "def prepare_data(data):\n",
        "    \"\"\" Prepare data for modeling \n",
        "        input: data frame with labels und pixel data\n",
        "        output: image and label array \"\"\"\n",
        "    \n",
        "    image_array = np.zeros(shape=(len(data), 48, 48))\n",
        "    image_label = np.array(list(map(int, data['emotion'])))\n",
        "    \n",
        "    for i, row in enumerate(data.index):\n",
        "        image = np.fromstring(data.loc[row, 'pixels'], dtype=int, sep=' ')\n",
        "        image = np.reshape(image, (48, 48))\n",
        "        image_array[i] = image\n",
        "        \n",
        "    return image_array, image_label\n",
        "\n",
        "xtrain, ytrain = prepare_data(fer2013[fer2013['Usage'] == 'Training'])\n",
        "xval , yval = prepare_data(fer2013[fer2013['Usage'] == 'PrivateTest'])\n",
        "xtest, ytest = prepare_data(fer2013[fer2013['Usage'] == 'PublicTest'])"
      ],
      "execution_count": 5,
      "outputs": []
    },
    {
      "cell_type": "code",
      "metadata": {
        "id": "KewwltZObFw7"
      },
      "source": [
        "class Fer2013(Dataset):\n",
        "    def __init__(self, images, labels, transform=None):\n",
        "        self.images = images\n",
        "        self.labels = labels\n",
        "        self.transform = transform        \n",
        "        # self.emotions = {0: 'Angry', 1: 'Disgust', 2: 'Fear', 3: 'Happy', 4: 'Sad', 5: 'Surprise', 6: 'Neutral'}\n",
        "    \n",
        "    def __len__(self):\n",
        "        return len(self.images)\n",
        "\n",
        "    def __getitem__(self, idx):\n",
        "        if torch.is_tensor(idx):\n",
        "            idx = idx.tolist()\n",
        "\n",
        "        img = Image.fromarray(self.images[idx])\n",
        "        \n",
        "        if self.transform:\n",
        "            img = self.transform(img)\n",
        "\n",
        "        label = torch.tensor(self.labels[idx]).type(torch.long)\n",
        "        sample = (img, label)\n",
        "        \n",
        "        return sample\n",
        "\n",
        "train_transform = transforms.Compose([\n",
        "                    transforms.RandomHorizontalFlip(),\n",
        "                    transforms.RandomRotation(10),\n",
        "                    transforms.ToTensor(),\n",
        "                    transforms.Normalize(mean=129.4456, std = 255)\n",
        "                    ]) \n",
        "\n",
        "test_transform = transforms.Compose([\n",
        "                    transforms.ToTensor(),\n",
        "                    transforms.Normalize(mean=129.4456, std = 255)\n",
        "                    ])\n",
        "\n",
        "train = Fer2013(xtrain, ytrain, train_transform)\n",
        "val = Fer2013(xval, yval, test_transform)\n",
        "test = Fer2013(xtest, ytest, test_transform)"
      ],
      "execution_count": 6,
      "outputs": []
    },
    {
      "cell_type": "code",
      "metadata": {
        "id": "4CNfljyWXpD6",
        "outputId": "8f0dfd27-ed34-4719-9e88-7368bf6b0adc",
        "colab": {
          "base_uri": "https://localhost:8080/",
          "height": 1000
        }
      },
      "source": [
        "def imshow(img):\n",
        "    npimg = img.numpy()\n",
        "    plt.imshow(npimg, cmap='gray')\n",
        "    \n",
        "for i in range(10):\n",
        "    img, label = train[i]\n",
        "    plt.figure()\n",
        "    imshow(img.squeeze(0))\n",
        "    plt.show()"
      ],
      "execution_count": 7,
      "outputs": [
        {
          "output_type": "stream",
          "text": [
            "/usr/local/lib/python3.6/dist-packages/torchvision/transforms/functional.py:74: UserWarning: The given NumPy array is not writeable, and PyTorch does not support non-writeable tensors. This means you can write to the underlying (supposedly non-writeable) NumPy array using the tensor. You may want to copy the array to protect its data or make it writeable before converting it to a tensor. This type of warning will be suppressed for the rest of this program. (Triggered internally at  /pytorch/torch/csrc/utils/tensor_numpy.cpp:141.)\n",
            "  img = torch.from_numpy(np.array(pic, np.float32, copy=False))\n"
          ],
          "name": "stderr"
        },
        {
          "output_type": "display_data",
          "data": {
            "image/png": "[encoded data removed]",
            "text/plain": [
              "<Figure size 432x288 with 1 Axes>"
            ]
          },
          "metadata": {
            "tags": [],
            "needs_background": "light"
          }
        },
        {
          "output_type": "display_data",
          "data": {
            "image/png": "[encoded data removed]",
            "text/plain": [
              "<Figure size 432x288 with 1 Axes>"
            ]
          },
          "metadata": {
            "tags": [],
            "needs_background": "light"
          }
        },
        {
          "output_type": "display_data",
          "data": {
            "image/png": "[encoded data removed]",
            "text/plain": [
              "<Figure size 432x288 with 1 Axes>"
            ]
          },
          "metadata": {
            "tags": [],
            "needs_background": "light"
          }
        },
        {
          "output_type": "display_data",
          "data": {
            "image/png": "[encoded data removed]",
            "text/plain": [
              "<Figure size 432x288 with 1 Axes>"
            ]
          },
          "metadata": {
            "tags": [],
            "needs_background": "light"
          }
        },
        {
          "output_type": "display_data",
          "data": {
            "image/png": "[encoded data removed]",
            "text/plain": [
              "<Figure size 432x288 with 1 Axes>"
            ]
          },
          "metadata": {
            "tags": [],
            "needs_background": "light"
          }
        },
        {
          "output_type": "display_data",
          "data": {
            "image/png": "[encoded data removed]",
            "text/plain": [
              "<Figure size 432x288 with 1 Axes>"
            ]
          },
          "metadata": {
            "tags": [],
            "needs_background": "light"
          }
        },
        {
          "output_type": "display_data",
          "data": {
            "image/png": "[encoded data removed]",
            "text/plain": [
              "<Figure size 432x288 with 1 Axes>"
            ]
          },
          "metadata": {
            "tags": [],
            "needs_background": "light"
          }
        },
        {
          "output_type": "display_data",
          "data": {
            "image/png": "[encoded data removed]",
            "text/plain": [
              "<Figure size 432x288 with 1 Axes>"
            ]
          },
          "metadata": {
            "tags": [],
            "needs_background": "light"
          }
        },
        {
          "output_type": "display_data",
          "data": {
            "image/png": "[encoded data removed]",
            "text/plain": [
              "<Figure size 432x288 with 1 Axes>"
            ]
          },
          "metadata": {
            "tags": [],
            "needs_background": "light"
          }
        },
        {
          "output_type": "display_data",
          "data": {
            "image/png": "[encoded data removed]",
            "text/plain": [
              "<Figure size 432x288 with 1 Axes>"
            ]
          },
          "metadata": {
            "tags": [],
            "needs_background": "light"
          }
        }
      ]
    },
    {
      "cell_type": "code",
      "metadata": {
        "id": "mgoZGn-yaw3k"
      },
      "source": [
        "trainloader = torch.utils.data.DataLoader(train, batch_size=100, shuffle=True, num_workers=2)\n",
        "valloader = torch.utils.data.DataLoader(val, batch_size=100, shuffle=True, num_workers=2)\n",
        "testloader = torch.utils.data.DataLoader(test, batch_size=100, shuffle=True, num_workers=2)"
      ],
      "execution_count": 8,
      "outputs": []
    },
    {
      "cell_type": "code",
      "metadata": {
        "id": "uay8jj5yLmZI",
        "outputId": "212fef12-308d-40ba-cf8a-c47891b7e921",
        "colab": {
          "base_uri": "https://localhost:8080/",
          "height": 51
        }
      },
      "source": [
        "dataiter = iter(trainloader)\n",
        "images, labels = dataiter.next()\n",
        "\n",
        "print(\"Batch Images Shape:\", images.shape)\n",
        "print(\"Batch Labels Shape:\", labels.shape)"
      ],
      "execution_count": 9,
      "outputs": [
        {
          "output_type": "stream",
          "text": [
            "Batch Images Shape: torch.Size([100, 1, 48, 48])\n",
            "Batch Labels Shape: torch.Size([100])\n"
          ],
          "name": "stdout"
        }
      ]
    },
    {
      "cell_type": "markdown",
      "metadata": {
        "id": "MIEFhmKoCyZ1"
      },
      "source": [
        "##Model"
      ]
    },
    {
      "cell_type": "code",
      "metadata": {
        "id": "gV0nfy_5CzwG"
      },
      "source": [
        "class Subnet1(nn.Module):\n",
        "    def __init__(self):\n",
        "        super(Subnet1, self).__init__()\n",
        "        # Not sure about number of in channels, may have to change!\n",
        "        self.conv1 = nn.Conv2d(in_channels=1, out_channels=64, kernel_size=3, padding=1) # according to paper!\n",
        "        self.pool = nn.MaxPool2d(kernel_size=2,stride=2)\n",
        "        self.conv2 = nn.Conv2d(64,128,3,padding=1)\n",
        "        self.conv3 = nn.Conv2d(128, 256, 3, padding=1)\n",
        "\n",
        "        self.lin1 = nn.Linear(256*6*6, 4096) # Will have to change input size\n",
        "        self.lin2 = nn.Linear(4096, 4096)\n",
        "        self.lin3 = nn.Linear(4096, 7)\n",
        "        \n",
        "        #self.drop = nn.Dropout(0.2)\n",
        "\n",
        "    def forward(self, x):\n",
        "        x = F.relu(self.conv1(x))\n",
        "        #print(\"shape after 1 conv layer: \", x.shape)\n",
        "        x = self.pool(x)\n",
        "\n",
        "        x = F.relu(self.conv2(x))\n",
        "        #print(\"shape after 2 conv layer: \", x.shape)\n",
        "        x = self.pool(x)\n",
        "\n",
        "        x = F.relu(self.conv3(x))\n",
        "        #print(\"shape after 3 conv layer: \", x.shape)\n",
        "        x = self.pool(x)\n",
        "\n",
        "        # print(\"shape before linear layers!!: \", x.shape)\n",
        "\n",
        "        x = x.view(-1, 256*6*6) # will have to change!\n",
        "        # print(\"reshaped\", x.shape)\n",
        "        x = F.relu(self.lin1(x))\n",
        "        x = F.relu(self.lin2(x))\n",
        "        x = self.lin3(x)\n",
        "\n",
        "        return x"
      ],
      "execution_count": 10,
      "outputs": []
    },
    {
      "cell_type": "markdown",
      "metadata": {
        "id": "BCuMQu5bF5nE"
      },
      "source": [
        "##Training"
      ]
    },
    {
      "cell_type": "code",
      "metadata": {
        "id": "wME97MptDeex"
      },
      "source": [
        "net = Subnet1()\n",
        "net = net.to(device)"
      ],
      "execution_count": 11,
      "outputs": []
    },
    {
      "cell_type": "code",
      "metadata": {
        "id": "3asDIi_yDQLW"
      },
      "source": [
        "def train_model(net, trainloader, valloader, n_epochs=20):\n",
        "\n",
        "    train_loss = []\n",
        "    val_loss = []\n",
        "    num = 10\n",
        "    for epoch in range(n_epochs):\n",
        "        print(\"Training\")\n",
        "        net = net.train()\n",
        "        running_loss = 0.0\n",
        "        for i, data in enumerate(trainloader):\n",
        "            inputs, labels = data\n",
        "            inputs, labels = inputs.to(device), labels.to(device)\n",
        "            \n",
        "            # zero the parameter gradients\n",
        "            optimizer.zero_grad()\n",
        "            \n",
        "            # forward + backward + optimize\n",
        "            outputs = net(inputs)\n",
        "            loss = criterion(outputs, labels)\n",
        "            loss.backward()\n",
        "            optimizer.step()\n",
        "            \n",
        "            # print statistics\n",
        "            running_loss += loss.item()\n",
        "            if i % num == num - 1 :    \n",
        "                print('[%d, %5d] loss: %.3f' %(epoch + 1, i + 1, running_loss / num))\n",
        "                train_loss.append(running_loss / num)\n",
        "                running_loss = 0.0\n",
        "        \n",
        "        print(\"Validating\")\n",
        "        net = net.eval()\n",
        "        running_loss = 0.0\n",
        "        for i, data in enumerate(valloader):\n",
        "            inputs, labels = data\n",
        "            inputs, labels = inputs.to(device), labels.to(device)\n",
        "\n",
        "            outputs = net(inputs)\n",
        "            loss = criterion(outputs, labels)\n",
        "\n",
        "            # print statistics\n",
        "            running_loss += loss.item()\n",
        "            if i % num == num - 1:    \n",
        "                print('[%d, %5d] loss: %.3f' %(epoch + 1, i + 1, running_loss / num))\n",
        "                val_loss.append(running_loss / num)\n",
        "                running_loss = 0.0\n",
        "\n",
        "    return train_loss, val_loss"
      ],
      "execution_count": 12,
      "outputs": []
    },
    {
      "cell_type": "code",
      "metadata": {
        "id": "Xl64GIKACQr2"
      },
      "source": [
        "def test_model(net, dataloader):\n",
        "    \n",
        "    net = net.eval()\n",
        "\n",
        "    correct_count, n_sampels = 0.0, 0.0\n",
        "    for data in dataloader:\n",
        "        # seperate data to X, y and more info to GPU\n",
        "        inputs, labels = data\n",
        "        inputs, labels = inputs.to(device), labels.to(device)\n",
        "\n",
        "        outputs = net(inputs)\n",
        "        _, preds = torch.max(outputs.data, 1)\n",
        "        correct_count += (preds == labels).sum().item()\n",
        "        n_sampels += labels.size(0)\n",
        "    \n",
        "    acc = 100 * correct_count / n_sampels\n",
        "    \n",
        "    return acc"
      ],
      "execution_count": 13,
      "outputs": []
    },
    {
      "cell_type": "code",
      "metadata": {
        "id": "9npmfIq5FgZ1",
        "outputId": "eb625cc0-f8ec-4ad9-d2cc-206e6160fdfd",
        "colab": {
          "base_uri": "https://localhost:8080/",
          "height": 1000
        }
      },
      "source": [
        "criterion = nn.CrossEntropyLoss()\n",
        "optimizer = optim.SGD(net.parameters(), lr=0.01, momentum=0.9)\n",
        "\n",
        "train_loss, val_loss = train_model(net, trainloader, valloader, n_epochs=20)"
      ],
      "execution_count": 14,
      "outputs": [
        {
          "output_type": "stream",
          "text": [
            "Training\n",
            "[1,    10] loss: 1.940\n",
            "[1,    20] loss: 1.904\n",
            "[1,    30] loss: 1.866\n",
            "[1,    40] loss: 1.823\n",
            "[1,    50] loss: 1.823\n",
            "[1,    60] loss: 1.790\n",
            "[1,    70] loss: 1.801\n",
            "[1,    80] loss: 1.812\n",
            "[1,    90] loss: 1.826\n",
            "[1,   100] loss: 1.818\n",
            "[1,   110] loss: 1.799\n",
            "[1,   120] loss: 1.831\n",
            "[1,   130] loss: 1.792\n",
            "[1,   140] loss: 1.793\n",
            "[1,   150] loss: 1.778\n",
            "[1,   160] loss: 1.818\n",
            "[1,   170] loss: 1.791\n",
            "[1,   180] loss: 1.801\n",
            "[1,   190] loss: 1.787\n",
            "[1,   200] loss: 1.761\n",
            "[1,   210] loss: 1.811\n",
            "[1,   220] loss: 1.782\n",
            "[1,   230] loss: 1.780\n",
            "[1,   240] loss: 1.738\n",
            "[1,   250] loss: 1.740\n",
            "[1,   260] loss: 1.769\n",
            "[1,   270] loss: 1.743\n",
            "[1,   280] loss: 1.749\n",
            "Validating\n",
            "[1,    10] loss: 1.718\n",
            "[1,    20] loss: 1.747\n",
            "[1,    30] loss: 1.775\n",
            "Training\n",
            "[2,    10] loss: 1.742\n",
            "[2,    20] loss: 1.726\n",
            "[2,    30] loss: 1.749\n",
            "[2,    40] loss: 1.733\n",
            "[2,    50] loss: 1.718\n",
            "[2,    60] loss: 1.714\n",
            "[2,    70] loss: 1.759\n",
            "[2,    80] loss: 1.744\n",
            "[2,    90] loss: 1.746\n",
            "[2,   100] loss: 1.724\n",
            "[2,   110] loss: 1.723\n",
            "[2,   120] loss: 1.727\n",
            "[2,   130] loss: 1.737\n",
            "[2,   140] loss: 1.678\n",
            "[2,   150] loss: 1.696\n",
            "[2,   160] loss: 1.720\n",
            "[2,   170] loss: 1.694\n",
            "[2,   180] loss: 1.663\n",
            "[2,   190] loss: 1.680\n",
            "[2,   200] loss: 1.708\n",
            "[2,   210] loss: 1.662\n",
            "[2,   220] loss: 1.696\n",
            "[2,   230] loss: 1.664\n",
            "[2,   240] loss: 1.652\n",
            "[2,   250] loss: 1.691\n",
            "[2,   260] loss: 1.634\n",
            "[2,   270] loss: 1.624\n",
            "[2,   280] loss: 1.683\n",
            "Validating\n",
            "[2,    10] loss: 1.688\n",
            "[2,    20] loss: 1.682\n",
            "[2,    30] loss: 1.693\n",
            "Training\n",
            "[3,    10] loss: 1.661\n",
            "[3,    20] loss: 1.667\n",
            "[3,    30] loss: 1.676\n",
            "[3,    40] loss: 1.618\n",
            "[3,    50] loss: 1.644\n",
            "[3,    60] loss: 1.659\n",
            "[3,    70] loss: 1.597\n",
            "[3,    80] loss: 1.645\n",
            "[3,    90] loss: 1.631\n",
            "[3,   100] loss: 1.657\n",
            "[3,   110] loss: 1.656\n",
            "[3,   120] loss: 1.643\n",
            "[3,   130] loss: 1.622\n",
            "[3,   140] loss: 1.601\n",
            "[3,   150] loss: 1.602\n",
            "[3,   160] loss: 1.638\n",
            "[3,   170] loss: 1.617\n",
            "[3,   180] loss: 1.591\n",
            "[3,   190] loss: 1.623\n",
            "[3,   200] loss: 1.641\n",
            "[3,   210] loss: 1.571\n",
            "[3,   220] loss: 1.588\n",
            "[3,   230] loss: 1.569\n",
            "[3,   240] loss: 1.544\n",
            "[3,   250] loss: 1.586\n",
            "[3,   260] loss: 1.617\n",
            "[3,   270] loss: 1.616\n",
            "[3,   280] loss: 1.638\n",
            "Validating\n",
            "[3,    10] loss: 1.598\n",
            "[3,    20] loss: 1.593\n",
            "[3,    30] loss: 1.525\n",
            "Training\n",
            "[4,    10] loss: 1.571\n",
            "[4,    20] loss: 1.603\n",
            "[4,    30] loss: 1.572\n",
            "[4,    40] loss: 1.567\n",
            "[4,    50] loss: 1.556\n",
            "[4,    60] loss: 1.583\n",
            "[4,    70] loss: 1.581\n",
            "[4,    80] loss: 1.597\n",
            "[4,    90] loss: 1.532\n",
            "[4,   100] loss: 1.531\n",
            "[4,   110] loss: 1.554\n",
            "[4,   120] loss: 1.538\n",
            "[4,   130] loss: 1.582\n",
            "[4,   140] loss: 1.561\n",
            "[4,   150] loss: 1.556\n",
            "[4,   160] loss: 1.540\n",
            "[4,   170] loss: 1.570\n",
            "[4,   180] loss: 1.499\n",
            "[4,   190] loss: 1.509\n",
            "[4,   200] loss: 1.514\n",
            "[4,   210] loss: 1.583\n",
            "[4,   220] loss: 1.523\n",
            "[4,   230] loss: 1.570\n",
            "[4,   240] loss: 1.504\n",
            "[4,   250] loss: 1.476\n",
            "[4,   260] loss: 1.519\n",
            "[4,   270] loss: 1.526\n",
            "[4,   280] loss: 1.492\n",
            "Validating\n",
            "[4,    10] loss: 1.541\n",
            "[4,    20] loss: 1.467\n",
            "[4,    30] loss: 1.534\n",
            "Training\n",
            "[5,    10] loss: 1.535\n",
            "[5,    20] loss: 1.543\n",
            "[5,    30] loss: 1.479\n",
            "[5,    40] loss: 1.444\n",
            "[5,    50] loss: 1.524\n",
            "[5,    60] loss: 1.484\n",
            "[5,    70] loss: 1.529\n",
            "[5,    80] loss: 1.513\n",
            "[5,    90] loss: 1.524\n",
            "[5,   100] loss: 1.455\n",
            "[5,   110] loss: 1.524\n",
            "[5,   120] loss: 1.477\n",
            "[5,   130] loss: 1.449\n",
            "[5,   140] loss: 1.484\n",
            "[5,   150] loss: 1.482\n",
            "[5,   160] loss: 1.545\n",
            "[5,   170] loss: 1.479\n",
            "[5,   180] loss: 1.424\n",
            "[5,   190] loss: 1.520\n",
            "[5,   200] loss: 1.496\n",
            "[5,   210] loss: 1.481\n",
            "[5,   220] loss: 1.460\n",
            "[5,   230] loss: 1.489\n",
            "[5,   240] loss: 1.467\n",
            "[5,   250] loss: 1.450\n",
            "[5,   260] loss: 1.410\n",
            "[5,   270] loss: 1.412\n",
            "[5,   280] loss: 1.495\n",
            "Validating\n",
            "[5,    10] loss: 1.500\n",
            "[5,    20] loss: 1.456\n",
            "[5,    30] loss: 1.483\n",
            "Training\n",
            "[6,    10] loss: 1.474\n",
            "[6,    20] loss: 1.435\n",
            "[6,    30] loss: 1.449\n",
            "[6,    40] loss: 1.388\n",
            "[6,    50] loss: 1.439\n",
            "[6,    60] loss: 1.464\n",
            "[6,    70] loss: 1.443\n",
            "[6,    80] loss: 1.407\n",
            "[6,    90] loss: 1.411\n",
            "[6,   100] loss: 1.430\n",
            "[6,   110] loss: 1.387\n",
            "[6,   120] loss: 1.480\n",
            "[6,   130] loss: 1.459\n",
            "[6,   140] loss: 1.448\n",
            "[6,   150] loss: 1.414\n",
            "[6,   160] loss: 1.425\n",
            "[6,   170] loss: 1.437\n",
            "[6,   180] loss: 1.389\n",
            "[6,   190] loss: 1.439\n",
            "[6,   200] loss: 1.357\n",
            "[6,   210] loss: 1.464\n",
            "[6,   220] loss: 1.335\n",
            "[6,   230] loss: 1.404\n",
            "[6,   240] loss: 1.432\n",
            "[6,   250] loss: 1.377\n",
            "[6,   260] loss: 1.395\n",
            "[6,   270] loss: 1.415\n",
            "[6,   280] loss: 1.408\n",
            "Validating\n",
            "[6,    10] loss: 1.386\n",
            "[6,    20] loss: 1.385\n",
            "[6,    30] loss: 1.352\n",
            "Training\n",
            "[7,    10] loss: 1.353\n",
            "[7,    20] loss: 1.358\n",
            "[7,    30] loss: 1.361\n",
            "[7,    40] loss: 1.380\n",
            "[7,    50] loss: 1.358\n",
            "[7,    60] loss: 1.360\n",
            "[7,    70] loss: 1.385\n",
            "[7,    80] loss: 1.408\n",
            "[7,    90] loss: 1.371\n",
            "[7,   100] loss: 1.408\n",
            "[7,   110] loss: 1.360\n",
            "[7,   120] loss: 1.416\n",
            "[7,   130] loss: 1.348\n",
            "[7,   140] loss: 1.362\n",
            "[7,   150] loss: 1.390\n",
            "[7,   160] loss: 1.406\n",
            "[7,   170] loss: 1.357\n",
            "[7,   180] loss: 1.349\n",
            "[7,   190] loss: 1.361\n",
            "[7,   200] loss: 1.327\n",
            "[7,   210] loss: 1.369\n",
            "[7,   220] loss: 1.315\n",
            "[7,   230] loss: 1.334\n",
            "[7,   240] loss: 1.347\n",
            "[7,   250] loss: 1.376\n",
            "[7,   260] loss: 1.313\n",
            "[7,   270] loss: 1.334\n",
            "[7,   280] loss: 1.365\n",
            "Validating\n",
            "[7,    10] loss: 1.302\n",
            "[7,    20] loss: 1.362\n",
            "[7,    30] loss: 1.308\n",
            "Training\n",
            "[8,    10] loss: 1.373\n",
            "[8,    20] loss: 1.311\n",
            "[8,    30] loss: 1.299\n",
            "[8,    40] loss: 1.343\n",
            "[8,    50] loss: 1.348\n",
            "[8,    60] loss: 1.341\n",
            "[8,    70] loss: 1.301\n",
            "[8,    80] loss: 1.311\n",
            "[8,    90] loss: 1.323\n",
            "[8,   100] loss: 1.284\n",
            "[8,   110] loss: 1.317\n",
            "[8,   120] loss: 1.303\n",
            "[8,   130] loss: 1.346\n",
            "[8,   140] loss: 1.303\n",
            "[8,   150] loss: 1.336\n",
            "[8,   160] loss: 1.228\n",
            "[8,   170] loss: 1.339\n",
            "[8,   180] loss: 1.318\n",
            "[8,   190] loss: 1.285\n",
            "[8,   200] loss: 1.367\n",
            "[8,   210] loss: 1.269\n",
            "[8,   220] loss: 1.299\n",
            "[8,   230] loss: 1.278\n",
            "[8,   240] loss: 1.364\n",
            "[8,   250] loss: 1.267\n",
            "[8,   260] loss: 1.307\n",
            "[8,   270] loss: 1.333\n",
            "[8,   280] loss: 1.262\n",
            "Validating\n",
            "[8,    10] loss: 1.316\n",
            "[8,    20] loss: 1.308\n",
            "[8,    30] loss: 1.268\n",
            "Training\n",
            "[9,    10] loss: 1.263\n",
            "[9,    20] loss: 1.293\n",
            "[9,    30] loss: 1.287\n",
            "[9,    40] loss: 1.237\n",
            "[9,    50] loss: 1.250\n",
            "[9,    60] loss: 1.252\n",
            "[9,    70] loss: 1.214\n",
            "[9,    80] loss: 1.222\n",
            "[9,    90] loss: 1.322\n",
            "[9,   100] loss: 1.250\n",
            "[9,   110] loss: 1.243\n",
            "[9,   120] loss: 1.179\n",
            "[9,   130] loss: 1.232\n",
            "[9,   140] loss: 1.240\n",
            "[9,   150] loss: 1.270\n",
            "[9,   160] loss: 1.284\n",
            "[9,   170] loss: 1.271\n",
            "[9,   180] loss: 1.285\n",
            "[9,   190] loss: 1.260\n",
            "[9,   200] loss: 1.278\n",
            "[9,   210] loss: 1.294\n",
            "[9,   220] loss: 1.256\n",
            "[9,   230] loss: 1.263\n",
            "[9,   240] loss: 1.219\n",
            "[9,   250] loss: 1.214\n",
            "[9,   260] loss: 1.235\n",
            "[9,   270] loss: 1.227\n",
            "[9,   280] loss: 1.287\n",
            "Validating\n",
            "[9,    10] loss: 1.287\n",
            "[9,    20] loss: 1.267\n",
            "[9,    30] loss: 1.220\n",
            "Training\n",
            "[10,    10] loss: 1.266\n",
            "[10,    20] loss: 1.230\n",
            "[10,    30] loss: 1.238\n",
            "[10,    40] loss: 1.194\n",
            "[10,    50] loss: 1.170\n",
            "[10,    60] loss: 1.222\n",
            "[10,    70] loss: 1.296\n",
            "[10,    80] loss: 1.178\n",
            "[10,    90] loss: 1.273\n",
            "[10,   100] loss: 1.220\n",
            "[10,   110] loss: 1.218\n",
            "[10,   120] loss: 1.175\n",
            "[10,   130] loss: 1.189\n",
            "[10,   140] loss: 1.200\n",
            "[10,   150] loss: 1.199\n",
            "[10,   160] loss: 1.165\n",
            "[10,   170] loss: 1.176\n",
            "[10,   180] loss: 1.222\n",
            "[10,   190] loss: 1.240\n",
            "[10,   200] loss: 1.195\n",
            "[10,   210] loss: 1.277\n",
            "[10,   220] loss: 1.236\n",
            "[10,   230] loss: 1.184\n",
            "[10,   240] loss: 1.143\n",
            "[10,   250] loss: 1.176\n",
            "[10,   260] loss: 1.184\n",
            "[10,   270] loss: 1.198\n",
            "[10,   280] loss: 1.197\n",
            "Validating\n",
            "[10,    10] loss: 1.205\n",
            "[10,    20] loss: 1.224\n",
            "[10,    30] loss: 1.196\n",
            "Training\n",
            "[11,    10] loss: 1.175\n",
            "[11,    20] loss: 1.202\n",
            "[11,    30] loss: 1.197\n",
            "[11,    40] loss: 1.229\n",
            "[11,    50] loss: 1.219\n",
            "[11,    60] loss: 1.187\n",
            "[11,    70] loss: 1.102\n",
            "[11,    80] loss: 1.163\n",
            "[11,    90] loss: 1.095\n",
            "[11,   100] loss: 1.132\n",
            "[11,   110] loss: 1.202\n",
            "[11,   120] loss: 1.114\n",
            "[11,   130] loss: 1.126\n",
            "[11,   140] loss: 1.196\n",
            "[11,   150] loss: 1.158\n",
            "[11,   160] loss: 1.173\n",
            "[11,   170] loss: 1.111\n",
            "[11,   180] loss: 1.208\n",
            "[11,   190] loss: 1.176\n",
            "[11,   200] loss: 1.172\n",
            "[11,   210] loss: 1.207\n",
            "[11,   220] loss: 1.189\n",
            "[11,   230] loss: 1.190\n",
            "[11,   240] loss: 1.135\n",
            "[11,   250] loss: 1.140\n",
            "[11,   260] loss: 1.178\n",
            "[11,   270] loss: 1.159\n",
            "[11,   280] loss: 1.212\n",
            "Validating\n",
            "[11,    10] loss: 1.201\n",
            "[11,    20] loss: 1.178\n",
            "[11,    30] loss: 1.180\n",
            "Training\n",
            "[12,    10] loss: 1.158\n",
            "[12,    20] loss: 1.161\n",
            "[12,    30] loss: 1.130\n",
            "[12,    40] loss: 1.150\n",
            "[12,    50] loss: 1.129\n",
            "[12,    60] loss: 1.104\n",
            "[12,    70] loss: 1.141\n",
            "[12,    80] loss: 1.080\n",
            "[12,    90] loss: 1.145\n",
            "[12,   100] loss: 1.108\n",
            "[12,   110] loss: 1.104\n",
            "[12,   120] loss: 1.158\n",
            "[12,   130] loss: 1.127\n",
            "[12,   140] loss: 1.118\n",
            "[12,   150] loss: 1.091\n",
            "[12,   160] loss: 1.128\n",
            "[12,   170] loss: 1.183\n",
            "[12,   180] loss: 1.148\n",
            "[12,   190] loss: 1.152\n",
            "[12,   200] loss: 1.157\n",
            "[12,   210] loss: 1.094\n",
            "[12,   220] loss: 1.112\n",
            "[12,   230] loss: 1.107\n",
            "[12,   240] loss: 1.151\n",
            "[12,   250] loss: 1.115\n",
            "[12,   260] loss: 1.163\n",
            "[12,   270] loss: 1.113\n",
            "[12,   280] loss: 1.090\n",
            "Validating\n",
            "[12,    10] loss: 1.133\n",
            "[12,    20] loss: 1.103\n",
            "[12,    30] loss: 1.152\n",
            "Training\n",
            "[13,    10] loss: 1.086\n",
            "[13,    20] loss: 1.066\n",
            "[13,    30] loss: 1.085\n",
            "[13,    40] loss: 1.093\n",
            "[13,    50] loss: 1.115\n",
            "[13,    60] loss: 1.127\n",
            "[13,    70] loss: 1.117\n",
            "[13,    80] loss: 1.058\n",
            "[13,    90] loss: 1.115\n",
            "[13,   100] loss: 1.076\n",
            "[13,   110] loss: 1.055\n",
            "[13,   120] loss: 1.063\n",
            "[13,   130] loss: 1.093\n",
            "[13,   140] loss: 1.118\n",
            "[13,   150] loss: 1.040\n",
            "[13,   160] loss: 1.056\n",
            "[13,   170] loss: 1.119\n",
            "[13,   180] loss: 1.115\n",
            "[13,   190] loss: 1.115\n",
            "[13,   200] loss: 1.110\n",
            "[13,   210] loss: 1.066\n",
            "[13,   220] loss: 1.081\n",
            "[13,   230] loss: 1.097\n",
            "[13,   240] loss: 1.095\n",
            "[13,   250] loss: 1.078\n",
            "[13,   260] loss: 1.049\n",
            "[13,   270] loss: 1.062\n",
            "[13,   280] loss: 1.055\n",
            "Validating\n",
            "[13,    10] loss: 1.112\n",
            "[13,    20] loss: 1.100\n",
            "[13,    30] loss: 1.089\n",
            "Training\n",
            "[14,    10] loss: 1.046\n",
            "[14,    20] loss: 1.067\n",
            "[14,    30] loss: 1.072\n",
            "[14,    40] loss: 1.030\n",
            "[14,    50] loss: 1.099\n",
            "[14,    60] loss: 1.112\n",
            "[14,    70] loss: 1.005\n",
            "[14,    80] loss: 1.047\n",
            "[14,    90] loss: 1.002\n",
            "[14,   100] loss: 1.074\n",
            "[14,   110] loss: 1.092\n",
            "[14,   120] loss: 1.037\n",
            "[14,   130] loss: 1.077\n",
            "[14,   140] loss: 1.064\n",
            "[14,   150] loss: 1.017\n",
            "[14,   160] loss: 1.034\n",
            "[14,   170] loss: 1.037\n",
            "[14,   180] loss: 1.039\n",
            "[14,   190] loss: 1.075\n",
            "[14,   200] loss: 1.045\n",
            "[14,   210] loss: 1.035\n",
            "[14,   220] loss: 1.017\n",
            "[14,   230] loss: 0.993\n",
            "[14,   240] loss: 1.065\n",
            "[14,   250] loss: 1.087\n",
            "[14,   260] loss: 1.051\n",
            "[14,   270] loss: 0.986\n",
            "[14,   280] loss: 1.006\n",
            "Validating\n",
            "[14,    10] loss: 1.180\n",
            "[14,    20] loss: 1.087\n",
            "[14,    30] loss: 1.124\n",
            "Training\n",
            "[15,    10] loss: 1.056\n",
            "[15,    20] loss: 1.027\n",
            "[15,    30] loss: 1.015\n",
            "[15,    40] loss: 0.995\n",
            "[15,    50] loss: 0.979\n",
            "[15,    60] loss: 1.013\n",
            "[15,    70] loss: 0.974\n",
            "[15,    80] loss: 0.961\n",
            "[15,    90] loss: 0.976\n",
            "[15,   100] loss: 1.047\n",
            "[15,   110] loss: 1.000\n",
            "[15,   120] loss: 0.985\n",
            "[15,   130] loss: 0.995\n",
            "[15,   140] loss: 1.037\n",
            "[15,   150] loss: 1.029\n",
            "[15,   160] loss: 1.004\n",
            "[15,   170] loss: 1.063\n",
            "[15,   180] loss: 0.974\n",
            "[15,   190] loss: 1.013\n",
            "[15,   200] loss: 1.063\n",
            "[15,   210] loss: 0.994\n",
            "[15,   220] loss: 0.999\n",
            "[15,   230] loss: 1.086\n",
            "[15,   240] loss: 0.997\n",
            "[15,   250] loss: 0.988\n",
            "[15,   260] loss: 1.022\n",
            "[15,   270] loss: 1.005\n",
            "[15,   280] loss: 1.001\n",
            "Validating\n",
            "[15,    10] loss: 1.061\n",
            "[15,    20] loss: 1.091\n",
            "[15,    30] loss: 1.094\n",
            "Training\n",
            "[16,    10] loss: 0.964\n",
            "[16,    20] loss: 0.990\n",
            "[16,    30] loss: 0.971\n",
            "[16,    40] loss: 0.946\n",
            "[16,    50] loss: 0.972\n",
            "[16,    60] loss: 0.936\n",
            "[16,    70] loss: 0.984\n",
            "[16,    80] loss: 0.933\n",
            "[16,    90] loss: 1.035\n",
            "[16,   100] loss: 0.949\n",
            "[16,   110] loss: 0.947\n",
            "[16,   120] loss: 0.991\n",
            "[16,   130] loss: 0.994\n",
            "[16,   140] loss: 0.957\n",
            "[16,   150] loss: 0.923\n",
            "[16,   160] loss: 1.039\n",
            "[16,   170] loss: 0.997\n",
            "[16,   180] loss: 1.020\n",
            "[16,   190] loss: 1.048\n",
            "[16,   200] loss: 0.978\n",
            "[16,   210] loss: 0.978\n",
            "[16,   220] loss: 0.926\n",
            "[16,   230] loss: 0.991\n",
            "[16,   240] loss: 0.987\n",
            "[16,   250] loss: 0.949\n",
            "[16,   260] loss: 0.961\n",
            "[16,   270] loss: 0.919\n",
            "[16,   280] loss: 0.941\n",
            "Validating\n",
            "[16,    10] loss: 1.091\n",
            "[16,    20] loss: 1.097\n",
            "[16,    30] loss: 1.086\n",
            "Training\n",
            "[17,    10] loss: 0.958\n",
            "[17,    20] loss: 0.985\n",
            "[17,    30] loss: 0.984\n",
            "[17,    40] loss: 0.874\n",
            "[17,    50] loss: 0.932\n",
            "[17,    60] loss: 0.902\n",
            "[17,    70] loss: 0.963\n",
            "[17,    80] loss: 0.901\n",
            "[17,    90] loss: 0.901\n",
            "[17,   100] loss: 0.920\n",
            "[17,   110] loss: 0.931\n",
            "[17,   120] loss: 0.921\n",
            "[17,   130] loss: 0.918\n",
            "[17,   140] loss: 0.920\n",
            "[17,   150] loss: 0.902\n",
            "[17,   160] loss: 0.948\n",
            "[17,   170] loss: 0.915\n",
            "[17,   180] loss: 0.986\n",
            "[17,   190] loss: 0.887\n",
            "[17,   200] loss: 0.921\n",
            "[17,   210] loss: 0.909\n",
            "[17,   220] loss: 0.947\n",
            "[17,   230] loss: 0.942\n",
            "[17,   240] loss: 0.943\n",
            "[17,   250] loss: 0.935\n",
            "[17,   260] loss: 0.956\n",
            "[17,   270] loss: 0.896\n",
            "[17,   280] loss: 0.958\n",
            "Validating\n",
            "[17,    10] loss: 1.131\n",
            "[17,    20] loss: 1.134\n",
            "[17,    30] loss: 1.093\n",
            "Training\n",
            "[18,    10] loss: 0.941\n",
            "[18,    20] loss: 0.978\n",
            "[18,    30] loss: 0.936\n",
            "[18,    40] loss: 0.910\n",
            "[18,    50] loss: 0.871\n",
            "[18,    60] loss: 0.904\n",
            "[18,    70] loss: 0.856\n",
            "[18,    80] loss: 0.862\n",
            "[18,    90] loss: 0.868\n",
            "[18,   100] loss: 0.927\n",
            "[18,   110] loss: 0.871\n",
            "[18,   120] loss: 0.898\n",
            "[18,   130] loss: 0.901\n",
            "[18,   140] loss: 0.920\n",
            "[18,   150] loss: 0.918\n",
            "[18,   160] loss: 0.881\n",
            "[18,   170] loss: 0.906\n",
            "[18,   180] loss: 0.849\n",
            "[18,   190] loss: 0.854\n",
            "[18,   200] loss: 0.869\n",
            "[18,   210] loss: 0.913\n",
            "[18,   220] loss: 0.857\n",
            "[18,   230] loss: 0.851\n",
            "[18,   240] loss: 0.908\n",
            "[18,   250] loss: 0.915\n",
            "[18,   260] loss: 0.931\n",
            "[18,   270] loss: 0.921\n",
            "[18,   280] loss: 0.855\n",
            "Validating\n",
            "[18,    10] loss: 1.090\n",
            "[18,    20] loss: 1.084\n",
            "[18,    30] loss: 1.129\n",
            "Training\n",
            "[19,    10] loss: 0.823\n",
            "[19,    20] loss: 0.788\n",
            "[19,    30] loss: 0.845\n",
            "[19,    40] loss: 0.846\n",
            "[19,    50] loss: 0.826\n",
            "[19,    60] loss: 0.806\n",
            "[19,    70] loss: 0.823\n",
            "[19,    80] loss: 0.867\n",
            "[19,    90] loss: 0.852\n",
            "[19,   100] loss: 0.825\n",
            "[19,   110] loss: 0.834\n",
            "[19,   120] loss: 0.892\n",
            "[19,   130] loss: 0.874\n",
            "[19,   140] loss: 0.815\n",
            "[19,   150] loss: 0.856\n",
            "[19,   160] loss: 0.839\n",
            "[19,   170] loss: 0.860\n",
            "[19,   180] loss: 0.897\n",
            "[19,   190] loss: 0.843\n",
            "[19,   200] loss: 0.813\n",
            "[19,   210] loss: 0.851\n",
            "[19,   220] loss: 0.783\n",
            "[19,   230] loss: 0.844\n",
            "[19,   240] loss: 0.876\n",
            "[19,   250] loss: 0.852\n",
            "[19,   260] loss: 0.844\n",
            "[19,   270] loss: 0.861\n",
            "[19,   280] loss: 0.888\n",
            "Validating\n",
            "[19,    10] loss: 1.084\n",
            "[19,    20] loss: 1.076\n",
            "[19,    30] loss: 1.073\n",
            "Training\n",
            "[20,    10] loss: 0.781\n",
            "[20,    20] loss: 0.804\n",
            "[20,    30] loss: 0.812\n",
            "[20,    40] loss: 0.754\n",
            "[20,    50] loss: 0.778\n",
            "[20,    60] loss: 0.776\n",
            "[20,    70] loss: 0.771\n",
            "[20,    80] loss: 0.775\n",
            "[20,    90] loss: 0.807\n",
            "[20,   100] loss: 0.800\n",
            "[20,   110] loss: 0.844\n",
            "[20,   120] loss: 0.790\n",
            "[20,   130] loss: 0.762\n",
            "[20,   140] loss: 0.821\n",
            "[20,   150] loss: 0.723\n",
            "[20,   160] loss: 0.798\n",
            "[20,   170] loss: 0.755\n",
            "[20,   180] loss: 0.771\n",
            "[20,   190] loss: 0.792\n",
            "[20,   200] loss: 0.829\n",
            "[20,   210] loss: 0.784\n",
            "[20,   220] loss: 0.792\n",
            "[20,   230] loss: 0.800\n",
            "[20,   240] loss: 0.798\n",
            "[20,   250] loss: 0.821\n",
            "[20,   260] loss: 0.792\n",
            "[20,   270] loss: 0.813\n",
            "[20,   280] loss: 0.869\n",
            "Validating\n",
            "[20,    10] loss: 1.144\n",
            "[20,    20] loss: 1.061\n",
            "[20,    30] loss: 1.147\n"
          ],
          "name": "stdout"
        }
      ]
    },
    {
      "cell_type": "markdown",
      "metadata": {
        "id": "th4_U34Rzb-S"
      },
      "source": [
        "##Evaluation"
      ]
    },
    {
      "cell_type": "code",
      "metadata": {
        "id": "GaGNnlXTJdeG",
        "outputId": "feb34fb8-e09e-49f5-b4eb-986e289a4e25",
        "colab": {
          "base_uri": "https://localhost:8080/",
          "height": 573
        }
      },
      "source": [
        "plt.figure()\n",
        "plt.plot(train_loss, 'g', label='Training loss')\n",
        "plt.title('Training loss')\n",
        "plt.xlabel('Iteration')\n",
        "plt.ylabel('Loss')\n",
        "plt.legend()\n",
        "plt.grid()\n",
        "plt.show()\n",
        "\n",
        "plt.figure()\n",
        "plt.plot(val_loss, 'b', label='Validation loss')\n",
        "plt.title('Validation loss')\n",
        "plt.xlabel('Iteration')\n",
        "plt.ylabel('Loss')\n",
        "plt.legend()\n",
        "plt.grid()\n",
        "plt.show()"
      ],
      "execution_count": 15,
      "outputs": [
        {
          "output_type": "display_data",
          "data": {
            "image/png": "[encoded data removed]",
            "text/plain": [
              "<Figure size 432x288 with 1 Axes>"
            ]
          },
          "metadata": {
            "tags": [],
            "needs_background": "light"
          }
        },
        {
          "output_type": "display_data",
          "data": {
            "image/png": "[encoded data removed]",
            "text/plain": [
              "<Figure size 432x288 with 1 Axes>"
            ]
          },
          "metadata": {
            "tags": [],
            "needs_background": "light"
          }
        }
      ]
    },
    {
      "cell_type": "code",
      "metadata": {
        "id": "x6wJ1rUzBupg",
        "outputId": "5e698102-508f-4423-ca58-6072ebeb2b3e",
        "colab": {
          "base_uri": "https://localhost:8080/",
          "height": 68
        }
      },
      "source": [
        "acc = []\n",
        "dataloaders = [trainloader, valloader, testloader]\n",
        "for loader in dataloaders:\n",
        "    acc.append(test_model(net, loader))\n",
        "\n",
        "print('Train Accuracy: %d %%' % (acc[0]))\n",
        "print('Val Accuracy: %d %%' % (acc[1]))\n",
        "print('Test Accuracy: %d %%' % (acc[2]))"
      ],
      "execution_count": 16,
      "outputs": [
        {
          "output_type": "stream",
          "text": [
            "Train Accuracy: 72 %\n",
            "Val Accuracy: 60 %\n",
            "Test Accuracy: 59 %\n"
          ],
          "name": "stdout"
        }
      ]
    },
    {
      "cell_type": "code",
      "metadata": {
        "id": "xPLQjXTEzHI4"
      },
      "source": [
        "torch.save(net.state_dict(), \"subnet1_59\")"
      ],
      "execution_count": 18,
      "outputs": []
    },
    {
      "cell_type": "code",
      "metadata": {
        "id": "-TM1tCmjwuGt"
      },
      "source": [
        ""
      ],
      "execution_count": 17,
      "outputs": []
    }
  ]
}